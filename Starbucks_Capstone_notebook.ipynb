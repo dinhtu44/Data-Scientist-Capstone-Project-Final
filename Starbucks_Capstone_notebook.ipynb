{
 "cells": [
  {
   "cell_type": "markdown",
   "metadata": {},
   "source": [
    "# Starbucks Capstone Challenge\n",
    "\n",
    "### Introduction\n",
    "\n",
    "This data set contains simulated data that mimics customer behavior on the Starbucks rewards mobile app. Once every few days, Starbucks sends out an offer to users of the mobile app. An offer can be merely an advertisement for a drink or an actual offer such as a discount or BOGO (buy one get one free). Some users might not receive any offer during certain weeks. \n",
    "\n",
    "Not all users receive the same offer, and that is the challenge to solve with this data set.\n",
    "\n",
    "Your task is to combine transaction, demographic and offer data to determine which demographic groups respond best to which offer type. This data set is a simplified version of the real Starbucks app because the underlying simulator only has one product whereas Starbucks actually sells dozens of products.\n",
    "\n",
    "Every offer has a validity period before the offer expires. As an example, a BOGO offer might be valid for only 5 days. You'll see in the data set that informational offers have a validity period even though these ads are merely providing information about a product; for example, if an informational offer has 7 days of validity, you can assume the customer is feeling the influence of the offer for 7 days after receiving the advertisement.\n",
    "\n",
    "You'll be given transactional data showing user purchases made on the app including the timestamp of purchase and the amount of money spent on a purchase. This transactional data also has a record for each offer that a user receives as well as a record for when a user actually views the offer. There are also records for when a user completes an offer. \n",
    "\n",
    "Keep in mind as well that someone using the app might make a purchase through the app without having received an offer or seen an offer.\n",
    "\n",
    "### Example\n",
    "\n",
    "To give an example, a user could receive a discount offer buy 10 dollars get 2 off on Monday. The offer is valid for 10 days from receipt. If the customer accumulates at least 10 dollars in purchases during the validity period, the customer completes the offer.\n",
    "\n",
    "However, there are a few things to watch out for in this data set. Customers do not opt into the offers that they receive; in other words, a user can receive an offer, never actually view the offer, and still complete the offer. For example, a user might receive the \"buy 10 dollars get 2 dollars off offer\", but the user never opens the offer during the 10 day validity period. The customer spends 15 dollars during those ten days. There will be an offer completion record in the data set; however, the customer was not influenced by the offer because the customer never viewed the offer.\n",
    "\n",
    "### Cleaning\n",
    "\n",
    "This makes data cleaning especially important and tricky.\n",
    "\n",
    "You'll also want to take into account that some demographic groups will make purchases even if they don't receive an offer. From a business perspective, if a customer is going to make a 10 dollar purchase without an offer anyway, you wouldn't want to send a buy 10 dollars get 2 dollars off offer. You'll want to try to assess what a certain demographic group will buy when not receiving any offers.\n",
    "\n",
    "### Final Advice\n",
    "\n",
    "Because this is a capstone project, you are free to analyze the data any way you see fit. For example, you could build a machine learning model that predicts how much someone will spend based on demographics and offer type. Or you could build a model that predicts whether or not someone will respond to an offer. Or, you don't need to build a machine learning model at all. You could develop a set of heuristics that determine what offer you should send to each customer (i.e., 75 percent of women customers who were 35 years old responded to offer A vs 40 percent from the same demographic to offer B, so send offer A)."
   ]
  },
  {
   "cell_type": "markdown",
   "metadata": {},
   "source": [
    "# Data Sets\n",
    "\n",
    "The data is contained in three files:\n",
    "\n",
    "* portfolio.json - containing offer ids and meta data about each offer (duration, type, etc.)\n",
    "* profile.json - demographic data for each customer\n",
    "* transcript.json - records for transactions, offers received, offers viewed, and offers completed\n",
    "\n",
    "Here is the schema and explanation of each variable in the files:\n",
    "\n",
    "**portfolio.json**\n",
    "* id (string) - offer id\n",
    "* offer_type (string) - type of offer ie BOGO, discount, informational\n",
    "* difficulty (int) - minimum required spend to complete an offer\n",
    "* reward (int) - reward given for completing an offer\n",
    "* duration (int) - time for offer to be open, in days\n",
    "* channels (list of strings)\n",
    "\n",
    "**profile.json**\n",
    "* age (int) - age of the customer \n",
    "* became_member_on (int) - date when customer created an app account\n",
    "* gender (str) - gender of the customer (note some entries contain 'O' for other rather than M or F)\n",
    "* id (str) - customer id\n",
    "* income (float) - customer's income\n",
    "\n",
    "**transcript.json**\n",
    "* event (str) - record description (ie transaction, offer received, offer viewed, etc.)\n",
    "* person (str) - customer id\n",
    "* time (int) - time in hours since start of test. The data begins at time t=0\n",
    "* value - (dict of strings) - either an offer id or transaction amount depending on the record\n",
    "\n",
    "**Note:** If you are using the workspace, you will need to go to the terminal and run the command `conda update pandas` before reading in the files. This is because the version of pandas in the workspace cannot read in the transcript.json file correctly, but the newest version of pandas can. You can access the termnal from the orange icon in the top left of this notebook.  \n",
    "\n",
    "You can see how to access the terminal and how the install works using the two images below.  First you need to access the terminal:\n",
    "\n",
    "<img src=\"pic1.png\"/>\n",
    "\n",
    "Then you will want to run the above command:\n",
    "\n",
    "<img src=\"pic2.png\"/>\n",
    "\n",
    "Finally, when you enter back into the notebook (use the jupyter icon again), you should be able to run the below cell without any errors."
   ]
  },
  {
   "cell_type": "markdown",
   "metadata": {},
   "source": [
    "## Imports & load in data"
   ]
  },
  {
   "cell_type": "code",
   "execution_count": 1,
   "metadata": {},
   "outputs": [],
   "source": [
    "import pandas as pd\n",
    "import numpy as np\n",
    "import math\n",
    "import json\n",
    "from sklearn.model_selection import train_test_split\n",
    "from sklearn.preprocessing import StandardScaler\n",
    "from sklearn.tree import DecisionTreeClassifier\n",
    "from sklearn.ensemble import RandomForestClassifier\n",
    "from sklearn.preprocessing import PolynomialFeatures\n",
    "from sklearn.metrics import mean_squared_error\n",
    "from sklearn.metrics import classification_report\n",
    "from time import time\n",
    "from sklearn.model_selection import GridSearchCV\n",
    "import matplotlib.pyplot as plt\n",
    "from sklearn.linear_model import Ridge\n",
    "from sklearn.tree import DecisionTreeRegressor\n",
    "%matplotlib inline\n",
    "\n",
    "# read in the json files\n",
    "portfolio = pd.read_json('data/portfolio.json', orient='records', lines=True)\n",
    "profile = pd.read_json('data/profile.json', orient='records', lines=True)\n",
    "transcript = pd.read_json('data/transcript.json', orient='records', lines=True)"
   ]
  },
  {
   "cell_type": "markdown",
   "metadata": {},
   "source": [
    "## Exploratory Data Analysis \n",
    "\n",
    "### a. Offer portfolio data\n",
    "\n",
    "The information given about the offers is that there are 3 different offer types:\n",
    "- BOGO - buy one get one free\n",
    "- Discount - discount with purchase\n",
    "- Informational - provides information about products\n",
    "\n",
    "It contains the attributes of 3 different offer types. While the duration was not explained I assumed from context that it is in terms of number of days."
   ]
  },
  {
   "cell_type": "code",
   "execution_count": 2,
   "metadata": {
    "scrolled": true
   },
   "outputs": [
    {
     "data": {
      "text/html": [
       "<div>\n",
       "<style scoped>\n",
       "    .dataframe tbody tr th:only-of-type {\n",
       "        vertical-align: middle;\n",
       "    }\n",
       "\n",
       "    .dataframe tbody tr th {\n",
       "        vertical-align: top;\n",
       "    }\n",
       "\n",
       "    .dataframe thead th {\n",
       "        text-align: right;\n",
       "    }\n",
       "</style>\n",
       "<table border=\"1\" class=\"dataframe\">\n",
       "  <thead>\n",
       "    <tr style=\"text-align: right;\">\n",
       "      <th></th>\n",
       "      <th>channels</th>\n",
       "      <th>difficulty</th>\n",
       "      <th>duration</th>\n",
       "      <th>id</th>\n",
       "      <th>offer_type</th>\n",
       "      <th>reward</th>\n",
       "    </tr>\n",
       "  </thead>\n",
       "  <tbody>\n",
       "    <tr>\n",
       "      <th>0</th>\n",
       "      <td>[email, mobile, social]</td>\n",
       "      <td>10</td>\n",
       "      <td>7</td>\n",
       "      <td>ae264e3637204a6fb9bb56bc8210ddfd</td>\n",
       "      <td>bogo</td>\n",
       "      <td>10</td>\n",
       "    </tr>\n",
       "    <tr>\n",
       "      <th>1</th>\n",
       "      <td>[web, email, mobile, social]</td>\n",
       "      <td>10</td>\n",
       "      <td>5</td>\n",
       "      <td>4d5c57ea9a6940dd891ad53e9dbe8da0</td>\n",
       "      <td>bogo</td>\n",
       "      <td>10</td>\n",
       "    </tr>\n",
       "    <tr>\n",
       "      <th>2</th>\n",
       "      <td>[web, email, mobile]</td>\n",
       "      <td>0</td>\n",
       "      <td>4</td>\n",
       "      <td>3f207df678b143eea3cee63160fa8bed</td>\n",
       "      <td>informational</td>\n",
       "      <td>0</td>\n",
       "    </tr>\n",
       "    <tr>\n",
       "      <th>3</th>\n",
       "      <td>[web, email, mobile]</td>\n",
       "      <td>5</td>\n",
       "      <td>7</td>\n",
       "      <td>9b98b8c7a33c4b65b9aebfe6a799e6d9</td>\n",
       "      <td>bogo</td>\n",
       "      <td>5</td>\n",
       "    </tr>\n",
       "    <tr>\n",
       "      <th>4</th>\n",
       "      <td>[web, email]</td>\n",
       "      <td>20</td>\n",
       "      <td>10</td>\n",
       "      <td>0b1e1539f2cc45b7b9fa7c272da2e1d7</td>\n",
       "      <td>discount</td>\n",
       "      <td>5</td>\n",
       "    </tr>\n",
       "  </tbody>\n",
       "</table>\n",
       "</div>"
      ],
      "text/plain": [
       "                       channels  difficulty  duration  \\\n",
       "0       [email, mobile, social]          10         7   \n",
       "1  [web, email, mobile, social]          10         5   \n",
       "2          [web, email, mobile]           0         4   \n",
       "3          [web, email, mobile]           5         7   \n",
       "4                  [web, email]          20        10   \n",
       "\n",
       "                                 id     offer_type  reward  \n",
       "0  ae264e3637204a6fb9bb56bc8210ddfd           bogo      10  \n",
       "1  4d5c57ea9a6940dd891ad53e9dbe8da0           bogo      10  \n",
       "2  3f207df678b143eea3cee63160fa8bed  informational       0  \n",
       "3  9b98b8c7a33c4b65b9aebfe6a799e6d9           bogo       5  \n",
       "4  0b1e1539f2cc45b7b9fa7c272da2e1d7       discount       5  "
      ]
     },
     "execution_count": 2,
     "metadata": {},
     "output_type": "execute_result"
    }
   ],
   "source": [
    "portfolio.head()"
   ]
  },
  {
   "cell_type": "markdown",
   "metadata": {},
   "source": [
    "The `channels` column consists of nested lists. \n",
    "The `difficulty` is in terms of dollars while the `duration` is in terms of days. \n",
    "-> Some feature scaling will need to be done."
   ]
  },
  {
   "cell_type": "code",
   "execution_count": 3,
   "metadata": {},
   "outputs": [
    {
     "data": {
      "text/plain": [
       "channels      0\n",
       "difficulty    0\n",
       "duration      0\n",
       "id            0\n",
       "offer_type    0\n",
       "reward        0\n",
       "dtype: int64"
      ]
     },
     "execution_count": 3,
     "metadata": {},
     "output_type": "execute_result"
    }
   ],
   "source": [
    "#check for null values\n",
    "portfolio.isnull().sum()"
   ]
  },
  {
   "cell_type": "markdown",
   "metadata": {},
   "source": [
    "Good news is that there are no missing values in this dataset"
   ]
  },
  {
   "cell_type": "code",
   "execution_count": 4,
   "metadata": {},
   "outputs": [
    {
     "data": {
      "text/plain": [
       "10"
      ]
     },
     "execution_count": 4,
     "metadata": {},
     "output_type": "execute_result"
    }
   ],
   "source": [
    "#check no. of unique offers\n",
    "portfolio.id.nunique()"
   ]
  },
  {
   "cell_type": "code",
   "execution_count": 5,
   "metadata": {},
   "outputs": [
    {
     "data": {
      "text/plain": [
       "offer_type\n",
       "bogo             4\n",
       "discount         4\n",
       "informational    2\n",
       "Name: id, dtype: int64"
      ]
     },
     "execution_count": 5,
     "metadata": {},
     "output_type": "execute_result"
    }
   ],
   "source": [
    "portfolio.groupby('offer_type')['id'].count()"
   ]
  },
  {
   "cell_type": "markdown",
   "metadata": {},
   "source": [
    "There are 10 unique offer ids we will have to take note of, with 4 each of bogo and discount types, while 2 informational types."
   ]
  },
  {
   "cell_type": "markdown",
   "metadata": {},
   "source": [
    "### b. Demographic data\n",
    "\n",
    "The Demographic data for customers is provided in the `profile` dataset.\n",
    "\n",
    "It is also relatively straightforward, as it contains the demographic profile on the customer."
   ]
  },
  {
   "cell_type": "code",
   "execution_count": 6,
   "metadata": {},
   "outputs": [
    {
     "data": {
      "text/html": [
       "<div>\n",
       "<style scoped>\n",
       "    .dataframe tbody tr th:only-of-type {\n",
       "        vertical-align: middle;\n",
       "    }\n",
       "\n",
       "    .dataframe tbody tr th {\n",
       "        vertical-align: top;\n",
       "    }\n",
       "\n",
       "    .dataframe thead th {\n",
       "        text-align: right;\n",
       "    }\n",
       "</style>\n",
       "<table border=\"1\" class=\"dataframe\">\n",
       "  <thead>\n",
       "    <tr style=\"text-align: right;\">\n",
       "      <th></th>\n",
       "      <th>age</th>\n",
       "      <th>became_member_on</th>\n",
       "      <th>gender</th>\n",
       "      <th>id</th>\n",
       "      <th>income</th>\n",
       "    </tr>\n",
       "  </thead>\n",
       "  <tbody>\n",
       "    <tr>\n",
       "      <th>0</th>\n",
       "      <td>118</td>\n",
       "      <td>20170212</td>\n",
       "      <td>None</td>\n",
       "      <td>68be06ca386d4c31939f3a4f0e3dd783</td>\n",
       "      <td>NaN</td>\n",
       "    </tr>\n",
       "    <tr>\n",
       "      <th>1</th>\n",
       "      <td>55</td>\n",
       "      <td>20170715</td>\n",
       "      <td>F</td>\n",
       "      <td>0610b486422d4921ae7d2bf64640c50b</td>\n",
       "      <td>112000.0</td>\n",
       "    </tr>\n",
       "    <tr>\n",
       "      <th>2</th>\n",
       "      <td>118</td>\n",
       "      <td>20180712</td>\n",
       "      <td>None</td>\n",
       "      <td>38fe809add3b4fcf9315a9694bb96ff5</td>\n",
       "      <td>NaN</td>\n",
       "    </tr>\n",
       "    <tr>\n",
       "      <th>3</th>\n",
       "      <td>75</td>\n",
       "      <td>20170509</td>\n",
       "      <td>F</td>\n",
       "      <td>78afa995795e4d85b5d9ceeca43f5fef</td>\n",
       "      <td>100000.0</td>\n",
       "    </tr>\n",
       "    <tr>\n",
       "      <th>4</th>\n",
       "      <td>118</td>\n",
       "      <td>20170804</td>\n",
       "      <td>None</td>\n",
       "      <td>a03223e636434f42ac4c3df47e8bac43</td>\n",
       "      <td>NaN</td>\n",
       "    </tr>\n",
       "  </tbody>\n",
       "</table>\n",
       "</div>"
      ],
      "text/plain": [
       "   age  became_member_on gender                                id    income\n",
       "0  118          20170212   None  68be06ca386d4c31939f3a4f0e3dd783       NaN\n",
       "1   55          20170715      F  0610b486422d4921ae7d2bf64640c50b  112000.0\n",
       "2  118          20180712   None  38fe809add3b4fcf9315a9694bb96ff5       NaN\n",
       "3   75          20170509      F  78afa995795e4d85b5d9ceeca43f5fef  100000.0\n",
       "4  118          20170804   None  a03223e636434f42ac4c3df47e8bac43       NaN"
      ]
     },
     "execution_count": 6,
     "metadata": {},
     "output_type": "execute_result"
    }
   ],
   "source": [
    "profile.head()"
   ]
  },
  {
   "cell_type": "markdown",
   "metadata": {},
   "source": [
    "We can see some null values in `gender` and `income`, while the `age` column contains some values that don't make sense (e.g. 118)."
   ]
  },
  {
   "cell_type": "code",
   "execution_count": 7,
   "metadata": {},
   "outputs": [
    {
     "data": {
      "text/plain": [
       "age                    0\n",
       "became_member_on       0\n",
       "gender              2175\n",
       "id                     0\n",
       "income              2175\n",
       "dtype: int64"
      ]
     },
     "execution_count": 7,
     "metadata": {},
     "output_type": "execute_result"
    }
   ],
   "source": [
    "#check for null values\n",
    "profile.isnull().sum()"
   ]
  },
  {
   "cell_type": "markdown",
   "metadata": {},
   "source": [
    "The `gender` and `income` have null values. Some good news is that whichever values are null in `gender` are also null in `income`. "
   ]
  },
  {
   "cell_type": "code",
   "execution_count": 8,
   "metadata": {},
   "outputs": [
    {
     "data": {
      "text/plain": [
       "<matplotlib.axes._subplots.AxesSubplot at 0x7fdfae49b9e8>"
      ]
     },
     "execution_count": 8,
     "metadata": {},
     "output_type": "execute_result"
    },
    {
     "data": {
      "image/png": "[encoded data removed]",
      "text/plain": [
       "<matplotlib.figure.Figure at 0x7fdfae49b080>"
      ]
     },
     "metadata": {
      "needs_background": "light"
     },
     "output_type": "display_data"
    }
   ],
   "source": [
    "#check distribution of age column\n",
    "profile.age.hist()"
   ]
  },
  {
   "cell_type": "markdown",
   "metadata": {},
   "source": [
    "We can see above that the `age = 118` value does not make sense there as it is clearly out of the normal distribution."
   ]
  },
  {
   "cell_type": "code",
   "execution_count": 9,
   "metadata": {},
   "outputs": [
    {
     "name": "stdout",
     "output_type": "stream",
     "text": [
      "age                 2175\n",
      "became_member_on    2175\n",
      "gender                 0\n",
      "id                  2175\n",
      "income                 0\n",
      "dtype: int64\n"
     ]
    },
    {
     "data": {
      "text/html": [
       "<div>\n",
       "<style scoped>\n",
       "    .dataframe tbody tr th:only-of-type {\n",
       "        vertical-align: middle;\n",
       "    }\n",
       "\n",
       "    .dataframe tbody tr th {\n",
       "        vertical-align: top;\n",
       "    }\n",
       "\n",
       "    .dataframe thead th {\n",
       "        text-align: right;\n",
       "    }\n",
       "</style>\n",
       "<table border=\"1\" class=\"dataframe\">\n",
       "  <thead>\n",
       "    <tr style=\"text-align: right;\">\n",
       "      <th></th>\n",
       "      <th>gender</th>\n",
       "      <th>income</th>\n",
       "      <th>age</th>\n",
       "    </tr>\n",
       "  </thead>\n",
       "  <tbody>\n",
       "    <tr>\n",
       "      <th>0</th>\n",
       "      <td>None</td>\n",
       "      <td>NaN</td>\n",
       "      <td>118</td>\n",
       "    </tr>\n",
       "    <tr>\n",
       "      <th>2</th>\n",
       "      <td>None</td>\n",
       "      <td>NaN</td>\n",
       "      <td>118</td>\n",
       "    </tr>\n",
       "    <tr>\n",
       "      <th>4</th>\n",
       "      <td>None</td>\n",
       "      <td>NaN</td>\n",
       "      <td>118</td>\n",
       "    </tr>\n",
       "    <tr>\n",
       "      <th>6</th>\n",
       "      <td>None</td>\n",
       "      <td>NaN</td>\n",
       "      <td>118</td>\n",
       "    </tr>\n",
       "    <tr>\n",
       "      <th>7</th>\n",
       "      <td>None</td>\n",
       "      <td>NaN</td>\n",
       "      <td>118</td>\n",
       "    </tr>\n",
       "  </tbody>\n",
       "</table>\n",
       "</div>"
      ],
      "text/plain": [
       "  gender  income  age\n",
       "0   None     NaN  118\n",
       "2   None     NaN  118\n",
       "4   None     NaN  118\n",
       "6   None     NaN  118\n",
       "7   None     NaN  118"
      ]
     },
     "execution_count": 9,
     "metadata": {},
     "output_type": "execute_result"
    }
   ],
   "source": [
    "#check count of age=118 value and corresponding gender and income columns\n",
    "print(profile[profile['age']==118].count())\n",
    "profile[['gender','income','age']][profile['age']==118].head()"
   ]
  },
  {
   "cell_type": "markdown",
   "metadata": {},
   "source": [
    "The `age=118` column corresponds with the null `gender` and `income` columns.\n",
    "\n",
    "-> We can actually drop them during preprocessing if they do not take too large a proportion of our data."
   ]
  },
  {
   "cell_type": "code",
   "execution_count": 10,
   "metadata": {},
   "outputs": [
    {
     "data": {
      "text/plain": [
       "17000"
      ]
     },
     "execution_count": 10,
     "metadata": {},
     "output_type": "execute_result"
    }
   ],
   "source": [
    "#check how many unique people are in dataset\n",
    "profile['id'].nunique()"
   ]
  },
  {
   "cell_type": "code",
   "execution_count": 11,
   "metadata": {},
   "outputs": [
    {
     "data": {
      "text/plain": [
       "<matplotlib.axes._subplots.AxesSubplot at 0x7fdffc2b6ba8>"
      ]
     },
     "execution_count": 11,
     "metadata": {},
     "output_type": "execute_result"
    },
    {
     "data": {
      "image/png": "[encoded data removed]",
      "text/plain": [
       "<matplotlib.figure.Figure at 0x7fdfae425908>"
      ]
     },
     "metadata": {
      "needs_background": "light"
     },
     "output_type": "display_data"
    }
   ],
   "source": [
    "#check distributions of income\n",
    "profile.income.hist()"
   ]
  },
  {
   "cell_type": "markdown",
   "metadata": {},
   "source": [
    "The `became_member_on` column has some potential to be feature engineered to get the tenure of membership in days. \n",
    "\n",
    "-> This feature might have some influence on whether an offer is effective or not."
   ]
  },
  {
   "cell_type": "code",
   "execution_count": 12,
   "metadata": {},
   "outputs": [
    {
     "data": {
      "text/plain": [
       "0    20170212\n",
       "1    20170715\n",
       "2    20180712\n",
       "3    20170509\n",
       "4    20170804\n",
       "Name: became_member_on, dtype: int64"
      ]
     },
     "execution_count": 12,
     "metadata": {},
     "output_type": "execute_result"
    }
   ],
   "source": [
    "profile.became_member_on.head()"
   ]
  },
  {
   "cell_type": "markdown",
   "metadata": {},
   "source": [
    "### c. Transactional records\n",
    "\n",
    "The schema for the transactional data "
   ]
  },
  {
   "cell_type": "code",
   "execution_count": 13,
   "metadata": {},
   "outputs": [
    {
     "data": {
      "text/html": [
       "<div>\n",
       "<style scoped>\n",
       "    .dataframe tbody tr th:only-of-type {\n",
       "        vertical-align: middle;\n",
       "    }\n",
       "\n",
       "    .dataframe tbody tr th {\n",
       "        vertical-align: top;\n",
       "    }\n",
       "\n",
       "    .dataframe thead th {\n",
       "        text-align: right;\n",
       "    }\n",
       "</style>\n",
       "<table border=\"1\" class=\"dataframe\">\n",
       "  <thead>\n",
       "    <tr style=\"text-align: right;\">\n",
       "      <th></th>\n",
       "      <th>event</th>\n",
       "      <th>person</th>\n",
       "      <th>time</th>\n",
       "      <th>value</th>\n",
       "    </tr>\n",
       "  </thead>\n",
       "  <tbody>\n",
       "    <tr>\n",
       "      <th>0</th>\n",
       "      <td>offer received</td>\n",
       "      <td>78afa995795e4d85b5d9ceeca43f5fef</td>\n",
       "      <td>0</td>\n",
       "      <td>{'offer id': '9b98b8c7a33c4b65b9aebfe6a799e6d9'}</td>\n",
       "    </tr>\n",
       "    <tr>\n",
       "      <th>1</th>\n",
       "      <td>offer received</td>\n",
       "      <td>a03223e636434f42ac4c3df47e8bac43</td>\n",
       "      <td>0</td>\n",
       "      <td>{'offer id': '0b1e1539f2cc45b7b9fa7c272da2e1d7'}</td>\n",
       "    </tr>\n",
       "    <tr>\n",
       "      <th>2</th>\n",
       "      <td>offer received</td>\n",
       "      <td>e2127556f4f64592b11af22de27a7932</td>\n",
       "      <td>0</td>\n",
       "      <td>{'offer id': '2906b810c7d4411798c6938adc9daaa5'}</td>\n",
       "    </tr>\n",
       "    <tr>\n",
       "      <th>3</th>\n",
       "      <td>offer received</td>\n",
       "      <td>8ec6ce2a7e7949b1bf142def7d0e0586</td>\n",
       "      <td>0</td>\n",
       "      <td>{'offer id': 'fafdcd668e3743c1bb461111dcafc2a4'}</td>\n",
       "    </tr>\n",
       "    <tr>\n",
       "      <th>4</th>\n",
       "      <td>offer received</td>\n",
       "      <td>68617ca6246f4fbc85e91a2a49552598</td>\n",
       "      <td>0</td>\n",
       "      <td>{'offer id': '4d5c57ea9a6940dd891ad53e9dbe8da0'}</td>\n",
       "    </tr>\n",
       "  </tbody>\n",
       "</table>\n",
       "</div>"
      ],
      "text/plain": [
       "            event                            person  time  \\\n",
       "0  offer received  78afa995795e4d85b5d9ceeca43f5fef     0   \n",
       "1  offer received  a03223e636434f42ac4c3df47e8bac43     0   \n",
       "2  offer received  e2127556f4f64592b11af22de27a7932     0   \n",
       "3  offer received  8ec6ce2a7e7949b1bf142def7d0e0586     0   \n",
       "4  offer received  68617ca6246f4fbc85e91a2a49552598     0   \n",
       "\n",
       "                                              value  \n",
       "0  {'offer id': '9b98b8c7a33c4b65b9aebfe6a799e6d9'}  \n",
       "1  {'offer id': '0b1e1539f2cc45b7b9fa7c272da2e1d7'}  \n",
       "2  {'offer id': '2906b810c7d4411798c6938adc9daaa5'}  \n",
       "3  {'offer id': 'fafdcd668e3743c1bb461111dcafc2a4'}  \n",
       "4  {'offer id': '4d5c57ea9a6940dd891ad53e9dbe8da0'}  "
      ]
     },
     "execution_count": 13,
     "metadata": {},
     "output_type": "execute_result"
    }
   ],
   "source": [
    "transcript.head()"
   ]
  },
  {
   "cell_type": "code",
   "execution_count": 14,
   "metadata": {},
   "outputs": [
    {
     "data": {
      "text/plain": [
       "array(['offer received', 'offer viewed', 'transaction', 'offer completed'], dtype=object)"
      ]
     },
     "execution_count": 14,
     "metadata": {},
     "output_type": "execute_result"
    }
   ],
   "source": [
    "transcript.event.unique()"
   ]
  },
  {
   "cell_type": "markdown",
   "metadata": {},
   "source": [
    "This data looks a bit more tricky, as it is ordered by time and has an event and value. \n",
    "\n",
    "-> The `value` column will have to be preprocessed depending on the event."
   ]
  },
  {
   "cell_type": "code",
   "execution_count": 15,
   "metadata": {},
   "outputs": [
    {
     "data": {
      "text/plain": [
       "17000"
      ]
     },
     "execution_count": 15,
     "metadata": {},
     "output_type": "execute_result"
    }
   ],
   "source": [
    "#check number of unique people represented\n",
    "transcript['person'].nunique()"
   ]
  },
  {
   "cell_type": "markdown",
   "metadata": {},
   "source": [
    "It looks as though the number of people in transcript are the same as the number of people in the Demographics Data"
   ]
  },
  {
   "cell_type": "code",
   "execution_count": 16,
   "metadata": {},
   "outputs": [
    {
     "data": {
      "text/plain": [
       "event     0\n",
       "person    0\n",
       "time      0\n",
       "value     0\n",
       "dtype: int64"
      ]
     },
     "execution_count": 16,
     "metadata": {},
     "output_type": "execute_result"
    }
   ],
   "source": [
    "#check for null values\n",
    "transcript.isnull().sum()"
   ]
  },
  {
   "cell_type": "markdown",
   "metadata": {},
   "source": [
    "There are no null values in this data.\n",
    "\n",
    "In order to extract insights from the value column, I expand the values into individual columns depending on the event."
   ]
  },
  {
   "cell_type": "code",
   "execution_count": 17,
   "metadata": {},
   "outputs": [
    {
     "data": {
      "text/html": [
       "<div>\n",
       "<style scoped>\n",
       "    .dataframe tbody tr th:only-of-type {\n",
       "        vertical-align: middle;\n",
       "    }\n",
       "\n",
       "    .dataframe tbody tr th {\n",
       "        vertical-align: top;\n",
       "    }\n",
       "\n",
       "    .dataframe thead th {\n",
       "        text-align: right;\n",
       "    }\n",
       "</style>\n",
       "<table border=\"1\" class=\"dataframe\">\n",
       "  <thead>\n",
       "    <tr style=\"text-align: right;\">\n",
       "      <th></th>\n",
       "      <th>event</th>\n",
       "      <th>person</th>\n",
       "      <th>time</th>\n",
       "      <th>value</th>\n",
       "      <th>offer id</th>\n",
       "      <th>amount</th>\n",
       "      <th>offer_id</th>\n",
       "      <th>reward</th>\n",
       "    </tr>\n",
       "  </thead>\n",
       "  <tbody>\n",
       "    <tr>\n",
       "      <th>0</th>\n",
       "      <td>offer received</td>\n",
       "      <td>78afa995795e4d85b5d9ceeca43f5fef</td>\n",
       "      <td>0</td>\n",
       "      <td>{'offer id': '9b98b8c7a33c4b65b9aebfe6a799e6d9'}</td>\n",
       "      <td>9b98b8c7a33c4b65b9aebfe6a799e6d9</td>\n",
       "      <td>NaN</td>\n",
       "      <td>NaN</td>\n",
       "      <td>NaN</td>\n",
       "    </tr>\n",
       "    <tr>\n",
       "      <th>1</th>\n",
       "      <td>offer received</td>\n",
       "      <td>a03223e636434f42ac4c3df47e8bac43</td>\n",
       "      <td>0</td>\n",
       "      <td>{'offer id': '0b1e1539f2cc45b7b9fa7c272da2e1d7'}</td>\n",
       "      <td>0b1e1539f2cc45b7b9fa7c272da2e1d7</td>\n",
       "      <td>NaN</td>\n",
       "      <td>NaN</td>\n",
       "      <td>NaN</td>\n",
       "    </tr>\n",
       "    <tr>\n",
       "      <th>2</th>\n",
       "      <td>offer received</td>\n",
       "      <td>e2127556f4f64592b11af22de27a7932</td>\n",
       "      <td>0</td>\n",
       "      <td>{'offer id': '2906b810c7d4411798c6938adc9daaa5'}</td>\n",
       "      <td>2906b810c7d4411798c6938adc9daaa5</td>\n",
       "      <td>NaN</td>\n",
       "      <td>NaN</td>\n",
       "      <td>NaN</td>\n",
       "    </tr>\n",
       "    <tr>\n",
       "      <th>3</th>\n",
       "      <td>offer received</td>\n",
       "      <td>8ec6ce2a7e7949b1bf142def7d0e0586</td>\n",
       "      <td>0</td>\n",
       "      <td>{'offer id': 'fafdcd668e3743c1bb461111dcafc2a4'}</td>\n",
       "      <td>fafdcd668e3743c1bb461111dcafc2a4</td>\n",
       "      <td>NaN</td>\n",
       "      <td>NaN</td>\n",
       "      <td>NaN</td>\n",
       "    </tr>\n",
       "    <tr>\n",
       "      <th>4</th>\n",
       "      <td>offer received</td>\n",
       "      <td>68617ca6246f4fbc85e91a2a49552598</td>\n",
       "      <td>0</td>\n",
       "      <td>{'offer id': '4d5c57ea9a6940dd891ad53e9dbe8da0'}</td>\n",
       "      <td>4d5c57ea9a6940dd891ad53e9dbe8da0</td>\n",
       "      <td>NaN</td>\n",
       "      <td>NaN</td>\n",
       "      <td>NaN</td>\n",
       "    </tr>\n",
       "  </tbody>\n",
       "</table>\n",
       "</div>"
      ],
      "text/plain": [
       "            event                            person  time  \\\n",
       "0  offer received  78afa995795e4d85b5d9ceeca43f5fef     0   \n",
       "1  offer received  a03223e636434f42ac4c3df47e8bac43     0   \n",
       "2  offer received  e2127556f4f64592b11af22de27a7932     0   \n",
       "3  offer received  8ec6ce2a7e7949b1bf142def7d0e0586     0   \n",
       "4  offer received  68617ca6246f4fbc85e91a2a49552598     0   \n",
       "\n",
       "                                              value  \\\n",
       "0  {'offer id': '9b98b8c7a33c4b65b9aebfe6a799e6d9'}   \n",
       "1  {'offer id': '0b1e1539f2cc45b7b9fa7c272da2e1d7'}   \n",
       "2  {'offer id': '2906b810c7d4411798c6938adc9daaa5'}   \n",
       "3  {'offer id': 'fafdcd668e3743c1bb461111dcafc2a4'}   \n",
       "4  {'offer id': '4d5c57ea9a6940dd891ad53e9dbe8da0'}   \n",
       "\n",
       "                           offer id  amount offer_id  reward  \n",
       "0  9b98b8c7a33c4b65b9aebfe6a799e6d9     NaN      NaN     NaN  \n",
       "1  0b1e1539f2cc45b7b9fa7c272da2e1d7     NaN      NaN     NaN  \n",
       "2  2906b810c7d4411798c6938adc9daaa5     NaN      NaN     NaN  \n",
       "3  fafdcd668e3743c1bb461111dcafc2a4     NaN      NaN     NaN  \n",
       "4  4d5c57ea9a6940dd891ad53e9dbe8da0     NaN      NaN     NaN  "
      ]
     },
     "execution_count": 17,
     "metadata": {},
     "output_type": "execute_result"
    }
   ],
   "source": [
    "transcript=pd.concat([transcript, transcript['value'].apply(pd.Series)], axis=1)\n",
    "transcript.head()"
   ]
  },
  {
   "cell_type": "markdown",
   "metadata": {},
   "source": [
    "The `offer id` column ended up being duplicates so we have to clean it up further to ensure there is only one `offer id` column."
   ]
  },
  {
   "cell_type": "code",
   "execution_count": 18,
   "metadata": {},
   "outputs": [],
   "source": [
    "#create new column to ensure only one offer_id column\n",
    "transcript['offer_id_new']=np.where(transcript['offer id'].isnull() & transcript['offer_id'].notnull(),transcript['offer_id'],transcript['offer id'])\n",
    "\n",
    "#drop unnecessary offer_id columns\n",
    "transcript.drop(['offer id','offer_id'],axis=1,inplace=True)\n",
    "\n",
    "#rename offer_id column\n",
    "transcript.rename(columns={'offer_id_new':'offer_id'},inplace=True)"
   ]
  },
  {
   "cell_type": "code",
   "execution_count": 19,
   "metadata": {
    "scrolled": true
   },
   "outputs": [
    {
     "data": {
      "text/html": [
       "<div>\n",
       "<style scoped>\n",
       "    .dataframe tbody tr th:only-of-type {\n",
       "        vertical-align: middle;\n",
       "    }\n",
       "\n",
       "    .dataframe tbody tr th {\n",
       "        vertical-align: top;\n",
       "    }\n",
       "\n",
       "    .dataframe thead th {\n",
       "        text-align: right;\n",
       "    }\n",
       "</style>\n",
       "<table border=\"1\" class=\"dataframe\">\n",
       "  <thead>\n",
       "    <tr style=\"text-align: right;\">\n",
       "      <th></th>\n",
       "      <th>event</th>\n",
       "      <th>person</th>\n",
       "      <th>time</th>\n",
       "      <th>value</th>\n",
       "      <th>amount</th>\n",
       "      <th>reward</th>\n",
       "      <th>offer_id</th>\n",
       "    </tr>\n",
       "  </thead>\n",
       "  <tbody>\n",
       "    <tr>\n",
       "      <th>0</th>\n",
       "      <td>offer received</td>\n",
       "      <td>78afa995795e4d85b5d9ceeca43f5fef</td>\n",
       "      <td>0</td>\n",
       "      <td>{'offer id': '9b98b8c7a33c4b65b9aebfe6a799e6d9'}</td>\n",
       "      <td>NaN</td>\n",
       "      <td>NaN</td>\n",
       "      <td>9b98b8c7a33c4b65b9aebfe6a799e6d9</td>\n",
       "    </tr>\n",
       "    <tr>\n",
       "      <th>1</th>\n",
       "      <td>offer received</td>\n",
       "      <td>a03223e636434f42ac4c3df47e8bac43</td>\n",
       "      <td>0</td>\n",
       "      <td>{'offer id': '0b1e1539f2cc45b7b9fa7c272da2e1d7'}</td>\n",
       "      <td>NaN</td>\n",
       "      <td>NaN</td>\n",
       "      <td>0b1e1539f2cc45b7b9fa7c272da2e1d7</td>\n",
       "    </tr>\n",
       "    <tr>\n",
       "      <th>2</th>\n",
       "      <td>offer received</td>\n",
       "      <td>e2127556f4f64592b11af22de27a7932</td>\n",
       "      <td>0</td>\n",
       "      <td>{'offer id': '2906b810c7d4411798c6938adc9daaa5'}</td>\n",
       "      <td>NaN</td>\n",
       "      <td>NaN</td>\n",
       "      <td>2906b810c7d4411798c6938adc9daaa5</td>\n",
       "    </tr>\n",
       "    <tr>\n",
       "      <th>3</th>\n",
       "      <td>offer received</td>\n",
       "      <td>8ec6ce2a7e7949b1bf142def7d0e0586</td>\n",
       "      <td>0</td>\n",
       "      <td>{'offer id': 'fafdcd668e3743c1bb461111dcafc2a4'}</td>\n",
       "      <td>NaN</td>\n",
       "      <td>NaN</td>\n",
       "      <td>fafdcd668e3743c1bb461111dcafc2a4</td>\n",
       "    </tr>\n",
       "    <tr>\n",
       "      <th>4</th>\n",
       "      <td>offer received</td>\n",
       "      <td>68617ca6246f4fbc85e91a2a49552598</td>\n",
       "      <td>0</td>\n",
       "      <td>{'offer id': '4d5c57ea9a6940dd891ad53e9dbe8da0'}</td>\n",
       "      <td>NaN</td>\n",
       "      <td>NaN</td>\n",
       "      <td>4d5c57ea9a6940dd891ad53e9dbe8da0</td>\n",
       "    </tr>\n",
       "  </tbody>\n",
       "</table>\n",
       "</div>"
      ],
      "text/plain": [
       "            event                            person  time  \\\n",
       "0  offer received  78afa995795e4d85b5d9ceeca43f5fef     0   \n",
       "1  offer received  a03223e636434f42ac4c3df47e8bac43     0   \n",
       "2  offer received  e2127556f4f64592b11af22de27a7932     0   \n",
       "3  offer received  8ec6ce2a7e7949b1bf142def7d0e0586     0   \n",
       "4  offer received  68617ca6246f4fbc85e91a2a49552598     0   \n",
       "\n",
       "                                              value  amount  reward  \\\n",
       "0  {'offer id': '9b98b8c7a33c4b65b9aebfe6a799e6d9'}     NaN     NaN   \n",
       "1  {'offer id': '0b1e1539f2cc45b7b9fa7c272da2e1d7'}     NaN     NaN   \n",
       "2  {'offer id': '2906b810c7d4411798c6938adc9daaa5'}     NaN     NaN   \n",
       "3  {'offer id': 'fafdcd668e3743c1bb461111dcafc2a4'}     NaN     NaN   \n",
       "4  {'offer id': '4d5c57ea9a6940dd891ad53e9dbe8da0'}     NaN     NaN   \n",
       "\n",
       "                           offer_id  \n",
       "0  9b98b8c7a33c4b65b9aebfe6a799e6d9  \n",
       "1  0b1e1539f2cc45b7b9fa7c272da2e1d7  \n",
       "2  2906b810c7d4411798c6938adc9daaa5  \n",
       "3  fafdcd668e3743c1bb461111dcafc2a4  \n",
       "4  4d5c57ea9a6940dd891ad53e9dbe8da0  "
      ]
     },
     "execution_count": 19,
     "metadata": {},
     "output_type": "execute_result"
    }
   ],
   "source": [
    "transcript.head()"
   ]
  },
  {
   "cell_type": "markdown",
   "metadata": {},
   "source": [
    "The additional transcript columns can be used for further exploration."
   ]
  },
  {
   "cell_type": "markdown",
   "metadata": {},
   "source": [
    "## Defining approach for preprocessing data for the model\n",
    "\n",
    "I would clean and prepare the data for the models I intended to build.In order to identify the main drivers of an effective offer, I have to first define what an 'effective' offer is within the Starbucks app.\n",
    "\n",
    "So first, I had to explore what kind of events are within each offer type."
   ]
  },
  {
   "cell_type": "code",
   "execution_count": 20,
   "metadata": {},
   "outputs": [],
   "source": [
    "#rename column\n",
    "portfolio.rename(columns={'id':'offer_id'},inplace=True)\n",
    "\n",
    "#join transcript with offer type\n",
    "transcript=transcript.merge(portfolio,how='left',on='offer_id')"
   ]
  },
  {
   "cell_type": "code",
   "execution_count": 21,
   "metadata": {},
   "outputs": [
    {
     "data": {
      "text/plain": [
       "event            offer_type   \n",
       "offer completed  bogo             15669\n",
       "                 discount         17910\n",
       "offer received   bogo             30499\n",
       "                 discount         30543\n",
       "                 informational    15235\n",
       "offer viewed     bogo             25449\n",
       "                 discount         21445\n",
       "                 informational    10831\n",
       "Name: offer_type, dtype: int64"
      ]
     },
     "execution_count": 21,
     "metadata": {},
     "output_type": "execute_result"
    }
   ],
   "source": [
    "transcript.groupby(['event','offer_type'])['offer_type'].count()"
   ]
  },
  {
   "cell_type": "markdown",
   "metadata": {},
   "source": [
    "There are 4 types of events: `offer completed`, `offer received`, `offer viewed` and `transaction`.\n",
    "But the data shows that we do not have any offer_id associated with `transactions`,\n",
    "\n",
    "\n",
    "For a BOGO, the following events were recorded in the right sequence in time:\n",
    "\n",
    "`offer received` -> `offer viewed` -> `transaction` -> `offer completed`\n",
    "\n",
    "The `offer completed` event associated with it, I will have to define transactions as a conversion to effective offer:\n",
    "\n",
    "`offer received` -> `offer viewed` -> `transaction`"
   ]
  },
  {
   "cell_type": "markdown",
   "metadata": {},
   "source": [
    "## Data Preprocessing\n",
    "\n",
    "### a. Process Offer ids to transactions\n",
    "\n",
    "After defining the approach above, we now have to explore methods to assign offer_ids to specific transactions. "
   ]
  },
  {
   "cell_type": "code",
   "execution_count": 22,
   "metadata": {},
   "outputs": [],
   "source": [
    "#define dropcolumns function as I will be doing this many times\n",
    "def drop_cols(drop_cols,df,inplace=False):\n",
    "    '''\n",
    "    inputs:\n",
    "    - drop_cols: list or string of column name\n",
    "    - df: dataframe from which column should\n",
    "    - inplace: specify whether columns\n",
    "    \n",
    "    outputs:\n",
    "    - Returns dataframe with dropped columns.\n",
    "       \n",
    "    '''\n",
    "    df=df.drop(columns=drop_cols,axis=1,inplace=inplace)\n",
    "    return df"
   ]
  },
  {
   "cell_type": "code",
   "execution_count": 23,
   "metadata": {},
   "outputs": [],
   "source": [
    "#drop unnecessary columns to clean dataset\n",
    "transcript=drop_cols(['reward_x','reward_y'],transcript)\n",
    "#sort events by person and time\n",
    "transcript=transcript.sort_values(['person','time'])"
   ]
  },
  {
   "cell_type": "code",
   "execution_count": 24,
   "metadata": {},
   "outputs": [],
   "source": [
    "#filter dataset for transactions that occur after an offer is viewed, forward fill offer ids by person\n",
    "offers_view_transacted=transcript[['time','offer_id','person','event']][(transcript['event']=='transaction') | (transcript['event']=='offer viewed')].groupby(['person','offer_id']).ffill()\n",
    "offers_view_transacted['offer_id']=offers_view_transacted['offer_id'].ffill()"
   ]
  },
  {
   "cell_type": "markdown",
   "metadata": {},
   "source": [
    "The dataset is just a subset of the `transcript` dataset, I can create a new dataset with the filled in offer ids for transactions."
   ]
  },
  {
   "cell_type": "code",
   "execution_count": 25,
   "metadata": {},
   "outputs": [],
   "source": [
    "transcript=transcript.merge(offers_view_transacted,how='left',on=['person','time','event'])"
   ]
  },
  {
   "cell_type": "code",
   "execution_count": 26,
   "metadata": {},
   "outputs": [],
   "source": [
    "#clean up dataset to unify multiple offer_id columns into one column\n",
    "transcript['offer_id']=np.where(transcript['offer_id_x'].isnull(),transcript['offer_id_y'],transcript['offer_id_x'])\n",
    "\n",
    "drop_cols(['offer_id_x','offer_id_y'],transcript,inplace=True);"
   ]
  },
  {
   "cell_type": "code",
   "execution_count": 27,
   "metadata": {},
   "outputs": [],
   "source": [
    "#merge portfolio dataset again to get offer data for the transaction events\n",
    "transcript=transcript.merge(portfolio,how='left',on='offer_id')\n",
    "transcript['duration']=np.where(transcript['duration_x'].isnull(),transcript['duration_y'],transcript['duration_x'])\n",
    "drop_cols(['duration_x','offer_type_x','difficulty_x','channels_x','duration_y'],transcript,inplace=True);\n",
    "transcript.rename(columns={'channels_y':'channels','reward_y':'reward','difficulty_y':'difficulty','offer_type_y':'offer_type'},inplace=True)"
   ]
  },
  {
   "cell_type": "code",
   "execution_count": 28,
   "metadata": {
    "scrolled": true
   },
   "outputs": [
    {
     "data": {
      "text/html": [
       "<div>\n",
       "<style scoped>\n",
       "    .dataframe tbody tr th:only-of-type {\n",
       "        vertical-align: middle;\n",
       "    }\n",
       "\n",
       "    .dataframe tbody tr th {\n",
       "        vertical-align: top;\n",
       "    }\n",
       "\n",
       "    .dataframe thead th {\n",
       "        text-align: right;\n",
       "    }\n",
       "</style>\n",
       "<table border=\"1\" class=\"dataframe\">\n",
       "  <thead>\n",
       "    <tr style=\"text-align: right;\">\n",
       "      <th></th>\n",
       "      <th>event</th>\n",
       "      <th>person</th>\n",
       "      <th>time</th>\n",
       "      <th>value</th>\n",
       "      <th>amount</th>\n",
       "      <th>offer_id</th>\n",
       "      <th>channels</th>\n",
       "      <th>difficulty</th>\n",
       "      <th>offer_type</th>\n",
       "      <th>reward</th>\n",
       "      <th>duration</th>\n",
       "    </tr>\n",
       "  </thead>\n",
       "  <tbody>\n",
       "    <tr>\n",
       "      <th>0</th>\n",
       "      <td>offer received</td>\n",
       "      <td>0009655768c64bdeb2e877511632db8f</td>\n",
       "      <td>168</td>\n",
       "      <td>{'offer id': '5a8bc65990b245e5a138643cd4eb9837'}</td>\n",
       "      <td>NaN</td>\n",
       "      <td>5a8bc65990b245e5a138643cd4eb9837</td>\n",
       "      <td>[email, mobile, social]</td>\n",
       "      <td>0</td>\n",
       "      <td>informational</td>\n",
       "      <td>0</td>\n",
       "      <td>3.0</td>\n",
       "    </tr>\n",
       "    <tr>\n",
       "      <th>1</th>\n",
       "      <td>offer viewed</td>\n",
       "      <td>0009655768c64bdeb2e877511632db8f</td>\n",
       "      <td>192</td>\n",
       "      <td>{'offer id': '5a8bc65990b245e5a138643cd4eb9837'}</td>\n",
       "      <td>NaN</td>\n",
       "      <td>5a8bc65990b245e5a138643cd4eb9837</td>\n",
       "      <td>[email, mobile, social]</td>\n",
       "      <td>0</td>\n",
       "      <td>informational</td>\n",
       "      <td>0</td>\n",
       "      <td>3.0</td>\n",
       "    </tr>\n",
       "    <tr>\n",
       "      <th>2</th>\n",
       "      <td>transaction</td>\n",
       "      <td>0009655768c64bdeb2e877511632db8f</td>\n",
       "      <td>228</td>\n",
       "      <td>{'amount': 22.16}</td>\n",
       "      <td>22.16</td>\n",
       "      <td>5a8bc65990b245e5a138643cd4eb9837</td>\n",
       "      <td>[email, mobile, social]</td>\n",
       "      <td>0</td>\n",
       "      <td>informational</td>\n",
       "      <td>0</td>\n",
       "      <td>3.0</td>\n",
       "    </tr>\n",
       "    <tr>\n",
       "      <th>3</th>\n",
       "      <td>offer received</td>\n",
       "      <td>0009655768c64bdeb2e877511632db8f</td>\n",
       "      <td>336</td>\n",
       "      <td>{'offer id': '3f207df678b143eea3cee63160fa8bed'}</td>\n",
       "      <td>NaN</td>\n",
       "      <td>3f207df678b143eea3cee63160fa8bed</td>\n",
       "      <td>[web, email, mobile]</td>\n",
       "      <td>0</td>\n",
       "      <td>informational</td>\n",
       "      <td>0</td>\n",
       "      <td>4.0</td>\n",
       "    </tr>\n",
       "    <tr>\n",
       "      <th>4</th>\n",
       "      <td>offer viewed</td>\n",
       "      <td>0009655768c64bdeb2e877511632db8f</td>\n",
       "      <td>372</td>\n",
       "      <td>{'offer id': '3f207df678b143eea3cee63160fa8bed'}</td>\n",
       "      <td>NaN</td>\n",
       "      <td>3f207df678b143eea3cee63160fa8bed</td>\n",
       "      <td>[web, email, mobile]</td>\n",
       "      <td>0</td>\n",
       "      <td>informational</td>\n",
       "      <td>0</td>\n",
       "      <td>4.0</td>\n",
       "    </tr>\n",
       "  </tbody>\n",
       "</table>\n",
       "</div>"
      ],
      "text/plain": [
       "            event                            person  time  \\\n",
       "0  offer received  0009655768c64bdeb2e877511632db8f   168   \n",
       "1    offer viewed  0009655768c64bdeb2e877511632db8f   192   \n",
       "2     transaction  0009655768c64bdeb2e877511632db8f   228   \n",
       "3  offer received  0009655768c64bdeb2e877511632db8f   336   \n",
       "4    offer viewed  0009655768c64bdeb2e877511632db8f   372   \n",
       "\n",
       "                                              value  amount  \\\n",
       "0  {'offer id': '5a8bc65990b245e5a138643cd4eb9837'}     NaN   \n",
       "1  {'offer id': '5a8bc65990b245e5a138643cd4eb9837'}     NaN   \n",
       "2                                 {'amount': 22.16}   22.16   \n",
       "3  {'offer id': '3f207df678b143eea3cee63160fa8bed'}     NaN   \n",
       "4  {'offer id': '3f207df678b143eea3cee63160fa8bed'}     NaN   \n",
       "\n",
       "                           offer_id                 channels  difficulty  \\\n",
       "0  5a8bc65990b245e5a138643cd4eb9837  [email, mobile, social]           0   \n",
       "1  5a8bc65990b245e5a138643cd4eb9837  [email, mobile, social]           0   \n",
       "2  5a8bc65990b245e5a138643cd4eb9837  [email, mobile, social]           0   \n",
       "3  3f207df678b143eea3cee63160fa8bed     [web, email, mobile]           0   \n",
       "4  3f207df678b143eea3cee63160fa8bed     [web, email, mobile]           0   \n",
       "\n",
       "      offer_type  reward  duration  \n",
       "0  informational       0       3.0  \n",
       "1  informational       0       3.0  \n",
       "2  informational       0       3.0  \n",
       "3  informational       0       4.0  \n",
       "4  informational       0       4.0  "
      ]
     },
     "execution_count": 28,
     "metadata": {},
     "output_type": "execute_result"
    }
   ],
   "source": [
    "transcript.head()"
   ]
  },
  {
   "cell_type": "markdown",
   "metadata": {},
   "source": [
    "### b. Flagging transactions and offers completed after offers viewed\n",
    "\n",
    "The data for modeling and analysis is to identify a completed offer and transactions occurring after an offer is viewed. \n",
    "\n",
    "The events `offer viewed`,`transaction`, and `offer completed` occur in the same event space and are in the corrrect sequence of time, we can be assured that it is a transaction and/or completed offer occurring only after an offer is viewed. \n",
    "\n",
    "-> I created a new column to flag the previous offer id using pandas' `shift` function."
   ]
  },
  {
   "cell_type": "code",
   "execution_count": 29,
   "metadata": {},
   "outputs": [],
   "source": [
    "#get sample space of events consisting of offer viewed, transactions and offer completed\n",
    "offers_viewed_transactions_completed=transcript[(transcript['event']=='offer viewed') | (transcript['event']=='transaction') | (transcript['event']=='offer completed')].copy()"
   ]
  },
  {
   "cell_type": "code",
   "execution_count": 30,
   "metadata": {},
   "outputs": [],
   "source": [
    "#add extra column to flag the previous offer id\n",
    "offers_viewed_transactions_completed['offer_id_previous'] = offers_viewed_transactions_completed.groupby(['person','offer_id'])['offer_id'].shift()"
   ]
  },
  {
   "cell_type": "code",
   "execution_count": 31,
   "metadata": {},
   "outputs": [],
   "source": [
    "#flag a completed transaction/offer completed as long as the previous offer id consists of events in the same sample space\n",
    "offers_viewed_transactions_completed['valid_completed']=np.where(offers_viewed_transactions_completed['offer_id_previous']==offers_viewed_transactions_completed['offer_id'],1,0)"
   ]
  },
  {
   "cell_type": "markdown",
   "metadata": {},
   "source": [
    "The dataset `offers_viewed_transactions_completed` consists of all other possible events\n",
    "\n",
    "So we need to do is to append the all `offers received` events in the `transactions_clean` dataset to ensure we have our complete dataset again."
   ]
  },
  {
   "cell_type": "code",
   "execution_count": 32,
   "metadata": {},
   "outputs": [],
   "source": [
    "#get only offer received events\n",
    "offers_received=transcript[transcript['event']=='offer received'].copy()\n",
    "\n",
    "#ensure all columns are the same between datasets to be appended\n",
    "offers_received['offer_id_previous']=np.nan\n",
    "offers_received['valid_completed']=np.nan\n",
    "\n",
    "#append datasets to complete dataset of transactions\n",
    "transcript=offers_received.append(offers_viewed_transactions_completed)\n",
    "\n",
    "#sort values\n",
    "transcript=transcript.sort_values(['person','time'])"
   ]
  },
  {
   "cell_type": "markdown",
   "metadata": {},
   "source": [
    "Having assigned offer_ids for transactions for which an `offer viewed` event occurred prior"
   ]
  },
  {
   "cell_type": "code",
   "execution_count": 33,
   "metadata": {},
   "outputs": [],
   "source": [
    "#define function to split into 3 offer types\n",
    "def split(offer_type,grp_df):\n",
    "    '''\n",
    "    Splits dataframe\n",
    "    \n",
    "    inputs: offer_type, grp_df\n",
    "    \n",
    "    outputs:\n",
    "    - Returns dataframe containing data of just offer type.\n",
    "       \n",
    "    '''\n",
    "    df=grp_df[grp_df['offer_type']==offer_type].copy()\n",
    "    return df"
   ]
  },
  {
   "cell_type": "code",
   "execution_count": 34,
   "metadata": {},
   "outputs": [],
   "source": [
    "# Split transcript into 3 different offer types\n",
    "transcript_bogo=split('bogo',transcript)\n",
    "transcript_discount=split('discount',transcript)\n",
    "transcript_info=split('informational',transcript)"
   ]
  },
  {
   "cell_type": "markdown",
   "metadata": {},
   "source": [
    "For BOGO and discount offers, we will only consider `offer completed` events as the conversion events"
   ]
  },
  {
   "cell_type": "code",
   "execution_count": 35,
   "metadata": {},
   "outputs": [],
   "source": [
    "# Define function for repeated operation\n",
    "def grp1(df):\n",
    "    '''    \n",
    "    inputs:\n",
    "    - df: original transcript dataframe \n",
    "\n",
    "    outputs:\n",
    "    - Returns dataframe containing transcript data of just group 1 users.\n",
    "       \n",
    "    '''\n",
    "    grp1=df[['person','offer_id']][(df['valid_completed']==1) & (df['event']=='offer completed')] \\\n",
    "         .groupby(['person','offer_id']).count().reset_index()\n",
    "    return grp1"
   ]
  },
  {
   "cell_type": "code",
   "execution_count": 36,
   "metadata": {},
   "outputs": [],
   "source": [
    "grp1_bogo=grp1(transcript_bogo)\n",
    "grp1_discount=grp1(transcript_discount)"
   ]
  },
  {
   "cell_type": "markdown",
   "metadata": {},
   "source": [
    "The informational offers we will define group 1 later as there is an additional consideration we need to take into account for transactions"
   ]
  },
  {
   "cell_type": "code",
   "execution_count": 37,
   "metadata": {
    "scrolled": true
   },
   "outputs": [],
   "source": [
    "# Define a function to repeat this for 2 datasets - BOGO & discount\n",
    "def no_conv(df):\n",
    "    \n",
    "    '''\n",
    "    Takes in transcript dataframe\n",
    "    \n",
    "    inputs:\n",
    "    - df: original transcript dataframe of specific offer type \n",
    "    \n",
    "    outputs:\n",
    "    - Returns dataframe containing unqiue person-offer_id\n",
    "           \n",
    "    '''\n",
    "    \n",
    "    # The subset offer ids that have transactions or conversions by person and offer_id\n",
    "    conversion_ids=df[['person','offer_id']][(df['event']=='transaction') | (df['event']=='offer completed') ] \\\n",
    "                   .groupby(['person','offer_id']).count().reset_index()\n",
    "\n",
    "    # Check for unique person-offer_id\n",
    "    offers_received_only=df[['person','offer_id']][df['event']=='offer received'] \\\n",
    "                         .groupby(['person','offer_id']).count().reset_index()\n",
    "\n",
    "    # Create merged dataset\n",
    "    check_merge=conversion_ids.merge(offers_received_only,how='right',on=['person','offer_id'],indicator=True)\n",
    "    \n",
    "    return check_merge"
   ]
  },
  {
   "cell_type": "code",
   "execution_count": 38,
   "metadata": {},
   "outputs": [],
   "source": [
    "#check how many are in either group\n",
    "check_merge_bogo=no_conv(transcript_bogo)\n",
    "check_merge_discount=no_conv(transcript_discount)"
   ]
  },
  {
   "cell_type": "markdown",
   "metadata": {},
   "source": [
    "There are definitely a fair number of unique person-offer_id pairs that have `offer received` events, but no conversion events. These would be considered offers in group 2 and 4 within each offer type, according to our definition above. \n"
   ]
  },
  {
   "cell_type": "code",
   "execution_count": 39,
   "metadata": {},
   "outputs": [],
   "source": [
    "# define group 2 & 4 function as will repeat this for BOGO and discount offers\n",
    "def grp_2_4(df):\n",
    "    \n",
    "    '''\n",
    "    Takes in output dataframe\n",
    "    \n",
    "    inputs:\n",
    "    - df: output dataframe from no_conv function\n",
    "    \n",
    "    outputs:\n",
    "    - Returns 2 dataframes containing unique person-offer_id pairs with dataframe\n",
    "       \n",
    "    '''\n",
    "    \n",
    "    # The subset to check group 2 and 4\n",
    "    grp_2_4=df[df['_merge']=='right_only']\n",
    "\n",
    "    # Remerge with transcript\n",
    "    grp_2_4=grp_2_4.merge(transcript,how='left',on=['person','offer_id'])\n",
    "\n",
    "    # Separate people with offer viewed event, and people with offer received but no offer viewed\n",
    "    grp2=grp_2_4[['person','offer_id']][grp_2_4['event']=='offer viewed'].groupby(['person','offer_id']).count().reset_index()\n",
    "    \n",
    "    # Remerge with full dataset\n",
    "    drop_cols('_merge',grp_2_4,inplace=True)\n",
    "    grp4=grp_2_4.merge(grp2[['person','offer_id']],how='left',indicator=True)\n",
    "    \n",
    "    # Get remaining to get grp4\n",
    "    grp4=grp4[grp4['_merge']=='left_only'].copy()\n",
    "    \n",
    "    return grp2,grp4"
   ]
  },
  {
   "cell_type": "code",
   "execution_count": 40,
   "metadata": {},
   "outputs": [],
   "source": [
    "grp2_bogo,grp4_bogo=grp_2_4(check_merge_bogo)\n",
    "grp2_discount,grp4_discount=grp_2_4(check_merge_discount)"
   ]
  },
  {
   "cell_type": "markdown",
   "metadata": {},
   "source": [
    "For BOGO and discount offers, they would be people with `offer completed` events that have `valid_completed != 1`."
   ]
  },
  {
   "cell_type": "code",
   "execution_count": 41,
   "metadata": {},
   "outputs": [],
   "source": [
    "def grp3(df):\n",
    "    '''\n",
    "    Takes in transcript dataframe\n",
    "    \n",
    "    inputs:\n",
    "    - df: original transcript dataframe of specific offer type \n",
    "    \n",
    "    outputs:\n",
    "    - Returns dataframe containing unqiue person-offer_id pairs with conversion events and offers\n",
    "       \n",
    "    '''\n",
    "    \n",
    "    # Check all conversion events with invalid conversions\n",
    "    grp3=df[['person','offer_id']][(df['event']=='offer completed') & (df['valid_completed']!=1)] \\\n",
    "         .groupby(['person','offer_id']).count().reset_index()\n",
    "    \n",
    "    return grp3"
   ]
  },
  {
   "cell_type": "code",
   "execution_count": 42,
   "metadata": {},
   "outputs": [],
   "source": [
    "grp3_bogo=grp3(transcript_bogo)\n",
    "grp3_discount=grp3(transcript_discount)"
   ]
  },
  {
   "cell_type": "markdown",
   "metadata": {},
   "source": [
    "We have split our data into 4 different customer groups for the BOGO and discount offers. "
   ]
  },
  {
   "cell_type": "code",
   "execution_count": 43,
   "metadata": {},
   "outputs": [],
   "source": [
    "def offers(grp1,grp2):\n",
    "    '''\n",
    "    inputs:\n",
    "    - grp1: dataframe containing group1 customer data \n",
    "    - grp2: dataframe containing group2 customer data\n",
    "    \n",
    "    outputs:\n",
    "    - Returns dataframe with labeled effective offer column\n",
    "    '''\n",
    "    #assign effective offer flag column\n",
    "    grp1['effective_offer']=1\n",
    "    grp2['effective_offer']=0\n",
    "\n",
    "    #append datasets together\n",
    "    offers=grp1.append(grp2,sort=False)\n",
    "    return offers"
   ]
  },
  {
   "cell_type": "code",
   "execution_count": 44,
   "metadata": {},
   "outputs": [],
   "source": [
    "offers_bogo=offers(grp1_bogo,grp2_bogo)\n",
    "offers_discount=offers(grp1_discount,grp2_discount)"
   ]
  },
  {
   "cell_type": "markdown",
   "metadata": {},
   "source": [
    "We have successfully prepared the target variables for our BOGO and discount datasets. "
   ]
  },
  {
   "cell_type": "markdown",
   "metadata": {},
   "source": [
    "### c. Considering duration/validity of offers in converted transactions from informational offers\n",
    "\n",
    "There is an additional rule to consider when considering an effective/converted transaction and offer."
   ]
  },
  {
   "cell_type": "code",
   "execution_count": 45,
   "metadata": {},
   "outputs": [],
   "source": [
    "#convert time into days\n",
    "transcript_info['day_offer']=transcript_info['time']/24\n",
    "#drop unnecessary columns\n",
    "drop_cols(['time','value','offer_id_previous'],transcript_info,inplace=True);"
   ]
  },
  {
   "cell_type": "code",
   "execution_count": 46,
   "metadata": {},
   "outputs": [],
   "source": [
    "#sort transactions to ensure all events occurring by person and offer\n",
    "transcript_info=transcript_info.sort_values(['person','day_offer','event','offer_id'])"
   ]
  },
  {
   "cell_type": "markdown",
   "metadata": {},
   "source": [
    "We can get the difference between two events using the `diff` function in pandas."
   ]
  },
  {
   "cell_type": "code",
   "execution_count": 47,
   "metadata": {},
   "outputs": [],
   "source": [
    "#get difference in time for informational offers\n",
    "transcript_info['diff_info']=transcript_info[(transcript_info['offer_type']=='informational') & ((transcript_info['event']=='offer received') | (transcript_info['event']=='transaction'))].groupby(['person','offer_id'])['day_offer'].diff()"
   ]
  },
  {
   "cell_type": "code",
   "execution_count": 48,
   "metadata": {},
   "outputs": [],
   "source": [
    "#create column for flagging valid events\n",
    "transcript_info['valid_completed_duration']=np.nan\n",
    "\n",
    "#flag valid events if within duration\n",
    "transcript_info.loc[transcript_info['diff_info']<=transcript_info['duration'],'valid_completed_duration']=1\n",
    "\n",
    "#fill any missing values with 0 flag\n",
    "transcript_info['valid_completed_duration']=transcript_info['valid_completed_duration'].fillna(value=0)"
   ]
  },
  {
   "cell_type": "markdown",
   "metadata": {},
   "source": [
    "We have 4 possible scenarios for an informational offer within the `transcript_info` dataset:\n",
    "\n",
    "|No.| valid_completed | valid_completed_duration | Scenario |\n",
    "|---| --- | --- | --- |\n",
    "|1| 1 | 0 | completed transaction after offer viewed event, but not within duration |\n",
    "|2| 0/null | 1 | completed transaction within duration, but with no offer viewed event prior |\n",
    "|3| 1 | 1 | completed transaction within duration, with offer viewed event - **an effective offer** |\n",
    "|4| 0//null | 0 | did not complete transaction within duration, no offer viewed event prior |\n",
    "\n",
    "\n",
    "We will need to separate those users in group 2 - those who may have received and viewed an offer"
   ]
  },
  {
   "cell_type": "code",
   "execution_count": 49,
   "metadata": {},
   "outputs": [],
   "source": [
    "#flag effective_offers where valid_completed=1 and valid_completed_duration=1\n",
    "transcript_info['effective_offer']=np.where(((transcript_info['valid_completed']==1) & (transcript_info['valid_completed_duration']==1)),1,0)"
   ]
  },
  {
   "cell_type": "markdown",
   "metadata": {},
   "source": [
    "We can subset them into the 4 groups already outlined above. "
   ]
  },
  {
   "cell_type": "code",
   "execution_count": 50,
   "metadata": {},
   "outputs": [],
   "source": [
    "#separate group 1 in transcript_into\n",
    "grp1_info=transcript_info[['person','offer_id']][transcript_info['effective_offer']==1].groupby(['person','offer_id']).sum().reset_index()"
   ]
  },
  {
   "cell_type": "markdown",
   "metadata": {},
   "source": [
    "Using similar steps to what we did with BOGO and Discount offers, since we don't have the duration consideration."
   ]
  },
  {
   "cell_type": "code",
   "execution_count": 51,
   "metadata": {},
   "outputs": [
    {
     "name": "stdout",
     "output_type": "stream",
     "text": [
      "For informational offers:\n",
      "            person  offer_id\n",
      "_merge                      \n",
      "left_only        0         0\n",
      "right_only    5412      5412\n",
      "both          7239      7239\n"
     ]
    }
   ],
   "source": [
    "#separate out group 2 of customers\n",
    "check_merge_info=no_conv(transcript_info)\n",
    "print('For informational offers:')\n",
    "print(check_merge_info.groupby(['_merge']).count())"
   ]
  },
  {
   "cell_type": "code",
   "execution_count": 52,
   "metadata": {},
   "outputs": [],
   "source": [
    "grp2_info,grp4_info=grp_2_4(check_merge_info)"
   ]
  },
  {
   "cell_type": "markdown",
   "metadata": {},
   "source": [
    "For group 3, we have to consider those with conversions who do not have an offer viewed prior"
   ]
  },
  {
   "cell_type": "code",
   "execution_count": 53,
   "metadata": {},
   "outputs": [],
   "source": [
    "# The scenario 1\n",
    "grp3_1=transcript_info[['person','offer_id']][(transcript_info['event']=='transaction')&(transcript_info['valid_completed']!=1) & (transcript_info['valid_completed_duration']==1)].groupby(['person','offer_id']).count().reset_index()\n",
    "\n",
    "# The scenario 2\n",
    "grp3_2=transcript_info[['person','offer_id']][(transcript_info['event']=='transaction')&(transcript_info['valid_completed']==1) & (transcript_info['valid_completed_duration']!=1)].groupby(['person','offer_id']).count().reset_index()\n",
    "grp3_info=grp3_1.append(grp3_2,sort=False)\n",
    "del grp3_1\n",
    "del grp3_2"
   ]
  },
  {
   "cell_type": "markdown",
   "metadata": {},
   "source": [
    "We can append the datasets together to make the offers_info dataset, ready for modeling."
   ]
  },
  {
   "cell_type": "code",
   "execution_count": 54,
   "metadata": {},
   "outputs": [],
   "source": [
    "offers_info=offers(grp1_info,grp2_info)"
   ]
  },
  {
   "cell_type": "markdown",
   "metadata": {},
   "source": [
    "-> Now that we have subset all our datasets into effective and ineffective offers depending on offer type."
   ]
  },
  {
   "cell_type": "markdown",
   "metadata": {},
   "source": [
    "### d. Feature engineering\n",
    "\n",
    "We have to look back had to look into the features and see how to be creative in creating new features.\n",
    "\n",
    "#### d.1. `became_member_on` column to be engineered"
   ]
  },
  {
   "cell_type": "code",
   "execution_count": 55,
   "metadata": {},
   "outputs": [],
   "source": [
    "#rename column for merging\n",
    "profile.rename(columns={'id':'person'},inplace=True)\n",
    "\n",
    "# The function to reuse for 3 datasets\n",
    "def member(df):\n",
    "    '''\n",
    "    inputs:\n",
    "    - df: original dataframe to transform became_member_on column  \n",
    "    \n",
    "    outputs:\n",
    "    - Returns dataframe with became_member_on column transformed to be tenure in days\n",
    "    \n",
    "    '''\n",
    "    #merge to get user demographic profile\n",
    "    df=df.merge(profile,how='left',on='person')\n",
    "    \n",
    "    # Convert the features into member tenure\n",
    "    df['year']=pd.Series([int(str(x)[:4]) for x in df['became_member_on']])\n",
    "    df['month']=pd.Series([int(str(x)[-3]) for x in df['became_member_on']])\n",
    "    df['day']=pd.Series([int(str(x)[-2:]) for x in df['became_member_on']])\n",
    "    \n",
    "    df=drop_cols('became_member_on',df)\n",
    "    df.loc[df['year'] == 2018, 'membership_tenure_days'] = (30*df['month'])+df['day']\n",
    "    df.loc[df['year'] != 2018, 'membership_tenure_days'] = ((2018-df['year'])*365)+(30*df['month'])+df['day']\n",
    "    df=drop_cols(['year','month','day'],df)\n",
    "    \n",
    "    return df"
   ]
  },
  {
   "cell_type": "code",
   "execution_count": 56,
   "metadata": {},
   "outputs": [],
   "source": [
    "# see how to be creative in creating new features.\n",
    "offers_bogo=member(offers_bogo)\n",
    "offers_discount=member(offers_discount)\n",
    "offers_info=member(offers_info)"
   ]
  },
  {
   "cell_type": "markdown",
   "metadata": {},
   "source": [
    "#### d.2. Count of offers received\n",
    "As part of some further data exploration, I discovered that there could be multiple offers received per person."
   ]
  },
  {
   "cell_type": "code",
   "execution_count": 57,
   "metadata": {},
   "outputs": [
    {
     "name": "stdout",
     "output_type": "stream",
     "text": [
      "person\n",
      "0009655768c64bdeb2e877511632db8f    5\n",
      "00116118485d4dfda04fdbaba9a87b5c    2\n",
      "0011e0d4e6b944f998e987f904e8c1e5    5\n",
      "0020c2b971eb4e9188eac86d93036a77    5\n",
      "0020ccbbb6d84e358d3414a3ff76cffd    4\n",
      "Name: event, dtype: int64\n"
     ]
    },
    {
     "data": {
      "text/plain": [
       "<matplotlib.axes._subplots.AxesSubplot at 0x7fdf917aff98>"
      ]
     },
     "execution_count": 57,
     "metadata": {},
     "output_type": "execute_result"
    },
    {
     "data": {
      "image/png": "[encoded data removed]",
      "text/plain": [
       "<matplotlib.figure.Figure at 0x7fdf90a23a90>"
      ]
     },
     "metadata": {
      "needs_background": "light"
     },
     "output_type": "display_data"
    }
   ],
   "source": [
    "#group event=offer received per person in transactional records\n",
    "print(transcript[transcript['event']=='offer received'].groupby('person')['event'].count().head())\n",
    "\n",
    "#visualise offers received per person\n",
    "transcript[transcript['event']=='offer received'].groupby('person')['event'].count().hist()"
   ]
  },
  {
   "cell_type": "markdown",
   "metadata": {},
   "source": [
    "The offer received per person in the transactional data could range from 1 to 6 offers received."
   ]
  },
  {
   "cell_type": "code",
   "execution_count": 58,
   "metadata": {},
   "outputs": [],
   "source": [
    "#get count of offers received per person, put into separate dataset\n",
    "df_offer_received_cnt=transcript[transcript['event']=='offer received'].groupby(['person','offer_id','time']).count()['event'].reset_index()\n",
    "\n",
    "#rename columns\n",
    "df_offer_received_cnt.rename(columns={'event':'offer_received_cnt'},inplace=True)\n",
    "\n",
    "#drop unnecessary columns\n",
    "drop_cols('time',df_offer_received_cnt,inplace=True)\n",
    "\n",
    "#ensure only unique person-offer_id pairs\n",
    "df_offer_received_cnt=df_offer_received_cnt.groupby(['person','offer_id']).sum().reset_index()"
   ]
  },
  {
   "cell_type": "markdown",
   "metadata": {},
   "source": [
    "#### d.2. Separating user behaviours by transactions\n",
    "\n",
    "These would be the sum of transactions done by people not in group 1. The objective of offers are to drive purchases, so it would already be the case that users with high spend in their transactions would be flagged as `effective_offers`. \n",
    "\n",
    "We have already defined that there are people in groups 3 and 4, where they are separate pools of users who are loyal spenders, and already tend to purchase more, isolated from the the effect of offers. "
   ]
  },
  {
   "cell_type": "code",
   "execution_count": 59,
   "metadata": {},
   "outputs": [],
   "source": [
    "#filter dataset by invalid transactions\n",
    "df_transactions_invalid=transcript[(transcript['event']=='transaction') & (transcript['valid_completed']==0)].groupby(['person','offer_id'])['amount'].sum().reset_index()\n",
    "df_transactions_invalid.rename(columns={'amount':'amount_invalid'},inplace=True)"
   ]
  },
  {
   "cell_type": "markdown",
   "metadata": {},
   "source": [
    "#### d.3. Time elapsed between offers received\n",
    "\n",
    "There might be some predictive power in the time elapsed between offers received. "
   ]
  },
  {
   "cell_type": "code",
   "execution_count": 60,
   "metadata": {},
   "outputs": [],
   "source": [
    "#convert time into days\n",
    "transcript['day_offer']=transcript['time']/24\n",
    "#drop unnecessary columns\n",
    "drop_cols(['time'],transcript,inplace=True);\n",
    "\n",
    "#find time elapsed between offers received\n",
    "transcript['time_elapsed_offers']=transcript[transcript['event']=='offer received'].groupby(['person','offer_id'])['day_offer'].diff()\n",
    "\n",
    "#fill missing values with 0, as if someone does not receive an offer or is receiving an offer for the first time, there is no time elapsed\n",
    "transcript['time_elapsed_offers']=transcript['time_elapsed_offers'].fillna(value=0)\n",
    "\n",
    "#create temporary dataset\n",
    "df_time_elapsed=transcript.groupby(['person','offer_id'])['time_elapsed_offers'].sum().reset_index()"
   ]
  },
  {
   "cell_type": "markdown",
   "metadata": {},
   "source": [
    "### f. Preparing data for implementation\n",
    "\n",
    "We can finally begin with preparing the data for modeling. \n",
    "\n",
    "#### f.1.a. Merge with temporary datasets created above to include engineered features"
   ]
  },
  {
   "cell_type": "code",
   "execution_count": 61,
   "metadata": {},
   "outputs": [],
   "source": [
    "#merge to get offers received count and invalid amount transacted \n",
    "offers_bogo=offers_bogo.merge(df_offer_received_cnt[['person','offer_id','offer_received_cnt']],how='left',on=['person','offer_id'])\n",
    "offers_bogo=offers_bogo.merge(df_transactions_invalid[['person','offer_id','amount_invalid']],how='left',on=['person','offer_id'])"
   ]
  },
  {
   "cell_type": "markdown",
   "metadata": {},
   "source": [
    "#### f.1.b. Drop missing values in gender column for demographic data\n",
    "\n",
    "Checking whether dropping the missing values will result in a significant loss in data."
   ]
  },
  {
   "cell_type": "code",
   "execution_count": 62,
   "metadata": {},
   "outputs": [
    {
     "data": {
      "text/plain": [
       "amount_invalid            96.323752\n",
       "income                     7.057489\n",
       "gender                     7.057489\n",
       "offer_received_cnt         0.000000\n",
       "membership_tenure_days     0.000000\n",
       "dtype: float64"
      ]
     },
     "execution_count": 62,
     "metadata": {},
     "output_type": "execute_result"
    }
   ],
   "source": [
    "#check % of missing values in dataset\n",
    "(offers_bogo.isnull().sum()/len(offers_bogo)*100).sort_values(ascending=False).head()"
   ]
  },
  {
   "cell_type": "markdown",
   "metadata": {},
   "source": [
    "The missing values are quite extensive especially for the `amount_invalid` column. It is debatable whether this column `amount_invalid` would be useful to include in the model. Since it is so 'sparse' for BOGO offers, it might not have much information after all."
   ]
  },
  {
   "cell_type": "code",
   "execution_count": 63,
   "metadata": {},
   "outputs": [],
   "source": [
    "#fill missing values for amount_invalid with 0\n",
    "offers_bogo['amount_invalid']=offers_bogo['amount_invalid'].fillna(value=0)\n",
    "\n",
    "#drop income and gender null rows\n",
    "offers_bogo.dropna(inplace=True);"
   ]
  },
  {
   "cell_type": "markdown",
   "metadata": {},
   "source": [
    "#### f.1.c. Separate the channel column into categorical variables"
   ]
  },
  {
   "cell_type": "code",
   "execution_count": 64,
   "metadata": {},
   "outputs": [],
   "source": [
    "#foresee need to reuse function so create rename function\n",
    "def rename(col_name,df):\n",
    "    df[col_name]=np.where(df[col_name]==col_name,1,0)\n",
    "    return df\n",
    "\n",
    "#foresee need to reuse dummy variable encoding function\n",
    "def dummy(df,col):\n",
    "    df=pd.concat([df[:],pd.get_dummies(df[col],prefix=col)],axis=1)\n",
    "    df=drop_cols(col,df)\n",
    "    return df"
   ]
  },
  {
   "cell_type": "code",
   "execution_count": 65,
   "metadata": {},
   "outputs": [],
   "source": [
    "#merge with portfolio to get offer details\n",
    "offers_bogo=offers_bogo.merge(portfolio,how='left',on='offer_id')\n",
    "\n",
    "#convert channels into categorical variables\n",
    "channels = offers_bogo['channels'].apply(pd.Series)\n",
    "channels = channels.rename(columns={0:'web',1:'email',2:'mobile',3:'social'})\n",
    "offers_bogo=pd.concat([offers_bogo[:], channels[:]], axis=1)\n",
    "rename('web',offers_bogo)\n",
    "rename('email',offers_bogo)\n",
    "rename('mobile',offers_bogo)\n",
    "rename('social',offers_bogo)\n",
    "offers_bogo=drop_cols('channels',offers_bogo)\n",
    "\n",
    "#convert gender into categorical variables\n",
    "offers_bogo=dummy(offers_bogo,'gender')"
   ]
  },
  {
   "cell_type": "markdown",
   "metadata": {},
   "source": [
    "We need to repeat these steps for `offers_discount`, I created a function containing all the steps above."
   ]
  },
  {
   "cell_type": "code",
   "execution_count": 66,
   "metadata": {},
   "outputs": [],
   "source": [
    "def prep_offers_df(df):\n",
    "    \n",
    "    '''\n",
    "    inputs:\n",
    "    - df: original dataframe\n",
    "    \n",
    "    outputs:\n",
    "    - Returns dataframe containing engineered features\n",
    "    \n",
    "    '''\n",
    "    # Merge to get engineered features \n",
    "    df=df.merge(df_offer_received_cnt[['person','offer_id','offer_received_cnt']],how='left',on=['person','offer_id'])\n",
    "    df=df.merge(df_transactions_invalid[['person','offer_id','amount_invalid']],how='left',on=['person','offer_id'])\n",
    "    \n",
    "    # Cleaning data to convert \n",
    "    df['amount_invalid']=df['amount_invalid'].fillna(value=0)\n",
    "    df.dropna(inplace=True);\n",
    "    df=df.merge(portfolio,how='left',on='offer_id')\n",
    "\n",
    "    # Convert channels into categorical variables\n",
    "    channels = df['channels'].apply(pd.Series)\n",
    "    channels = channels.rename(columns={0:'web',1:'email',2:'mobile',3:'social'})\n",
    "    df=pd.concat([df[:], channels[:]], axis=1)\n",
    "    rename('web',df)\n",
    "    rename('email',df)\n",
    "    rename('mobile',df)\n",
    "    rename('social',df)\n",
    "    df=drop_cols('channels',df)\n",
    "    \n",
    "    # convert gender column into dummy variables\n",
    "    df=dummy(df,'gender')\n",
    "\n",
    "    return df"
   ]
  },
  {
   "cell_type": "code",
   "execution_count": 67,
   "metadata": {},
   "outputs": [],
   "source": [
    "#prepare data for offer_discounts\n",
    "offers_discount=prep_offers_df(offers_discount)"
   ]
  },
  {
   "cell_type": "markdown",
   "metadata": {},
   "source": [
    "For `offers_info` dataset, a slightly different treatment needs to be done as the `channels` column contains a different order of values."
   ]
  },
  {
   "cell_type": "code",
   "execution_count": 68,
   "metadata": {},
   "outputs": [],
   "source": [
    "#merge with portfolio to get offer details\n",
    "offers_info=offers_info.merge(portfolio,how='left',on='offer_id')\n",
    "\n",
    "#reset index for offers_info\n",
    "offers_info=drop_cols('index',offers_info.reset_index())"
   ]
  },
  {
   "cell_type": "code",
   "execution_count": 69,
   "metadata": {},
   "outputs": [],
   "source": [
    "#expand channel column into categorical variables\n",
    "def channel_col(name,df=offers_info):\n",
    "    '''\n",
    "    inputs:\n",
    "    - name: name of channel column to be transformed \n",
    "    - df: dataframe \n",
    "    \n",
    "    outputs:\n",
    "    - offer_info dataframe with channel column transformed\n",
    "    \n",
    "    '''\n",
    "    df[name]= np.nan\n",
    "    df.loc[pd.Series([name in df['channels'][x] for x in range(len(df['channels']))]),name]=1\n",
    "    df[name]=df[name].fillna(value=0)\n",
    "    return df"
   ]
  },
  {
   "cell_type": "code",
   "execution_count": 70,
   "metadata": {},
   "outputs": [],
   "source": [
    "channel_col('web')\n",
    "channel_col('email')\n",
    "channel_col('mobile')\n",
    "channel_col('social');\n",
    "\n",
    "drop_cols('channels',offers_info,inplace=True);"
   ]
  },
  {
   "cell_type": "code",
   "execution_count": 71,
   "metadata": {},
   "outputs": [],
   "source": [
    "# Repurpose function for offers_info\n",
    "def prep_offers_df(df):\n",
    "    '''\n",
    "    inputs:\n",
    "    - df: dataframe\n",
    "    \n",
    "    outputs:\n",
    "    - Returns dataframe with engineered features and filled missing values\n",
    "       \n",
    "    '''\n",
    "    #merge to get engineered features \n",
    "    df=df.merge(df_offer_received_cnt[['person','offer_id','offer_received_cnt']],how='left',on=['person','offer_id'])\n",
    "    df=df.merge(df_transactions_invalid[['person','offer_id','amount_invalid']],how='left',on=['person','offer_id'])\n",
    "\n",
    "    # Cleaning data to convert\n",
    "    df['amount_invalid']=df['amount_invalid'].fillna(value=0)\n",
    "    df.dropna(inplace=True);\n",
    "    \n",
    "    #convert gender column into dummy variables\n",
    "    df=dummy(df,'gender')\n",
    "    return df"
   ]
  },
  {
   "cell_type": "code",
   "execution_count": 72,
   "metadata": {},
   "outputs": [],
   "source": [
    "offers_info=prep_offers_df(offers_info)"
   ]
  },
  {
   "cell_type": "code",
   "execution_count": 73,
   "metadata": {
    "scrolled": true
   },
   "outputs": [
    {
     "data": {
      "text/html": [
       "<div>\n",
       "<style scoped>\n",
       "    .dataframe tbody tr th:only-of-type {\n",
       "        vertical-align: middle;\n",
       "    }\n",
       "\n",
       "    .dataframe tbody tr th {\n",
       "        vertical-align: top;\n",
       "    }\n",
       "\n",
       "    .dataframe thead th {\n",
       "        text-align: right;\n",
       "    }\n",
       "</style>\n",
       "<table border=\"1\" class=\"dataframe\">\n",
       "  <thead>\n",
       "    <tr style=\"text-align: right;\">\n",
       "      <th></th>\n",
       "      <th>person</th>\n",
       "      <th>offer_id</th>\n",
       "      <th>effective_offer</th>\n",
       "      <th>age</th>\n",
       "      <th>income</th>\n",
       "      <th>membership_tenure_days</th>\n",
       "      <th>difficulty</th>\n",
       "      <th>duration</th>\n",
       "      <th>offer_type</th>\n",
       "      <th>reward</th>\n",
       "      <th>web</th>\n",
       "      <th>email</th>\n",
       "      <th>mobile</th>\n",
       "      <th>social</th>\n",
       "      <th>offer_received_cnt</th>\n",
       "      <th>amount_invalid</th>\n",
       "      <th>gender_F</th>\n",
       "      <th>gender_M</th>\n",
       "      <th>gender_O</th>\n",
       "    </tr>\n",
       "  </thead>\n",
       "  <tbody>\n",
       "    <tr>\n",
       "      <th>0</th>\n",
       "      <td>0009655768c64bdeb2e877511632db8f</td>\n",
       "      <td>3f207df678b143eea3cee63160fa8bed</td>\n",
       "      <td>1</td>\n",
       "      <td>33</td>\n",
       "      <td>72000.0</td>\n",
       "      <td>506.0</td>\n",
       "      <td>0</td>\n",
       "      <td>4</td>\n",
       "      <td>informational</td>\n",
       "      <td>0</td>\n",
       "      <td>1.0</td>\n",
       "      <td>1.0</td>\n",
       "      <td>1.0</td>\n",
       "      <td>0.0</td>\n",
       "      <td>1.0</td>\n",
       "      <td>0.00</td>\n",
       "      <td>0</td>\n",
       "      <td>1</td>\n",
       "      <td>0</td>\n",
       "    </tr>\n",
       "    <tr>\n",
       "      <th>1</th>\n",
       "      <td>0009655768c64bdeb2e877511632db8f</td>\n",
       "      <td>5a8bc65990b245e5a138643cd4eb9837</td>\n",
       "      <td>1</td>\n",
       "      <td>33</td>\n",
       "      <td>72000.0</td>\n",
       "      <td>506.0</td>\n",
       "      <td>0</td>\n",
       "      <td>3</td>\n",
       "      <td>informational</td>\n",
       "      <td>0</td>\n",
       "      <td>0.0</td>\n",
       "      <td>1.0</td>\n",
       "      <td>1.0</td>\n",
       "      <td>1.0</td>\n",
       "      <td>1.0</td>\n",
       "      <td>0.00</td>\n",
       "      <td>0</td>\n",
       "      <td>1</td>\n",
       "      <td>0</td>\n",
       "    </tr>\n",
       "    <tr>\n",
       "      <th>2</th>\n",
       "      <td>0020c2b971eb4e9188eac86d93036a77</td>\n",
       "      <td>5a8bc65990b245e5a138643cd4eb9837</td>\n",
       "      <td>1</td>\n",
       "      <td>59</td>\n",
       "      <td>90000.0</td>\n",
       "      <td>824.0</td>\n",
       "      <td>0</td>\n",
       "      <td>3</td>\n",
       "      <td>informational</td>\n",
       "      <td>0</td>\n",
       "      <td>0.0</td>\n",
       "      <td>1.0</td>\n",
       "      <td>1.0</td>\n",
       "      <td>1.0</td>\n",
       "      <td>1.0</td>\n",
       "      <td>0.00</td>\n",
       "      <td>1</td>\n",
       "      <td>0</td>\n",
       "      <td>0</td>\n",
       "    </tr>\n",
       "    <tr>\n",
       "      <th>3</th>\n",
       "      <td>0020ccbbb6d84e358d3414a3ff76cffd</td>\n",
       "      <td>5a8bc65990b245e5a138643cd4eb9837</td>\n",
       "      <td>1</td>\n",
       "      <td>24</td>\n",
       "      <td>60000.0</td>\n",
       "      <td>771.0</td>\n",
       "      <td>0</td>\n",
       "      <td>3</td>\n",
       "      <td>informational</td>\n",
       "      <td>0</td>\n",
       "      <td>0.0</td>\n",
       "      <td>1.0</td>\n",
       "      <td>1.0</td>\n",
       "      <td>1.0</td>\n",
       "      <td>1.0</td>\n",
       "      <td>16.27</td>\n",
       "      <td>1</td>\n",
       "      <td>0</td>\n",
       "      <td>0</td>\n",
       "    </tr>\n",
       "    <tr>\n",
       "      <th>4</th>\n",
       "      <td>003d66b6608740288d6cc97a6903f4f0</td>\n",
       "      <td>3f207df678b143eea3cee63160fa8bed</td>\n",
       "      <td>1</td>\n",
       "      <td>26</td>\n",
       "      <td>73000.0</td>\n",
       "      <td>566.0</td>\n",
       "      <td>0</td>\n",
       "      <td>4</td>\n",
       "      <td>informational</td>\n",
       "      <td>0</td>\n",
       "      <td>1.0</td>\n",
       "      <td>1.0</td>\n",
       "      <td>1.0</td>\n",
       "      <td>0.0</td>\n",
       "      <td>1.0</td>\n",
       "      <td>0.00</td>\n",
       "      <td>1</td>\n",
       "      <td>0</td>\n",
       "      <td>0</td>\n",
       "    </tr>\n",
       "  </tbody>\n",
       "</table>\n",
       "</div>"
      ],
      "text/plain": [
       "                             person                          offer_id  \\\n",
       "0  0009655768c64bdeb2e877511632db8f  3f207df678b143eea3cee63160fa8bed   \n",
       "1  0009655768c64bdeb2e877511632db8f  5a8bc65990b245e5a138643cd4eb9837   \n",
       "2  0020c2b971eb4e9188eac86d93036a77  5a8bc65990b245e5a138643cd4eb9837   \n",
       "3  0020ccbbb6d84e358d3414a3ff76cffd  5a8bc65990b245e5a138643cd4eb9837   \n",
       "4  003d66b6608740288d6cc97a6903f4f0  3f207df678b143eea3cee63160fa8bed   \n",
       "\n",
       "   effective_offer  age   income  membership_tenure_days  difficulty  \\\n",
       "0                1   33  72000.0                   506.0           0   \n",
       "1                1   33  72000.0                   506.0           0   \n",
       "2                1   59  90000.0                   824.0           0   \n",
       "3                1   24  60000.0                   771.0           0   \n",
       "4                1   26  73000.0                   566.0           0   \n",
       "\n",
       "   duration     offer_type  reward  web  email  mobile  social  \\\n",
       "0         4  informational       0  1.0    1.0     1.0     0.0   \n",
       "1         3  informational       0  0.0    1.0     1.0     1.0   \n",
       "2         3  informational       0  0.0    1.0     1.0     1.0   \n",
       "3         3  informational       0  0.0    1.0     1.0     1.0   \n",
       "4         4  informational       0  1.0    1.0     1.0     0.0   \n",
       "\n",
       "   offer_received_cnt  amount_invalid  gender_F  gender_M  gender_O  \n",
       "0                 1.0            0.00         0         1         0  \n",
       "1                 1.0            0.00         0         1         0  \n",
       "2                 1.0            0.00         1         0         0  \n",
       "3                 1.0           16.27         1         0         0  \n",
       "4                 1.0            0.00         1         0         0  "
      ]
     },
     "execution_count": 73,
     "metadata": {},
     "output_type": "execute_result"
    }
   ],
   "source": [
    "offers_info.head()"
   ]
  },
  {
   "cell_type": "markdown",
   "metadata": {},
   "source": [
    "#### f.2. Treatment of duplicate records\n",
    "\n",
    "The data cleanly according to unique person-offer_id pairs by group, we should not have any duplicate records."
   ]
  },
  {
   "cell_type": "code",
   "execution_count": 74,
   "metadata": {},
   "outputs": [
    {
     "name": "stdout",
     "output_type": "stream",
     "text": [
      "0\n",
      "0\n",
      "0\n"
     ]
    }
   ],
   "source": [
    "#check multiple records for each person and offer ids for the target variable\n",
    "print((offers_bogo.groupby(['person','offer_id','effective_offer']).size()>1).sum())\n",
    "print((offers_discount.groupby(['person','offer_id','effective_offer']).size()>1).sum())\n",
    "print((offers_info.groupby(['person','offer_id','effective_offer']).size()>1).sum())"
   ]
  },
  {
   "cell_type": "markdown",
   "metadata": {},
   "source": [
    "## Implementation\n",
    "\n",
    "Currently, the datasets are ready, we can proceed to implementing the model. Revisiting our objective, we wanted to analyse the drivers of an effective offer, with the target variable being `effective_offer`.\n",
    "\n",
    "I also selected random forest as an alternate model to compare the baseline model is as an improvement over simple ensemble bagging of decision trees, in order to drive towards a high accuracy in training the model. \n",
    "\n",
    "-> We have to make sure that the classes we are predicting for are balanced in each dataset."
   ]
  },
  {
   "cell_type": "code",
   "execution_count": 75,
   "metadata": {},
   "outputs": [
    {
     "name": "stdout",
     "output_type": "stream",
     "text": [
      "                  person\n",
      "effective_offer         \n",
      "0                0.17783\n",
      "1                0.82217\n",
      "                   person\n",
      "effective_offer          \n",
      "0                0.135256\n",
      "1                0.864744\n",
      "                 person\n",
      "effective_offer        \n",
      "0                0.2611\n",
      "1                0.7389\n"
     ]
    }
   ],
   "source": [
    "#check for class balance in datasets\n",
    "print(offers_bogo[['person','effective_offer']].groupby('effective_offer').count()/len(offers_bogo))\n",
    "print(offers_discount[['person','effective_offer']].groupby('effective_offer').count()/len(offers_discount))\n",
    "print((offers_info[['person','effective_offer']].groupby('effective_offer').count()/len(offers_info)))"
   ]
  },
  {
   "cell_type": "markdown",
   "metadata": {},
   "source": [
    "The classes are quite uneven for all three offer types, but not too imbalanced such that it would pose a problem.\n",
    "\n",
    "A note on model evaluation and validation; since the classes for the all 3 models are imbalanced, I decided to implement both accuracy and f1 score as the model evaluation metric. "
   ]
  },
  {
   "cell_type": "markdown",
   "metadata": {},
   "source": [
    "### a. Model Implementation\n",
    "\n",
    "Now, we are creating 3 models to predict the effectiveness of an offer within each type, depending on offer attributes and user demographics.\n",
    "\n",
    "So first, define our target and features variables."
   ]
  },
  {
   "cell_type": "code",
   "execution_count": 76,
   "metadata": {},
   "outputs": [],
   "source": [
    "def data_prep(df,drop_cols_prep):\n",
    "    '''\n",
    "    inputs:\n",
    "    - df: prepared dataframe\n",
    "    \n",
    "    outputs:\n",
    "    - Returns 2 dataframes\n",
    "    '''\n",
    "    # Split the data into features and target label\n",
    "    target = df['effective_offer']\n",
    "    features = drop_cols(drop_cols_prep,df)\n",
    "    return features,target"
   ]
  },
  {
   "cell_type": "markdown",
   "metadata": {},
   "source": [
    "Next, I split the data into training and test sets. Since the features of my data are all on different scales"
   ]
  },
  {
   "cell_type": "code",
   "execution_count": 77,
   "metadata": {},
   "outputs": [],
   "source": [
    "#prepare model pipeline\n",
    "def model_pipeline(features,target):\n",
    "    '''\n",
    "    inputs:\n",
    "    - features and target dataframe \n",
    "    \n",
    "    outputs:\n",
    "    - Outputs X_train, X_test, y_train and y_test dataframes\n",
    "    '''\n",
    "    \n",
    "    # Split into training and test sets\n",
    "    X_train, X_test, y_train, y_test = train_test_split(features,target, test_size=0.20, random_state=42)\n",
    "\n",
    "    # Fit and transform scaling on training data\n",
    "    scaler=StandardScaler()\n",
    "    X_train=scaler.fit_transform(X_train)\n",
    "\n",
    "    # Scale for testing data\n",
    "    X_test=scaler.transform(X_test)\n",
    "    \n",
    "    return X_train,X_test,y_train, y_test"
   ]
  },
  {
   "cell_type": "markdown",
   "metadata": {},
   "source": [
    "Defining the functions here to run my model as I plan to implement 3 different models;"
   ]
  },
  {
   "cell_type": "code",
   "execution_count": 78,
   "metadata": {},
   "outputs": [],
   "source": [
    "def train_predict(learner, X_train, y_train, X_test, y_test): \n",
    "    '''\n",
    "    inputs:\n",
    "       - X_train: training set\n",
    "       - y_train: evaluate the scores rating for the training set\n",
    "       - X_test: testing set\n",
    "       - y_test:evaluate the scores rating for the testing set\n",
    "    \n",
    "    outputs: The result for the Mean Squared Error and Accuracy Scores\n",
    "    \n",
    "    '''\n",
    "    results = {}\n",
    "    \n",
    "    #Fit the learner to the training data and get training time\n",
    "    start = time() \n",
    "    learner = learner.fit(X_train, y_train)\n",
    "    end = time() \n",
    "    results['train_time'] = end-start\n",
    "    \n",
    "    # Get predictions on the test set(X_test), then get predictions on first 300 training samples\n",
    "    start = time() \n",
    "    predictions_test = learner.predict(X_test)\n",
    "    predictions_train = learner.predict(X_train)\n",
    "    end = time() \n",
    "    \n",
    "    # Calculate the total prediction time\n",
    "    results['pred_time'] = end-start\n",
    "    results['training_score']=learner.score(X_train,y_train)\n",
    "    results['testing_score']=learner.score(X_test,y_test)\n",
    "     \n",
    "    print(\"The {} model is trained for {} samples.\".format(learner.__class__.__name__, len(y_train)))\n",
    "    print(\"The Mean Squared Error Score by train dataset: %.4f\" % mean_squared_error(y_train,predictions_train))\n",
    "    print(\"The Mean Squared Error Score by test datase: %.4f\" % mean_squared_error(y_test,predictions_test))\n",
    "    print(\"The Accuracy Score by train dataset:%.4f\" % results['training_score'])\n",
    "    print(\"The Accuracy Score by test dataset:%.4f\" % results['testing_score'])\n",
    "    print(classification_report(y_test, predictions_test,digits=4))\n",
    "    \n",
    "    return results"
   ]
  },
  {
   "cell_type": "code",
   "execution_count": 79,
   "metadata": {},
   "outputs": [],
   "source": [
    "def run_model(clf1,clf2,name):\n",
    "    '''\n",
    "    inputs: clf1: first classifier model, clf2: 2nd classifier model, name: name of models\n",
    "    \n",
    "    outputs:\n",
    "    - Dataframe of results\n",
    "    '''\n",
    "    \n",
    "    # Collect results on the learners\n",
    "    results = {}\n",
    "    for clf in [clf1, clf2]:\n",
    "        clf_name = clf.__class__.__name__ + '_' +name\n",
    "        results[clf_name] = {}\n",
    "        results[clf_name]= train_predict(clf, X_train, y_train, X_test, y_test)\n",
    "    return pd.DataFrame(results)"
   ]
  },
  {
   "cell_type": "markdown",
   "metadata": {},
   "source": [
    "### The scores evaluation for models."
   ]
  },
  {
   "cell_type": "markdown",
   "metadata": {},
   "source": [
    "To analyse and evalaute the performance of model, we have to refer to the formula for Precision, Recall and F1 score:\n",
    "\n",
    "**Recall or Sensitivity or TPR (True Positive Rate):** \n",
    "\n",
    "According to sklearn documentation, the recall is intuitively the ability of the classifier to find all the positive samples.\n",
    "\n",
    "Number of items correctly identified as positive out of total true positives: True Positives /(True Positives +False Negatives)\n",
    "\n",
    "**Precision:** \n",
    "\n",
    "According to the sklearn documentation, it is intuitively the ability of the classifier not to label as positive a sample that is negative.\n",
    "\n",
    "Number of items correctly identified as positive out of total items identified as positive: True Positives /(True Positives + False Positives)\n",
    "\n",
    "\n",
    "**F1 Score:** \n",
    "\n",
    "Since my F-beta score is F1 with beta=1, I am weighting recall and precision as equally important.\n",
    "\n",
    "The formula is given by the harmonic mean of precision and recall:  F1 = 2*Precision*Recall/(Precision + Recall)\n",
    "\n",
    "We can see that the F1 scores for DT outperformed RF slightly, but both are lower than the accuracy. This would indicate that DT model is doing slightly better compared to RF at not misclassifying negative events as positive (meaning, misclassifying people on which offers are ineffective, as people on which offers would be effective).  \n",
    "\n",
    "The difference in F1 score vs accuracy indicate that there could are instances where both models are falsely classifying negatives as positives, likely due to the imbalance of classes. But the overall higher recall/accuracy compared to F1 score indicates that the model is predicting the positive case (i.e. where an offer is effective) more accurately compared to predicting the negative cases (i.e. where an offer is ineffective), which is expected given the uneven classes..\n",
    "\n",
    "We are perhaps not as concerned with these misclassification since we don't mind sending people more offers than they would have liked; we would rather not miss anyone on which an offer would have been effective.\n",
    "\n",
    "Given this case, I will still go with the RF model.\n",
    "\n",
    "We analyse the drivers of an effective offer, I will check the feature importances for the models after I have selected the best model from refinement."
   ]
  },
  {
   "cell_type": "markdown",
   "metadata": {},
   "source": [
    "#### a. BOGO offers model\n",
    " I initialize the models with some randomly chosen parameters to check the initial performance.\n",
    " \n",
    " If performance needs to be improved further, I will attempt Grid Search to find the optimal parameters."
   ]
  },
  {
   "cell_type": "code",
   "execution_count": 80,
   "metadata": {
    "scrolled": true
   },
   "outputs": [
    {
     "name": "stdout",
     "output_type": "stream",
     "text": [
      "The DecisionTreeClassifier model is trained for 9829 samples.\n",
      "The Mean Squared Error Score by train dataset: 0.1770\n",
      "The Mean Squared Error Score by test datase: 0.1823\n",
      "The Accuracy Score by train dataset:0.8230\n",
      "The Accuracy Score by test dataset:0.8177\n",
      "             precision    recall  f1-score   support\n",
      "\n",
      "          0     0.4797    0.2694    0.3450       438\n",
      "          1     0.8553    0.9366    0.8941      2020\n",
      "\n",
      "avg / total     0.7884    0.8177    0.7963      2458\n",
      "\n",
      "The RandomForestClassifier model is trained for 9829 samples.\n",
      "The Mean Squared Error Score by train dataset: 0.1670\n",
      "The Mean Squared Error Score by test datase: 0.1786\n",
      "The Accuracy Score by train dataset:0.8330\n",
      "The Accuracy Score by test dataset:0.8214\n",
      "             precision    recall  f1-score   support\n",
      "\n",
      "          0     0.4906    0.0594    0.1059       438\n",
      "          1     0.8287    0.9866    0.9008      2020\n",
      "\n",
      "avg / total     0.7684    0.8214    0.7591      2458\n",
      "\n"
     ]
    }
   ],
   "source": [
    "drop_cols_prep=['person','offer_id','effective_offer','offer_type']\n",
    "features,target=data_prep(offers_bogo,drop_cols_prep)\n",
    "X_train, X_test, y_train, y_test=model_pipeline(features,target)\n",
    "\n",
    "#Initialize the model - baseline is DT model, bogo_1 model is RF model\n",
    "baseline = DecisionTreeClassifier(criterion='entropy',max_depth=5,random_state=2,min_samples_split=90,min_samples_leaf=50)\n",
    "bogo_1 = RandomForestClassifier(random_state=2,max_depth= 11, max_features= 'auto',min_samples_split= 10,n_estimators=20,min_samples_leaf=20)\n",
    "\n",
    "results=run_model(baseline,bogo_1,'bogo_1')"
   ]
  },
  {
   "cell_type": "markdown",
   "metadata": {},
   "source": [
    "The accuracy for Random Forest Classifier (RF) model actually ends up outperforming the Decision Tree Classifier (DT) model slightly, but overall the performance for both models is about the same (82.14% vs 81.77% respectively in terms of accuracy). \n",
    "Accuracy for a first attempt is quite good, more than 80%. I will try to tune the model further to get a better accuracy.\n",
    "\n",
    "In terms of the F1 score, both models are below 80%, with the Random Forest model performing worse compared to the Decision Tree Classifier, with 75.91% vs. 79.63%."
   ]
  },
  {
   "cell_type": "markdown",
   "metadata": {},
   "source": [
    "#### a.2. Discount offers model\n",
    "\n",
    "I repeat the same steps above but with my offer_discounts dataset."
   ]
  },
  {
   "cell_type": "code",
   "execution_count": 81,
   "metadata": {},
   "outputs": [
    {
     "name": "stdout",
     "output_type": "stream",
     "text": [
      "The DecisionTreeClassifier model is trained for 10179 samples.\n",
      "The Mean Squared Error Score by train dataset: 0.1371\n",
      "The Mean Squared Error Score by test datase: 0.1277\n",
      "The Accuracy Score by train dataset:0.8629\n",
      "The Accuracy Score by test dataset:0.8723\n",
      "             precision    recall  f1-score   support\n",
      "\n",
      "          0     0.0000    0.0000    0.0000       325\n",
      "          1     0.8723    1.0000    0.9318      2220\n",
      "\n",
      "avg / total     0.7609    0.8723    0.8128      2545\n",
      "\n"
     ]
    },
    {
     "name": "stderr",
     "output_type": "stream",
     "text": [
      "/opt/conda/lib/python3.6/site-packages/sklearn/metrics/classification.py:1135: UndefinedMetricWarning: Precision and F-score are ill-defined and being set to 0.0 in labels with no predicted samples.\n",
      "  'precision', 'predicted', average, warn_for)\n"
     ]
    },
    {
     "name": "stdout",
     "output_type": "stream",
     "text": [
      "The RandomForestClassifier model is trained for 10179 samples.\n",
      "The Mean Squared Error Score by train dataset: 0.1313\n",
      "The Mean Squared Error Score by test datase: 0.1277\n",
      "The Accuracy Score by train dataset:0.8687\n",
      "The Accuracy Score by test dataset:0.8723\n",
      "             precision    recall  f1-score   support\n",
      "\n",
      "          0     0.5000    0.0062    0.0122       325\n",
      "          1     0.8729    0.9991    0.9317      2220\n",
      "\n",
      "avg / total     0.8253    0.8723    0.8143      2545\n",
      "\n"
     ]
    }
   ],
   "source": [
    "drop_cols_prep=['person','offer_id','effective_offer','offer_type']\n",
    "features,target=data_prep(offers_discount,drop_cols_prep)\n",
    "X_train, X_test, y_train, y_test=model_pipeline(features,target)\n",
    "\n",
    "#Initialize the model\n",
    "discount_1 = RandomForestClassifier(random_state=2,max_depth= 20, max_features= 'auto',min_samples_split= 10,n_estimators=20,min_samples_leaf=10)\n",
    "results=pd.concat([results[:],run_model(baseline,discount_1,'discount_1')],axis=1)"
   ]
  },
  {
   "cell_type": "markdown",
   "metadata": {},
   "source": [
    "The Random Forest Classifier model also has a better performance compared to the Decision Tree Classifier in terms of accuracy (87.23% vs 86.72%), and the F1 score is also lower (81.43% vs 82.87%). \n",
    "\n",
    "The F1 score for these models are lower overall compared to the Accuracy score. This could be an indication that there are some instances where both models are classifying the negative cases (effective_offer = 0) falsely."
   ]
  },
  {
   "cell_type": "markdown",
   "metadata": {},
   "source": [
    "#### a.3.  Informational offers model"
   ]
  },
  {
   "cell_type": "code",
   "execution_count": 82,
   "metadata": {},
   "outputs": [
    {
     "name": "stdout",
     "output_type": "stream",
     "text": [
      "The DecisionTreeClassifier model is trained for 5585 samples.\n",
      "The Mean Squared Error Score by train dataset: 0.2462\n",
      "The Mean Squared Error Score by test datase: 0.2541\n",
      "The Accuracy Score by train dataset:0.7538\n",
      "The Accuracy Score by test dataset:0.7459\n",
      "             precision    recall  f1-score   support\n",
      "\n",
      "          0     0.5000    0.1127    0.1839       355\n",
      "          1     0.7608    0.9616    0.8495      1042\n",
      "\n",
      "avg / total     0.6945    0.7459    0.6804      1397\n",
      "\n",
      "The RandomForestClassifier model is trained for 5585 samples.\n",
      "The Mean Squared Error Score by train dataset: 0.2367\n",
      "The Mean Squared Error Score by test datase: 0.2491\n",
      "The Accuracy Score by train dataset:0.7633\n",
      "The Accuracy Score by test dataset:0.7509\n",
      "             precision    recall  f1-score   support\n",
      "\n",
      "          0     0.5636    0.0873    0.1512       355\n",
      "          1     0.7586    0.9770    0.8540      1042\n",
      "\n",
      "avg / total     0.7090    0.7509    0.6754      1397\n",
      "\n"
     ]
    }
   ],
   "source": [
    "features,target=data_prep(offers_info,drop_cols_prep)\n",
    "X_train, X_test, y_train, y_test=model_pipeline(features,target)\n",
    "\n",
    "#Initialize the model\n",
    "info_1 = RandomForestClassifier(random_state=5,criterion='gini',max_depth= 20, max_features= 'auto',min_samples_split= 10,n_estimators=20,min_samples_leaf=10)\n",
    "\n",
    "results=pd.concat([results[:],run_model(baseline,info_1,'info_1')],axis=1)"
   ]
  },
  {
   "cell_type": "markdown",
   "metadata": {},
   "source": [
    "The performance for these models are worse compared to the other 2 datasets, with accuracy below 80% for both models, but RF model still performing better. The F1 score is also worse, at 67.54% RF Classifier, worse than the DT model at 68.66%."
   ]
  },
  {
   "cell_type": "markdown",
   "metadata": {},
   "source": [
    "### b. Refinement\n",
    "\n",
    "We will first try parameter tuning for the 3 RF models, before expreimenting with removing or adding features to improve model performance. \n",
    "\n",
    "So I will be comparing the models based on testing score repeatedly"
   ]
  },
  {
   "cell_type": "code",
   "execution_count": 83,
   "metadata": {},
   "outputs": [],
   "source": [
    "# Define function to find the best model for each offer type\n",
    "def best_model(offer_type):\n",
    "    '''\n",
    "    input: offer_type: string of offer\n",
    "    \n",
    "    output:\n",
    "    - dataframe containing results for the best model\n",
    "    \n",
    "    '''\n",
    "    print('For ' + offer_type + ' RF model:')\n",
    "    return results.transpose()[results.transpose()['testing_score']==results.transpose()[results.transpose().index.str.contains(\"RandomForestClassifier_\"+offer_type)]['testing_score'].max()]"
   ]
  },
  {
   "cell_type": "markdown",
   "metadata": {},
   "source": [
    "#### b. 1. Grid Search to discover optimal parameters\n",
    "\n",
    "For all three offers, the Random Forest model had relatively good performance, so I used Grid Search on this to determine the best parameters."
   ]
  },
  {
   "cell_type": "code",
   "execution_count": 84,
   "metadata": {},
   "outputs": [],
   "source": [
    "# Grid Search function\n",
    "def rand_forest_param_selection(X,y):\n",
    "    '''\n",
    "    input:\n",
    "    - X,y: training datasets\n",
    "    \n",
    "    output:\n",
    "    - dictionary with best parameters\n",
    "    '''\n",
    "    \n",
    "    param_grid={'max_features': ['auto', 'sqrt'],\n",
    "                'max_depth' : [5,10,15,20],\n",
    "                'n_estimators': [10,20,25,30,40,50],\n",
    "                'min_samples_split': [2, 10, 20],\n",
    "                'min_samples_leaf': [2, 10,15, 20],\n",
    "                }\n",
    "    grid_search = GridSearchCV(RandomForestClassifier(random_state=2), param_grid)\n",
    "    grid_search.fit(X, y)\n",
    "    grid_search.best_params_\n",
    "    \n",
    "    return grid_search.best_params_"
   ]
  },
  {
   "cell_type": "code",
   "execution_count": 85,
   "metadata": {},
   "outputs": [],
   "source": [
    "#define BOGO dataset\n",
    "features,target=data_prep(offers_bogo,drop_cols_prep)\n",
    "X_train, X_test, y_train, y_test=model_pipeline(features,target)"
   ]
  },
  {
   "cell_type": "markdown",
   "metadata": {},
   "source": [
    "We have the optimal parameters for the BOGO model\n",
    "\n",
    "-> I run my model again with the new parameters"
   ]
  },
  {
   "cell_type": "code",
   "execution_count": 86,
   "metadata": {},
   "outputs": [
    {
     "name": "stdout",
     "output_type": "stream",
     "text": [
      "The DecisionTreeClassifier model is trained for 9829 samples.\n",
      "The Mean Squared Error Score by train dataset: 0.1770\n",
      "The Mean Squared Error Score by test datase: 0.1823\n",
      "The Accuracy Score by train dataset:0.8230\n",
      "The Accuracy Score by test dataset:0.8177\n",
      "             precision    recall  f1-score   support\n",
      "\n",
      "          0     0.4797    0.2694    0.3450       438\n",
      "          1     0.8553    0.9366    0.8941      2020\n",
      "\n",
      "avg / total     0.7884    0.8177    0.7963      2458\n",
      "\n",
      "The RandomForestClassifier model is trained for 9829 samples.\n",
      "The Mean Squared Error Score by train dataset: 0.1562\n",
      "The Mean Squared Error Score by test datase: 0.1749\n",
      "The Accuracy Score by train dataset:0.8438\n",
      "The Accuracy Score by test dataset:0.8251\n",
      "             precision    recall  f1-score   support\n",
      "\n",
      "          0     0.5408    0.1210    0.1978       438\n",
      "          1     0.8369    0.9777    0.9018      2020\n",
      "\n",
      "avg / total     0.7841    0.8251    0.7764      2458\n",
      "\n"
     ]
    }
   ],
   "source": [
    "features,target=data_prep(offers_bogo,drop_cols_prep)\n",
    "X_train, X_test, y_train, y_test=model_pipeline(features,target)\n",
    "\n",
    "#Initialize the model\n",
    "bogo_2 = RandomForestClassifier(random_state=2,max_depth= 10, max_features= 'auto',min_samples_split= 20,n_estimators=30,min_samples_leaf=2)\n",
    "\n",
    "results=pd.concat([results[:],run_model(baseline,bogo_2,'bogo_2')],axis=1)"
   ]
  },
  {
   "cell_type": "code",
   "execution_count": 87,
   "metadata": {},
   "outputs": [
    {
     "data": {
      "text/html": [
       "<div>\n",
       "<style scoped>\n",
       "    .dataframe tbody tr th:only-of-type {\n",
       "        vertical-align: middle;\n",
       "    }\n",
       "\n",
       "    .dataframe tbody tr th {\n",
       "        vertical-align: top;\n",
       "    }\n",
       "\n",
       "    .dataframe thead th {\n",
       "        text-align: right;\n",
       "    }\n",
       "</style>\n",
       "<table border=\"1\" class=\"dataframe\">\n",
       "  <thead>\n",
       "    <tr style=\"text-align: right;\">\n",
       "      <th></th>\n",
       "      <th>RandomForestClassifier_bogo_1</th>\n",
       "      <th>RandomForestClassifier_bogo_2</th>\n",
       "    </tr>\n",
       "  </thead>\n",
       "  <tbody>\n",
       "    <tr>\n",
       "      <th>pred_time</th>\n",
       "      <td>0.026563</td>\n",
       "      <td>0.045979</td>\n",
       "    </tr>\n",
       "    <tr>\n",
       "      <th>testing_score</th>\n",
       "      <td>0.821400</td>\n",
       "      <td>0.825061</td>\n",
       "    </tr>\n",
       "    <tr>\n",
       "      <th>train_time</th>\n",
       "      <td>0.166782</td>\n",
       "      <td>0.232882</td>\n",
       "    </tr>\n",
       "    <tr>\n",
       "      <th>training_score</th>\n",
       "      <td>0.833045</td>\n",
       "      <td>0.843829</td>\n",
       "    </tr>\n",
       "  </tbody>\n",
       "</table>\n",
       "</div>"
      ],
      "text/plain": [
       "                RandomForestClassifier_bogo_1  RandomForestClassifier_bogo_2\n",
       "pred_time                            0.026563                       0.045979\n",
       "testing_score                        0.821400                       0.825061\n",
       "train_time                           0.166782                       0.232882\n",
       "training_score                       0.833045                       0.843829"
      ]
     },
     "execution_count": 87,
     "metadata": {},
     "output_type": "execute_result"
    }
   ],
   "source": [
    "results[['RandomForestClassifier_bogo_1','RandomForestClassifier_bogo_2']]"
   ]
  },
  {
   "cell_type": "code",
   "execution_count": 88,
   "metadata": {},
   "outputs": [
    {
     "name": "stdout",
     "output_type": "stream",
     "text": [
      "For bogo RF model:\n"
     ]
    },
    {
     "data": {
      "text/html": [
       "<div>\n",
       "<style scoped>\n",
       "    .dataframe tbody tr th:only-of-type {\n",
       "        vertical-align: middle;\n",
       "    }\n",
       "\n",
       "    .dataframe tbody tr th {\n",
       "        vertical-align: top;\n",
       "    }\n",
       "\n",
       "    .dataframe thead th {\n",
       "        text-align: right;\n",
       "    }\n",
       "</style>\n",
       "<table border=\"1\" class=\"dataframe\">\n",
       "  <thead>\n",
       "    <tr style=\"text-align: right;\">\n",
       "      <th></th>\n",
       "      <th>pred_time</th>\n",
       "      <th>testing_score</th>\n",
       "      <th>train_time</th>\n",
       "      <th>training_score</th>\n",
       "    </tr>\n",
       "  </thead>\n",
       "  <tbody>\n",
       "    <tr>\n",
       "      <th>RandomForestClassifier_bogo_2</th>\n",
       "      <td>0.045979</td>\n",
       "      <td>0.825061</td>\n",
       "      <td>0.232882</td>\n",
       "      <td>0.843829</td>\n",
       "    </tr>\n",
       "  </tbody>\n",
       "</table>\n",
       "</div>"
      ],
      "text/plain": [
       "                               pred_time  testing_score  train_time  \\\n",
       "RandomForestClassifier_bogo_2   0.045979       0.825061    0.232882   \n",
       "\n",
       "                               training_score  \n",
       "RandomForestClassifier_bogo_2        0.843829  "
      ]
     },
     "execution_count": 88,
     "metadata": {},
     "output_type": "execute_result"
    }
   ],
   "source": [
    "#find best model so far for BOGO offer type\n",
    "best_model('bogo')"
   ]
  },
  {
   "cell_type": "markdown",
   "metadata": {},
   "source": [
    "The accuracy for the RF model increased slightly - from 82.14% to 82.51%, and the F1 score increased from 75.91% to 77.64%. This is a good performance increase but minimal, which indicates that perhaps there's not much that can be done to improve the performance of the model with parameter tuning. "
   ]
  },
  {
   "cell_type": "code",
   "execution_count": 89,
   "metadata": {},
   "outputs": [],
   "source": [
    "#define discount dataset\n",
    "features,target=data_prep(offers_discount,drop_cols_prep)\n",
    "X_train, X_test, y_train, y_test=model_pipeline(features,target)\n",
    "\n",
    "# run Grid Search - commented out because takes to long to run, but have put in selected params in model\n",
    "# rand_forest_param_selection(X_train, y_train)"
   ]
  },
  {
   "cell_type": "code",
   "execution_count": 90,
   "metadata": {},
   "outputs": [
    {
     "name": "stdout",
     "output_type": "stream",
     "text": [
      "The DecisionTreeClassifier model is trained for 10179 samples.\n",
      "The Mean Squared Error Score by train dataset: 0.1371\n",
      "The Mean Squared Error Score by test datase: 0.1277\n",
      "The Accuracy Score by train dataset:0.8629\n",
      "The Accuracy Score by test dataset:0.8723\n",
      "             precision    recall  f1-score   support\n",
      "\n",
      "          0     0.0000    0.0000    0.0000       325\n",
      "          1     0.8723    1.0000    0.9318      2220\n",
      "\n",
      "avg / total     0.7609    0.8723    0.8128      2545\n",
      "\n"
     ]
    },
    {
     "name": "stderr",
     "output_type": "stream",
     "text": [
      "/opt/conda/lib/python3.6/site-packages/sklearn/metrics/classification.py:1135: UndefinedMetricWarning: Precision and F-score are ill-defined and being set to 0.0 in labels with no predicted samples.\n",
      "  'precision', 'predicted', average, warn_for)\n"
     ]
    },
    {
     "name": "stdout",
     "output_type": "stream",
     "text": [
      "The RandomForestClassifier model is trained for 10179 samples.\n",
      "The Mean Squared Error Score by train dataset: 0.1324\n",
      "The Mean Squared Error Score by test datase: 0.1253\n",
      "The Accuracy Score by train dataset:0.8676\n",
      "The Accuracy Score by test dataset:0.8747\n",
      "             precision    recall  f1-score   support\n",
      "\n",
      "          0     0.7500    0.0277    0.0534       325\n",
      "          1     0.8752    0.9986    0.9329      2220\n",
      "\n",
      "avg / total     0.8593    0.8747    0.8206      2545\n",
      "\n"
     ]
    }
   ],
   "source": [
    "X_train, X_test, y_train, y_test=model_pipeline(features,target)\n",
    "\n",
    "#Initialize the model\n",
    "discount_2 = RandomForestClassifier(random_state=2,max_depth= 10, max_features= 'auto',min_samples_split= 20,n_estimators=30,min_samples_leaf=2)\n",
    "\n",
    "results=pd.concat([results[:],run_model(baseline,discount_2,'discount_2')],axis=1)"
   ]
  },
  {
   "cell_type": "code",
   "execution_count": 91,
   "metadata": {},
   "outputs": [
    {
     "data": {
      "text/html": [
       "<div>\n",
       "<style scoped>\n",
       "    .dataframe tbody tr th:only-of-type {\n",
       "        vertical-align: middle;\n",
       "    }\n",
       "\n",
       "    .dataframe tbody tr th {\n",
       "        vertical-align: top;\n",
       "    }\n",
       "\n",
       "    .dataframe thead th {\n",
       "        text-align: right;\n",
       "    }\n",
       "</style>\n",
       "<table border=\"1\" class=\"dataframe\">\n",
       "  <thead>\n",
       "    <tr style=\"text-align: right;\">\n",
       "      <th></th>\n",
       "      <th>RandomForestClassifier_discount_1</th>\n",
       "      <th>RandomForestClassifier_discount_2</th>\n",
       "    </tr>\n",
       "  </thead>\n",
       "  <tbody>\n",
       "    <tr>\n",
       "      <th>pred_time</th>\n",
       "      <td>0.032177</td>\n",
       "      <td>0.039107</td>\n",
       "    </tr>\n",
       "    <tr>\n",
       "      <th>testing_score</th>\n",
       "      <td>0.872299</td>\n",
       "      <td>0.874656</td>\n",
       "    </tr>\n",
       "    <tr>\n",
       "      <th>train_time</th>\n",
       "      <td>0.174587</td>\n",
       "      <td>0.258940</td>\n",
       "    </tr>\n",
       "    <tr>\n",
       "      <th>training_score</th>\n",
       "      <td>0.868749</td>\n",
       "      <td>0.867570</td>\n",
       "    </tr>\n",
       "  </tbody>\n",
       "</table>\n",
       "</div>"
      ],
      "text/plain": [
       "                RandomForestClassifier_discount_1  \\\n",
       "pred_time                                0.032177   \n",
       "testing_score                            0.872299   \n",
       "train_time                               0.174587   \n",
       "training_score                           0.868749   \n",
       "\n",
       "                RandomForestClassifier_discount_2  \n",
       "pred_time                                0.039107  \n",
       "testing_score                            0.874656  \n",
       "train_time                               0.258940  \n",
       "training_score                           0.867570  "
      ]
     },
     "execution_count": 91,
     "metadata": {},
     "output_type": "execute_result"
    }
   ],
   "source": [
    "results[['RandomForestClassifier_discount_1','RandomForestClassifier_discount_2']]"
   ]
  },
  {
   "cell_type": "code",
   "execution_count": 92,
   "metadata": {},
   "outputs": [
    {
     "name": "stdout",
     "output_type": "stream",
     "text": [
      "For discount RF model:\n"
     ]
    },
    {
     "data": {
      "text/html": [
       "<div>\n",
       "<style scoped>\n",
       "    .dataframe tbody tr th:only-of-type {\n",
       "        vertical-align: middle;\n",
       "    }\n",
       "\n",
       "    .dataframe tbody tr th {\n",
       "        vertical-align: top;\n",
       "    }\n",
       "\n",
       "    .dataframe thead th {\n",
       "        text-align: right;\n",
       "    }\n",
       "</style>\n",
       "<table border=\"1\" class=\"dataframe\">\n",
       "  <thead>\n",
       "    <tr style=\"text-align: right;\">\n",
       "      <th></th>\n",
       "      <th>pred_time</th>\n",
       "      <th>testing_score</th>\n",
       "      <th>train_time</th>\n",
       "      <th>training_score</th>\n",
       "    </tr>\n",
       "  </thead>\n",
       "  <tbody>\n",
       "    <tr>\n",
       "      <th>RandomForestClassifier_discount_2</th>\n",
       "      <td>0.039107</td>\n",
       "      <td>0.874656</td>\n",
       "      <td>0.25894</td>\n",
       "      <td>0.86757</td>\n",
       "    </tr>\n",
       "  </tbody>\n",
       "</table>\n",
       "</div>"
      ],
      "text/plain": [
       "                                   pred_time  testing_score  train_time  \\\n",
       "RandomForestClassifier_discount_2   0.039107       0.874656     0.25894   \n",
       "\n",
       "                                   training_score  \n",
       "RandomForestClassifier_discount_2         0.86757  "
      ]
     },
     "execution_count": 92,
     "metadata": {},
     "output_type": "execute_result"
    }
   ],
   "source": [
    "#find best model so far for discount offer type\n",
    "best_model('discount')"
   ]
  },
  {
   "cell_type": "markdown",
   "metadata": {},
   "source": [
    "The accuracy of the model increaased slightly, from 87.23% to 87.47%, and the F1 score improved from 81.43% to 82.06%.\n",
    "\n",
    "The good thing is that now both the accuracy and the F1 score for the RF model is better than the DT model. "
   ]
  },
  {
   "cell_type": "code",
   "execution_count": 93,
   "metadata": {},
   "outputs": [],
   "source": [
    "#define info dataset\n",
    "features,target=data_prep(offers_info,drop_cols_prep)\n",
    "X_train, X_test, y_train, y_test=model_pipeline(features,target)\n",
    "\n",
    "#run Grid Search - commented out because takes to long to run, but have put in selected params in model\n",
    "# rand_forest_param_selection(X_train, y_train)"
   ]
  },
  {
   "cell_type": "code",
   "execution_count": 94,
   "metadata": {
    "scrolled": true
   },
   "outputs": [
    {
     "name": "stdout",
     "output_type": "stream",
     "text": [
      "The DecisionTreeClassifier model is trained for 5585 samples.\n",
      "The Mean Squared Error Score by train dataset: 0.2462\n",
      "The Mean Squared Error Score by test datase: 0.2541\n",
      "The Accuracy Score by train dataset:0.7538\n",
      "The Accuracy Score by test dataset:0.7459\n",
      "             precision    recall  f1-score   support\n",
      "\n",
      "          0     0.5000    0.1127    0.1839       355\n",
      "          1     0.7608    0.9616    0.8495      1042\n",
      "\n",
      "avg / total     0.6945    0.7459    0.6804      1397\n",
      "\n",
      "The RandomForestClassifier model is trained for 5585 samples.\n",
      "The Mean Squared Error Score by train dataset: 0.2405\n",
      "The Mean Squared Error Score by test datase: 0.2470\n",
      "The Accuracy Score by train dataset:0.7595\n",
      "The Accuracy Score by test dataset:0.7530\n",
      "             precision    recall  f1-score   support\n",
      "\n",
      "          0     0.5926    0.0901    0.1565       355\n",
      "          1     0.7595    0.9789    0.8553      1042\n",
      "\n",
      "avg / total     0.7171    0.7530    0.6778      1397\n",
      "\n"
     ]
    }
   ],
   "source": [
    "features,target=data_prep(offers_info,drop_cols_prep)\n",
    "X_train, X_test, y_train, y_test=model_pipeline(features,target)\n",
    "\n",
    "#Initialize the model\n",
    "info_2 = RandomForestClassifier(random_state=2,max_depth= 15, max_features= 'auto',min_samples_split= 2,n_estimators=20,min_samples_leaf=15)\n",
    "\n",
    "results=pd.concat([results[:],run_model(baseline,info_2,'info_2')],axis=1)"
   ]
  },
  {
   "cell_type": "code",
   "execution_count": 95,
   "metadata": {},
   "outputs": [
    {
     "data": {
      "text/html": [
       "<div>\n",
       "<style scoped>\n",
       "    .dataframe tbody tr th:only-of-type {\n",
       "        vertical-align: middle;\n",
       "    }\n",
       "\n",
       "    .dataframe tbody tr th {\n",
       "        vertical-align: top;\n",
       "    }\n",
       "\n",
       "    .dataframe thead th {\n",
       "        text-align: right;\n",
       "    }\n",
       "</style>\n",
       "<table border=\"1\" class=\"dataframe\">\n",
       "  <thead>\n",
       "    <tr style=\"text-align: right;\">\n",
       "      <th></th>\n",
       "      <th>RandomForestClassifier_info_1</th>\n",
       "      <th>RandomForestClassifier_info_2</th>\n",
       "    </tr>\n",
       "  </thead>\n",
       "  <tbody>\n",
       "    <tr>\n",
       "      <th>pred_time</th>\n",
       "      <td>0.019132</td>\n",
       "      <td>0.015864</td>\n",
       "    </tr>\n",
       "    <tr>\n",
       "      <th>testing_score</th>\n",
       "      <td>0.750895</td>\n",
       "      <td>0.753042</td>\n",
       "    </tr>\n",
       "    <tr>\n",
       "      <th>train_time</th>\n",
       "      <td>0.092693</td>\n",
       "      <td>0.096562</td>\n",
       "    </tr>\n",
       "    <tr>\n",
       "      <th>training_score</th>\n",
       "      <td>0.763295</td>\n",
       "      <td>0.759534</td>\n",
       "    </tr>\n",
       "  </tbody>\n",
       "</table>\n",
       "</div>"
      ],
      "text/plain": [
       "                RandomForestClassifier_info_1  RandomForestClassifier_info_2\n",
       "pred_time                            0.019132                       0.015864\n",
       "testing_score                        0.750895                       0.753042\n",
       "train_time                           0.092693                       0.096562\n",
       "training_score                       0.763295                       0.759534"
      ]
     },
     "execution_count": 95,
     "metadata": {},
     "output_type": "execute_result"
    }
   ],
   "source": [
    "results[['RandomForestClassifier_info_1','RandomForestClassifier_info_2']]"
   ]
  },
  {
   "cell_type": "code",
   "execution_count": 96,
   "metadata": {},
   "outputs": [
    {
     "name": "stdout",
     "output_type": "stream",
     "text": [
      "For info RF model:\n"
     ]
    },
    {
     "data": {
      "text/html": [
       "<div>\n",
       "<style scoped>\n",
       "    .dataframe tbody tr th:only-of-type {\n",
       "        vertical-align: middle;\n",
       "    }\n",
       "\n",
       "    .dataframe tbody tr th {\n",
       "        vertical-align: top;\n",
       "    }\n",
       "\n",
       "    .dataframe thead th {\n",
       "        text-align: right;\n",
       "    }\n",
       "</style>\n",
       "<table border=\"1\" class=\"dataframe\">\n",
       "  <thead>\n",
       "    <tr style=\"text-align: right;\">\n",
       "      <th></th>\n",
       "      <th>pred_time</th>\n",
       "      <th>testing_score</th>\n",
       "      <th>train_time</th>\n",
       "      <th>training_score</th>\n",
       "    </tr>\n",
       "  </thead>\n",
       "  <tbody>\n",
       "    <tr>\n",
       "      <th>RandomForestClassifier_info_2</th>\n",
       "      <td>0.015864</td>\n",
       "      <td>0.753042</td>\n",
       "      <td>0.096562</td>\n",
       "      <td>0.759534</td>\n",
       "    </tr>\n",
       "  </tbody>\n",
       "</table>\n",
       "</div>"
      ],
      "text/plain": [
       "                               pred_time  testing_score  train_time  \\\n",
       "RandomForestClassifier_info_2   0.015864       0.753042    0.096562   \n",
       "\n",
       "                               training_score  \n",
       "RandomForestClassifier_info_2        0.759534  "
      ]
     },
     "execution_count": 96,
     "metadata": {},
     "output_type": "execute_result"
    }
   ],
   "source": [
    "#find best model so far for info offer type\n",
    "best_model('info')"
   ]
  },
  {
   "cell_type": "markdown",
   "metadata": {},
   "source": [
    "The improvement in accuracy for RF model, from 75.09% to 75.30%, and slight increase in F1 score from 67.54% to 67.78%.\n",
    "\n",
    "-> This improvement is minimal,so we look into improving the feature selection of the model. "
   ]
  },
  {
   "cell_type": "markdown",
   "metadata": {},
   "source": [
    "#### b.2. Removing sparse features e.g. amount_invalid\n",
    "\n",
    "In terms of feature selection, I wanted to try and see if removing the amount_invalid variable, which we had noted as being sparse."
   ]
  },
  {
   "cell_type": "code",
   "execution_count": 97,
   "metadata": {},
   "outputs": [
    {
     "name": "stdout",
     "output_type": "stream",
     "text": [
      "The DecisionTreeClassifier model is trained for 9829 samples.\n",
      "The Mean Squared Error Score by train dataset: 0.1743\n",
      "The Mean Squared Error Score by test datase: 0.1810\n",
      "The Accuracy Score by train dataset:0.8257\n",
      "The Accuracy Score by test dataset:0.8190\n",
      "             precision    recall  f1-score   support\n",
      "\n",
      "          0     0.4759    0.1575    0.2367       438\n",
      "          1     0.8405    0.9624    0.8973      2020\n",
      "\n",
      "avg / total     0.7755    0.8190    0.7796      2458\n",
      "\n",
      "The RandomForestClassifier model is trained for 9829 samples.\n",
      "The Mean Squared Error Score by train dataset: 0.1531\n",
      "The Mean Squared Error Score by test datase: 0.1717\n",
      "The Accuracy Score by train dataset:0.8469\n",
      "The Accuracy Score by test dataset:0.8283\n",
      "             precision    recall  f1-score   support\n",
      "\n",
      "          0     0.5889    0.1210    0.2008       438\n",
      "          1     0.8374    0.9817    0.9038      2020\n",
      "\n",
      "avg / total     0.7931    0.8283    0.7785      2458\n",
      "\n"
     ]
    }
   ],
   "source": [
    "#add amount_invalid variable to drop_cols_prep list\n",
    "drop_cols_prep=['person','offer_id','effective_offer','offer_type','amount_invalid']\n",
    "\n",
    "#train BOGO model\n",
    "features,target=data_prep(offers_bogo,drop_cols_prep)\n",
    "X_train, X_test, y_train, y_test=model_pipeline(features,target)\n",
    "\n",
    "#Initialize the model\n",
    "bogo_3 = RandomForestClassifier(random_state=2,max_depth= 10, max_features= 'auto',min_samples_split= 20,n_estimators=30,min_samples_leaf=2)\n",
    "\n",
    "results=pd.concat([results[:],run_model(baseline,bogo_3,'bogo_3')],axis=1)"
   ]
  },
  {
   "cell_type": "code",
   "execution_count": 98,
   "metadata": {},
   "outputs": [
    {
     "data": {
      "text/html": [
       "<div>\n",
       "<style scoped>\n",
       "    .dataframe tbody tr th:only-of-type {\n",
       "        vertical-align: middle;\n",
       "    }\n",
       "\n",
       "    .dataframe tbody tr th {\n",
       "        vertical-align: top;\n",
       "    }\n",
       "\n",
       "    .dataframe thead th {\n",
       "        text-align: right;\n",
       "    }\n",
       "</style>\n",
       "<table border=\"1\" class=\"dataframe\">\n",
       "  <thead>\n",
       "    <tr style=\"text-align: right;\">\n",
       "      <th></th>\n",
       "      <th>RandomForestClassifier_bogo_2</th>\n",
       "      <th>RandomForestClassifier_bogo_3</th>\n",
       "    </tr>\n",
       "  </thead>\n",
       "  <tbody>\n",
       "    <tr>\n",
       "      <th>pred_time</th>\n",
       "      <td>0.045979</td>\n",
       "      <td>0.041833</td>\n",
       "    </tr>\n",
       "    <tr>\n",
       "      <th>testing_score</th>\n",
       "      <td>0.825061</td>\n",
       "      <td>0.828316</td>\n",
       "    </tr>\n",
       "    <tr>\n",
       "      <th>train_time</th>\n",
       "      <td>0.232882</td>\n",
       "      <td>0.263647</td>\n",
       "    </tr>\n",
       "    <tr>\n",
       "      <th>training_score</th>\n",
       "      <td>0.843829</td>\n",
       "      <td>0.846882</td>\n",
       "    </tr>\n",
       "  </tbody>\n",
       "</table>\n",
       "</div>"
      ],
      "text/plain": [
       "                RandomForestClassifier_bogo_2  RandomForestClassifier_bogo_3\n",
       "pred_time                            0.045979                       0.041833\n",
       "testing_score                        0.825061                       0.828316\n",
       "train_time                           0.232882                       0.263647\n",
       "training_score                       0.843829                       0.846882"
      ]
     },
     "execution_count": 98,
     "metadata": {},
     "output_type": "execute_result"
    }
   ],
   "source": [
    "results[['RandomForestClassifier_bogo_2','RandomForestClassifier_bogo_3']]"
   ]
  },
  {
   "cell_type": "code",
   "execution_count": 99,
   "metadata": {},
   "outputs": [
    {
     "name": "stdout",
     "output_type": "stream",
     "text": [
      "For bogo RF model:\n"
     ]
    },
    {
     "data": {
      "text/html": [
       "<div>\n",
       "<style scoped>\n",
       "    .dataframe tbody tr th:only-of-type {\n",
       "        vertical-align: middle;\n",
       "    }\n",
       "\n",
       "    .dataframe tbody tr th {\n",
       "        vertical-align: top;\n",
       "    }\n",
       "\n",
       "    .dataframe thead th {\n",
       "        text-align: right;\n",
       "    }\n",
       "</style>\n",
       "<table border=\"1\" class=\"dataframe\">\n",
       "  <thead>\n",
       "    <tr style=\"text-align: right;\">\n",
       "      <th></th>\n",
       "      <th>pred_time</th>\n",
       "      <th>testing_score</th>\n",
       "      <th>train_time</th>\n",
       "      <th>training_score</th>\n",
       "    </tr>\n",
       "  </thead>\n",
       "  <tbody>\n",
       "    <tr>\n",
       "      <th>RandomForestClassifier_bogo_3</th>\n",
       "      <td>0.041833</td>\n",
       "      <td>0.828316</td>\n",
       "      <td>0.263647</td>\n",
       "      <td>0.846882</td>\n",
       "    </tr>\n",
       "  </tbody>\n",
       "</table>\n",
       "</div>"
      ],
      "text/plain": [
       "                               pred_time  testing_score  train_time  \\\n",
       "RandomForestClassifier_bogo_3   0.041833       0.828316    0.263647   \n",
       "\n",
       "                               training_score  \n",
       "RandomForestClassifier_bogo_3        0.846882  "
      ]
     },
     "execution_count": 99,
     "metadata": {},
     "output_type": "execute_result"
    }
   ],
   "source": [
    "#find best model so far for BOGO offer type\n",
    "best_model('bogo')"
   ]
  },
  {
   "cell_type": "markdown",
   "metadata": {},
   "source": [
    "Model accuracy and F1 score did improve, so I will leave the amount_invalid feature out of my model."
   ]
  },
  {
   "cell_type": "code",
   "execution_count": 100,
   "metadata": {},
   "outputs": [
    {
     "name": "stdout",
     "output_type": "stream",
     "text": [
      "The DecisionTreeClassifier model is trained for 10179 samples.\n",
      "The Mean Squared Error Score by train dataset: 0.1371\n",
      "The Mean Squared Error Score by test datase: 0.1277\n",
      "The Accuracy Score by train dataset:0.8629\n",
      "The Accuracy Score by test dataset:0.8723\n",
      "             precision    recall  f1-score   support\n",
      "\n",
      "          0     0.0000    0.0000    0.0000       325\n",
      "          1     0.8723    1.0000    0.9318      2220\n",
      "\n",
      "avg / total     0.7609    0.8723    0.8128      2545\n",
      "\n"
     ]
    },
    {
     "name": "stderr",
     "output_type": "stream",
     "text": [
      "/opt/conda/lib/python3.6/site-packages/sklearn/metrics/classification.py:1135: UndefinedMetricWarning: Precision and F-score are ill-defined and being set to 0.0 in labels with no predicted samples.\n",
      "  'precision', 'predicted', average, warn_for)\n"
     ]
    },
    {
     "name": "stdout",
     "output_type": "stream",
     "text": [
      "The RandomForestClassifier model is trained for 10179 samples.\n",
      "The Mean Squared Error Score by train dataset: 0.1310\n",
      "The Mean Squared Error Score by test datase: 0.1265\n",
      "The Accuracy Score by train dataset:0.8690\n",
      "The Accuracy Score by test dataset:0.8735\n",
      "             precision    recall  f1-score   support\n",
      "\n",
      "          0     0.5882    0.0308    0.0585       325\n",
      "          1     0.8754    0.9968    0.9322      2220\n",
      "\n",
      "avg / total     0.8387    0.8735    0.8206      2545\n",
      "\n"
     ]
    }
   ],
   "source": [
    "#train discount model\n",
    "features,target=data_prep(offers_discount,drop_cols_prep)\n",
    "X_train, X_test, y_train, y_test=model_pipeline(features,target)\n",
    "\n",
    "#Initialize the model\n",
    "discount_3 = RandomForestClassifier(random_state=2,max_depth= 10, max_features= 'auto',min_samples_split= 20,n_estimators=30,min_samples_leaf=2)\n",
    "\n",
    "results=pd.concat([results[:],run_model(baseline,discount_3,'discount_3')],axis=1)"
   ]
  },
  {
   "cell_type": "code",
   "execution_count": 101,
   "metadata": {},
   "outputs": [
    {
     "data": {
      "text/html": [
       "<div>\n",
       "<style scoped>\n",
       "    .dataframe tbody tr th:only-of-type {\n",
       "        vertical-align: middle;\n",
       "    }\n",
       "\n",
       "    .dataframe tbody tr th {\n",
       "        vertical-align: top;\n",
       "    }\n",
       "\n",
       "    .dataframe thead th {\n",
       "        text-align: right;\n",
       "    }\n",
       "</style>\n",
       "<table border=\"1\" class=\"dataframe\">\n",
       "  <thead>\n",
       "    <tr style=\"text-align: right;\">\n",
       "      <th></th>\n",
       "      <th>RandomForestClassifier_discount_2</th>\n",
       "      <th>RandomForestClassifier_discount_3</th>\n",
       "    </tr>\n",
       "  </thead>\n",
       "  <tbody>\n",
       "    <tr>\n",
       "      <th>pred_time</th>\n",
       "      <td>0.039107</td>\n",
       "      <td>0.041500</td>\n",
       "    </tr>\n",
       "    <tr>\n",
       "      <th>testing_score</th>\n",
       "      <td>0.874656</td>\n",
       "      <td>0.873477</td>\n",
       "    </tr>\n",
       "    <tr>\n",
       "      <th>train_time</th>\n",
       "      <td>0.258940</td>\n",
       "      <td>0.256315</td>\n",
       "    </tr>\n",
       "    <tr>\n",
       "      <th>training_score</th>\n",
       "      <td>0.867570</td>\n",
       "      <td>0.869044</td>\n",
       "    </tr>\n",
       "  </tbody>\n",
       "</table>\n",
       "</div>"
      ],
      "text/plain": [
       "                RandomForestClassifier_discount_2  \\\n",
       "pred_time                                0.039107   \n",
       "testing_score                            0.874656   \n",
       "train_time                               0.258940   \n",
       "training_score                           0.867570   \n",
       "\n",
       "                RandomForestClassifier_discount_3  \n",
       "pred_time                                0.041500  \n",
       "testing_score                            0.873477  \n",
       "train_time                               0.256315  \n",
       "training_score                           0.869044  "
      ]
     },
     "execution_count": 101,
     "metadata": {},
     "output_type": "execute_result"
    }
   ],
   "source": [
    "results[['RandomForestClassifier_discount_2','RandomForestClassifier_discount_3']]"
   ]
  },
  {
   "cell_type": "code",
   "execution_count": 102,
   "metadata": {},
   "outputs": [
    {
     "name": "stdout",
     "output_type": "stream",
     "text": [
      "For discount RF model:\n"
     ]
    },
    {
     "data": {
      "text/html": [
       "<div>\n",
       "<style scoped>\n",
       "    .dataframe tbody tr th:only-of-type {\n",
       "        vertical-align: middle;\n",
       "    }\n",
       "\n",
       "    .dataframe tbody tr th {\n",
       "        vertical-align: top;\n",
       "    }\n",
       "\n",
       "    .dataframe thead th {\n",
       "        text-align: right;\n",
       "    }\n",
       "</style>\n",
       "<table border=\"1\" class=\"dataframe\">\n",
       "  <thead>\n",
       "    <tr style=\"text-align: right;\">\n",
       "      <th></th>\n",
       "      <th>pred_time</th>\n",
       "      <th>testing_score</th>\n",
       "      <th>train_time</th>\n",
       "      <th>training_score</th>\n",
       "    </tr>\n",
       "  </thead>\n",
       "  <tbody>\n",
       "    <tr>\n",
       "      <th>RandomForestClassifier_discount_2</th>\n",
       "      <td>0.039107</td>\n",
       "      <td>0.874656</td>\n",
       "      <td>0.25894</td>\n",
       "      <td>0.86757</td>\n",
       "    </tr>\n",
       "  </tbody>\n",
       "</table>\n",
       "</div>"
      ],
      "text/plain": [
       "                                   pred_time  testing_score  train_time  \\\n",
       "RandomForestClassifier_discount_2   0.039107       0.874656     0.25894   \n",
       "\n",
       "                                   training_score  \n",
       "RandomForestClassifier_discount_2         0.86757  "
      ]
     },
     "execution_count": 102,
     "metadata": {},
     "output_type": "execute_result"
    }
   ],
   "source": [
    "#find best model so far for discount offer type\n",
    "best_model('discount')"
   ]
  },
  {
   "cell_type": "markdown",
   "metadata": {},
   "source": [
    "Accuracy of the model actually increased while F1 model remained the same.\n",
    "\n",
    "So I will also remove the amount_invalid feature for the discount model."
   ]
  },
  {
   "cell_type": "code",
   "execution_count": 103,
   "metadata": {},
   "outputs": [
    {
     "name": "stdout",
     "output_type": "stream",
     "text": [
      "The DecisionTreeClassifier model is trained for 5585 samples.\n",
      "The Mean Squared Error Score by train dataset: 0.2462\n",
      "The Mean Squared Error Score by test datase: 0.2541\n",
      "The Accuracy Score by train dataset:0.7538\n",
      "The Accuracy Score by test dataset:0.7459\n",
      "             precision    recall  f1-score   support\n",
      "\n",
      "          0     0.5000    0.1127    0.1839       355\n",
      "          1     0.7608    0.9616    0.8495      1042\n",
      "\n",
      "avg / total     0.6945    0.7459    0.6804      1397\n",
      "\n",
      "The RandomForestClassifier model is trained for 5585 samples.\n",
      "The Mean Squared Error Score by train dataset: 0.2365\n",
      "The Mean Squared Error Score by test datase: 0.2520\n",
      "The Accuracy Score by train dataset:0.7635\n",
      "The Accuracy Score by test dataset:0.7480\n",
      "             precision    recall  f1-score   support\n",
      "\n",
      "          0     0.5263    0.0845    0.1456       355\n",
      "          1     0.7575    0.9741    0.8522      1042\n",
      "\n",
      "avg / total     0.6987    0.7480    0.6727      1397\n",
      "\n"
     ]
    }
   ],
   "source": [
    "#train info model\n",
    "features,target=data_prep(offers_info,drop_cols_prep)\n",
    "X_train, X_test, y_train, y_test=model_pipeline(features,target)\n",
    "\n",
    "#Initialize the model\n",
    "info_3 = RandomForestClassifier(random_state=2,max_depth= 15, max_features= 'auto',min_samples_split= 2,n_estimators=20,min_samples_leaf=15)\n",
    "\n",
    "results=pd.concat([results[:],run_model(baseline,info_3,'info_3')],axis=1)"
   ]
  },
  {
   "cell_type": "code",
   "execution_count": 104,
   "metadata": {},
   "outputs": [
    {
     "data": {
      "text/html": [
       "<div>\n",
       "<style scoped>\n",
       "    .dataframe tbody tr th:only-of-type {\n",
       "        vertical-align: middle;\n",
       "    }\n",
       "\n",
       "    .dataframe tbody tr th {\n",
       "        vertical-align: top;\n",
       "    }\n",
       "\n",
       "    .dataframe thead th {\n",
       "        text-align: right;\n",
       "    }\n",
       "</style>\n",
       "<table border=\"1\" class=\"dataframe\">\n",
       "  <thead>\n",
       "    <tr style=\"text-align: right;\">\n",
       "      <th></th>\n",
       "      <th>RandomForestClassifier_info_2</th>\n",
       "      <th>RandomForestClassifier_info_3</th>\n",
       "    </tr>\n",
       "  </thead>\n",
       "  <tbody>\n",
       "    <tr>\n",
       "      <th>pred_time</th>\n",
       "      <td>0.015864</td>\n",
       "      <td>0.016481</td>\n",
       "    </tr>\n",
       "    <tr>\n",
       "      <th>testing_score</th>\n",
       "      <td>0.753042</td>\n",
       "      <td>0.748031</td>\n",
       "    </tr>\n",
       "    <tr>\n",
       "      <th>train_time</th>\n",
       "      <td>0.096562</td>\n",
       "      <td>0.083953</td>\n",
       "    </tr>\n",
       "    <tr>\n",
       "      <th>training_score</th>\n",
       "      <td>0.759534</td>\n",
       "      <td>0.763474</td>\n",
       "    </tr>\n",
       "  </tbody>\n",
       "</table>\n",
       "</div>"
      ],
      "text/plain": [
       "                RandomForestClassifier_info_2  RandomForestClassifier_info_3\n",
       "pred_time                            0.015864                       0.016481\n",
       "testing_score                        0.753042                       0.748031\n",
       "train_time                           0.096562                       0.083953\n",
       "training_score                       0.759534                       0.763474"
      ]
     },
     "execution_count": 104,
     "metadata": {},
     "output_type": "execute_result"
    }
   ],
   "source": [
    "results[['RandomForestClassifier_info_2','RandomForestClassifier_info_3']]"
   ]
  },
  {
   "cell_type": "code",
   "execution_count": 105,
   "metadata": {},
   "outputs": [
    {
     "name": "stdout",
     "output_type": "stream",
     "text": [
      "For info RF model:\n"
     ]
    },
    {
     "data": {
      "text/html": [
       "<div>\n",
       "<style scoped>\n",
       "    .dataframe tbody tr th:only-of-type {\n",
       "        vertical-align: middle;\n",
       "    }\n",
       "\n",
       "    .dataframe tbody tr th {\n",
       "        vertical-align: top;\n",
       "    }\n",
       "\n",
       "    .dataframe thead th {\n",
       "        text-align: right;\n",
       "    }\n",
       "</style>\n",
       "<table border=\"1\" class=\"dataframe\">\n",
       "  <thead>\n",
       "    <tr style=\"text-align: right;\">\n",
       "      <th></th>\n",
       "      <th>pred_time</th>\n",
       "      <th>testing_score</th>\n",
       "      <th>train_time</th>\n",
       "      <th>training_score</th>\n",
       "    </tr>\n",
       "  </thead>\n",
       "  <tbody>\n",
       "    <tr>\n",
       "      <th>RandomForestClassifier_info_2</th>\n",
       "      <td>0.015864</td>\n",
       "      <td>0.753042</td>\n",
       "      <td>0.096562</td>\n",
       "      <td>0.759534</td>\n",
       "    </tr>\n",
       "  </tbody>\n",
       "</table>\n",
       "</div>"
      ],
      "text/plain": [
       "                               pred_time  testing_score  train_time  \\\n",
       "RandomForestClassifier_info_2   0.015864       0.753042    0.096562   \n",
       "\n",
       "                               training_score  \n",
       "RandomForestClassifier_info_2        0.759534  "
      ]
     },
     "execution_count": 105,
     "metadata": {},
     "output_type": "execute_result"
    }
   ],
   "source": [
    "#find best model so far for info offer type\n",
    "best_model('info')"
   ]
  },
  {
   "cell_type": "markdown",
   "metadata": {},
   "source": [
    "This is expected since the model had already a worse performance compared to the other 2 models\n",
    "\n",
    "-> So the model is slightly underfitting compared to the others. Hence the model needs more features to learn to predict better."
   ]
  },
  {
   "cell_type": "markdown",
   "metadata": {},
   "source": [
    "#### b. 3. Dropping one level of dummy variables/one-hot encoding\n",
    "\n",
    "There is a debate when using tree models and using regression models when it comes to one hot encoding. For regression classification models."
   ]
  },
  {
   "cell_type": "code",
   "execution_count": 106,
   "metadata": {},
   "outputs": [
    {
     "name": "stdout",
     "output_type": "stream",
     "text": [
      "The DecisionTreeClassifier model is trained for 9829 samples.\n",
      "The Mean Squared Error Score by train dataset: 0.1743\n",
      "The Mean Squared Error Score by test datase: 0.1810\n",
      "The Accuracy Score by train dataset:0.8257\n",
      "The Accuracy Score by test dataset:0.8190\n",
      "             precision    recall  f1-score   support\n",
      "\n",
      "          0     0.4759    0.1575    0.2367       438\n",
      "          1     0.8405    0.9624    0.8973      2020\n",
      "\n",
      "avg / total     0.7755    0.8190    0.7796      2458\n",
      "\n",
      "The RandomForestClassifier model is trained for 9829 samples.\n",
      "The Mean Squared Error Score by train dataset: 0.1478\n",
      "The Mean Squared Error Score by test datase: 0.1749\n",
      "The Accuracy Score by train dataset:0.8522\n",
      "The Accuracy Score by test dataset:0.8251\n",
      "             precision    recall  f1-score   support\n",
      "\n",
      "          0     0.5392    0.1256    0.2037       438\n",
      "          1     0.8374    0.9767    0.9017      2020\n",
      "\n",
      "avg / total     0.7843    0.8251    0.7774      2458\n",
      "\n"
     ]
    }
   ],
   "source": [
    "#add one level of dummy variables to drop column \n",
    "drop_cols_prep=['person','offer_id','effective_offer','offer_type','amount_invalid','social','gender_O']\n",
    "features,target=data_prep(offers_bogo,drop_cols_prep)\n",
    "X_train, X_test, y_train, y_test=model_pipeline(features,target)\n",
    "\n",
    "#Initialize the model - reuse best performing model - \n",
    "bogo_4 = RandomForestClassifier(random_state=2,max_depth= 10, max_features= 'auto',min_samples_split= 20,n_estimators=30,min_samples_leaf=2)\n",
    "\n",
    "results=pd.concat([results[:],run_model(baseline,bogo_4,'bogo_4')],axis=1)"
   ]
  },
  {
   "cell_type": "code",
   "execution_count": 107,
   "metadata": {},
   "outputs": [
    {
     "data": {
      "text/html": [
       "<div>\n",
       "<style scoped>\n",
       "    .dataframe tbody tr th:only-of-type {\n",
       "        vertical-align: middle;\n",
       "    }\n",
       "\n",
       "    .dataframe tbody tr th {\n",
       "        vertical-align: top;\n",
       "    }\n",
       "\n",
       "    .dataframe thead th {\n",
       "        text-align: right;\n",
       "    }\n",
       "</style>\n",
       "<table border=\"1\" class=\"dataframe\">\n",
       "  <thead>\n",
       "    <tr style=\"text-align: right;\">\n",
       "      <th></th>\n",
       "      <th>RandomForestClassifier_bogo_3</th>\n",
       "      <th>RandomForestClassifier_bogo_4</th>\n",
       "    </tr>\n",
       "  </thead>\n",
       "  <tbody>\n",
       "    <tr>\n",
       "      <th>pred_time</th>\n",
       "      <td>0.041833</td>\n",
       "      <td>0.041445</td>\n",
       "    </tr>\n",
       "    <tr>\n",
       "      <th>testing_score</th>\n",
       "      <td>0.828316</td>\n",
       "      <td>0.825061</td>\n",
       "    </tr>\n",
       "    <tr>\n",
       "      <th>train_time</th>\n",
       "      <td>0.263647</td>\n",
       "      <td>0.254647</td>\n",
       "    </tr>\n",
       "    <tr>\n",
       "      <th>training_score</th>\n",
       "      <td>0.846882</td>\n",
       "      <td>0.852172</td>\n",
       "    </tr>\n",
       "  </tbody>\n",
       "</table>\n",
       "</div>"
      ],
      "text/plain": [
       "                RandomForestClassifier_bogo_3  RandomForestClassifier_bogo_4\n",
       "pred_time                            0.041833                       0.041445\n",
       "testing_score                        0.828316                       0.825061\n",
       "train_time                           0.263647                       0.254647\n",
       "training_score                       0.846882                       0.852172"
      ]
     },
     "execution_count": 107,
     "metadata": {},
     "output_type": "execute_result"
    }
   ],
   "source": [
    "results[['RandomForestClassifier_bogo_3','RandomForestClassifier_bogo_4']]"
   ]
  },
  {
   "cell_type": "code",
   "execution_count": 108,
   "metadata": {},
   "outputs": [
    {
     "name": "stdout",
     "output_type": "stream",
     "text": [
      "For bogo RF model:\n"
     ]
    },
    {
     "data": {
      "text/html": [
       "<div>\n",
       "<style scoped>\n",
       "    .dataframe tbody tr th:only-of-type {\n",
       "        vertical-align: middle;\n",
       "    }\n",
       "\n",
       "    .dataframe tbody tr th {\n",
       "        vertical-align: top;\n",
       "    }\n",
       "\n",
       "    .dataframe thead th {\n",
       "        text-align: right;\n",
       "    }\n",
       "</style>\n",
       "<table border=\"1\" class=\"dataframe\">\n",
       "  <thead>\n",
       "    <tr style=\"text-align: right;\">\n",
       "      <th></th>\n",
       "      <th>pred_time</th>\n",
       "      <th>testing_score</th>\n",
       "      <th>train_time</th>\n",
       "      <th>training_score</th>\n",
       "    </tr>\n",
       "  </thead>\n",
       "  <tbody>\n",
       "    <tr>\n",
       "      <th>RandomForestClassifier_bogo_3</th>\n",
       "      <td>0.041833</td>\n",
       "      <td>0.828316</td>\n",
       "      <td>0.263647</td>\n",
       "      <td>0.846882</td>\n",
       "    </tr>\n",
       "  </tbody>\n",
       "</table>\n",
       "</div>"
      ],
      "text/plain": [
       "                               pred_time  testing_score  train_time  \\\n",
       "RandomForestClassifier_bogo_3   0.041833       0.828316    0.263647   \n",
       "\n",
       "                               training_score  \n",
       "RandomForestClassifier_bogo_3        0.846882  "
      ]
     },
     "execution_count": 108,
     "metadata": {},
     "output_type": "execute_result"
    }
   ],
   "source": [
    "#find best model so far for BOGO offer type\n",
    "best_model('bogo')"
   ]
  },
  {
   "cell_type": "markdown",
   "metadata": {},
   "source": [
    "Performance of this model was not as good as previous model - hence I will keep alll levels of variables in."
   ]
  },
  {
   "cell_type": "code",
   "execution_count": 109,
   "metadata": {},
   "outputs": [
    {
     "name": "stdout",
     "output_type": "stream",
     "text": [
      "The DecisionTreeClassifier model is trained for 10179 samples.\n",
      "The Mean Squared Error Score by train dataset: 0.1371\n",
      "The Mean Squared Error Score by test datase: 0.1277\n",
      "The Accuracy Score by train dataset:0.8629\n",
      "The Accuracy Score by test dataset:0.8723\n",
      "             precision    recall  f1-score   support\n",
      "\n",
      "          0     0.0000    0.0000    0.0000       325\n",
      "          1     0.8723    1.0000    0.9318      2220\n",
      "\n",
      "avg / total     0.7609    0.8723    0.8128      2545\n",
      "\n"
     ]
    },
    {
     "name": "stderr",
     "output_type": "stream",
     "text": [
      "/opt/conda/lib/python3.6/site-packages/sklearn/metrics/classification.py:1135: UndefinedMetricWarning: Precision and F-score are ill-defined and being set to 0.0 in labels with no predicted samples.\n",
      "  'precision', 'predicted', average, warn_for)\n"
     ]
    },
    {
     "name": "stdout",
     "output_type": "stream",
     "text": [
      "The RandomForestClassifier model is trained for 10179 samples.\n",
      "The Mean Squared Error Score by train dataset: 0.1308\n",
      "The Mean Squared Error Score by test datase: 0.1269\n",
      "The Accuracy Score by train dataset:0.8692\n",
      "The Accuracy Score by test dataset:0.8731\n",
      "             precision    recall  f1-score   support\n",
      "\n",
      "          0     0.5714    0.0246    0.0472       325\n",
      "          1     0.8748    0.9973    0.9320      2220\n",
      "\n",
      "avg / total     0.8360    0.8731    0.8190      2545\n",
      "\n"
     ]
    }
   ],
   "source": [
    "features,target=data_prep(offers_discount,drop_cols_prep)\n",
    "X_train, X_test, y_train, y_test=model_pipeline(features,target)\n",
    "\n",
    "#Initialize the model - reuse best performing model - \n",
    "discount_4 = RandomForestClassifier(random_state=2,max_depth= 10, max_features= 'auto',min_samples_split= 20,n_estimators=30,min_samples_leaf=2)\n",
    "\n",
    "results=pd.concat([results[:],run_model(baseline,discount_4,'discount_4')],axis=1)"
   ]
  },
  {
   "cell_type": "code",
   "execution_count": 110,
   "metadata": {},
   "outputs": [
    {
     "data": {
      "text/html": [
       "<div>\n",
       "<style scoped>\n",
       "    .dataframe tbody tr th:only-of-type {\n",
       "        vertical-align: middle;\n",
       "    }\n",
       "\n",
       "    .dataframe tbody tr th {\n",
       "        vertical-align: top;\n",
       "    }\n",
       "\n",
       "    .dataframe thead th {\n",
       "        text-align: right;\n",
       "    }\n",
       "</style>\n",
       "<table border=\"1\" class=\"dataframe\">\n",
       "  <thead>\n",
       "    <tr style=\"text-align: right;\">\n",
       "      <th></th>\n",
       "      <th>RandomForestClassifier_discount_3</th>\n",
       "      <th>RandomForestClassifier_discount_4</th>\n",
       "    </tr>\n",
       "  </thead>\n",
       "  <tbody>\n",
       "    <tr>\n",
       "      <th>pred_time</th>\n",
       "      <td>0.041500</td>\n",
       "      <td>0.039587</td>\n",
       "    </tr>\n",
       "    <tr>\n",
       "      <th>testing_score</th>\n",
       "      <td>0.873477</td>\n",
       "      <td>0.873084</td>\n",
       "    </tr>\n",
       "    <tr>\n",
       "      <th>train_time</th>\n",
       "      <td>0.256315</td>\n",
       "      <td>0.277586</td>\n",
       "    </tr>\n",
       "    <tr>\n",
       "      <th>training_score</th>\n",
       "      <td>0.869044</td>\n",
       "      <td>0.869241</td>\n",
       "    </tr>\n",
       "  </tbody>\n",
       "</table>\n",
       "</div>"
      ],
      "text/plain": [
       "                RandomForestClassifier_discount_3  \\\n",
       "pred_time                                0.041500   \n",
       "testing_score                            0.873477   \n",
       "train_time                               0.256315   \n",
       "training_score                           0.869044   \n",
       "\n",
       "                RandomForestClassifier_discount_4  \n",
       "pred_time                                0.039587  \n",
       "testing_score                            0.873084  \n",
       "train_time                               0.277586  \n",
       "training_score                           0.869241  "
      ]
     },
     "execution_count": 110,
     "metadata": {},
     "output_type": "execute_result"
    }
   ],
   "source": [
    "results[['RandomForestClassifier_discount_3','RandomForestClassifier_discount_4']]"
   ]
  },
  {
   "cell_type": "code",
   "execution_count": 111,
   "metadata": {},
   "outputs": [
    {
     "name": "stdout",
     "output_type": "stream",
     "text": [
      "For discount RF model:\n"
     ]
    },
    {
     "data": {
      "text/html": [
       "<div>\n",
       "<style scoped>\n",
       "    .dataframe tbody tr th:only-of-type {\n",
       "        vertical-align: middle;\n",
       "    }\n",
       "\n",
       "    .dataframe tbody tr th {\n",
       "        vertical-align: top;\n",
       "    }\n",
       "\n",
       "    .dataframe thead th {\n",
       "        text-align: right;\n",
       "    }\n",
       "</style>\n",
       "<table border=\"1\" class=\"dataframe\">\n",
       "  <thead>\n",
       "    <tr style=\"text-align: right;\">\n",
       "      <th></th>\n",
       "      <th>pred_time</th>\n",
       "      <th>testing_score</th>\n",
       "      <th>train_time</th>\n",
       "      <th>training_score</th>\n",
       "    </tr>\n",
       "  </thead>\n",
       "  <tbody>\n",
       "    <tr>\n",
       "      <th>RandomForestClassifier_discount_2</th>\n",
       "      <td>0.039107</td>\n",
       "      <td>0.874656</td>\n",
       "      <td>0.25894</td>\n",
       "      <td>0.86757</td>\n",
       "    </tr>\n",
       "  </tbody>\n",
       "</table>\n",
       "</div>"
      ],
      "text/plain": [
       "                                   pred_time  testing_score  train_time  \\\n",
       "RandomForestClassifier_discount_2   0.039107       0.874656     0.25894   \n",
       "\n",
       "                                   training_score  \n",
       "RandomForestClassifier_discount_2         0.86757  "
      ]
     },
     "execution_count": 111,
     "metadata": {},
     "output_type": "execute_result"
    }
   ],
   "source": [
    "#find best model so far for discount offer type\n",
    "best_model('discount')"
   ]
  },
  {
   "cell_type": "markdown",
   "metadata": {},
   "source": [
    "Accuracy of model was not as good, and minimal improvement. Hence I will keep all levels in."
   ]
  },
  {
   "cell_type": "code",
   "execution_count": 112,
   "metadata": {},
   "outputs": [
    {
     "name": "stdout",
     "output_type": "stream",
     "text": [
      "The DecisionTreeClassifier model is trained for 5585 samples.\n",
      "The Mean Squared Error Score by train dataset: 0.2462\n",
      "The Mean Squared Error Score by test datase: 0.2541\n",
      "The Accuracy Score by train dataset:0.7538\n",
      "The Accuracy Score by test dataset:0.7459\n",
      "             precision    recall  f1-score   support\n",
      "\n",
      "          0     0.5000    0.1127    0.1839       355\n",
      "          1     0.7608    0.9616    0.8495      1042\n",
      "\n",
      "avg / total     0.6945    0.7459    0.6804      1397\n",
      "\n",
      "The RandomForestClassifier model is trained for 5585 samples.\n",
      "The Mean Squared Error Score by train dataset: 0.2380\n",
      "The Mean Squared Error Score by test datase: 0.2520\n",
      "The Accuracy Score by train dataset:0.7620\n",
      "The Accuracy Score by test dataset:0.7480\n",
      "             precision    recall  f1-score   support\n",
      "\n",
      "          0     0.5205    0.1070    0.1776       355\n",
      "          1     0.7606    0.9664    0.8512      1042\n",
      "\n",
      "avg / total     0.6996    0.7480    0.6800      1397\n",
      "\n"
     ]
    }
   ],
   "source": [
    "features,target=data_prep(offers_info,drop_cols_prep)\n",
    "X_train, X_test, y_train, y_test=model_pipeline(features,target)\n",
    "\n",
    "#Initialize the model - reuse best performing model - \n",
    "info_4 = RandomForestClassifier(random_state=2,max_depth= 15, max_features= 'auto',min_samples_split= 2,n_estimators=20,min_samples_leaf=15)\n",
    "\n",
    "results=pd.concat([results[:],run_model(baseline,info_4,'info_4')],axis=1)"
   ]
  },
  {
   "cell_type": "code",
   "execution_count": 113,
   "metadata": {
    "scrolled": true
   },
   "outputs": [
    {
     "data": {
      "text/html": [
       "<div>\n",
       "<style scoped>\n",
       "    .dataframe tbody tr th:only-of-type {\n",
       "        vertical-align: middle;\n",
       "    }\n",
       "\n",
       "    .dataframe tbody tr th {\n",
       "        vertical-align: top;\n",
       "    }\n",
       "\n",
       "    .dataframe thead th {\n",
       "        text-align: right;\n",
       "    }\n",
       "</style>\n",
       "<table border=\"1\" class=\"dataframe\">\n",
       "  <thead>\n",
       "    <tr style=\"text-align: right;\">\n",
       "      <th></th>\n",
       "      <th>RandomForestClassifier_info_3</th>\n",
       "      <th>RandomForestClassifier_info_4</th>\n",
       "    </tr>\n",
       "  </thead>\n",
       "  <tbody>\n",
       "    <tr>\n",
       "      <th>pred_time</th>\n",
       "      <td>0.016481</td>\n",
       "      <td>0.016875</td>\n",
       "    </tr>\n",
       "    <tr>\n",
       "      <th>testing_score</th>\n",
       "      <td>0.748031</td>\n",
       "      <td>0.748031</td>\n",
       "    </tr>\n",
       "    <tr>\n",
       "      <th>train_time</th>\n",
       "      <td>0.083953</td>\n",
       "      <td>0.109081</td>\n",
       "    </tr>\n",
       "    <tr>\n",
       "      <th>training_score</th>\n",
       "      <td>0.763474</td>\n",
       "      <td>0.762041</td>\n",
       "    </tr>\n",
       "  </tbody>\n",
       "</table>\n",
       "</div>"
      ],
      "text/plain": [
       "                RandomForestClassifier_info_3  RandomForestClassifier_info_4\n",
       "pred_time                            0.016481                       0.016875\n",
       "testing_score                        0.748031                       0.748031\n",
       "train_time                           0.083953                       0.109081\n",
       "training_score                       0.763474                       0.762041"
      ]
     },
     "execution_count": 113,
     "metadata": {},
     "output_type": "execute_result"
    }
   ],
   "source": [
    "results[['RandomForestClassifier_info_3','RandomForestClassifier_info_4']]"
   ]
  },
  {
   "cell_type": "code",
   "execution_count": 114,
   "metadata": {},
   "outputs": [
    {
     "name": "stdout",
     "output_type": "stream",
     "text": [
      "For info RF model:\n"
     ]
    },
    {
     "data": {
      "text/html": [
       "<div>\n",
       "<style scoped>\n",
       "    .dataframe tbody tr th:only-of-type {\n",
       "        vertical-align: middle;\n",
       "    }\n",
       "\n",
       "    .dataframe tbody tr th {\n",
       "        vertical-align: top;\n",
       "    }\n",
       "\n",
       "    .dataframe thead th {\n",
       "        text-align: right;\n",
       "    }\n",
       "</style>\n",
       "<table border=\"1\" class=\"dataframe\">\n",
       "  <thead>\n",
       "    <tr style=\"text-align: right;\">\n",
       "      <th></th>\n",
       "      <th>pred_time</th>\n",
       "      <th>testing_score</th>\n",
       "      <th>train_time</th>\n",
       "      <th>training_score</th>\n",
       "    </tr>\n",
       "  </thead>\n",
       "  <tbody>\n",
       "    <tr>\n",
       "      <th>RandomForestClassifier_info_2</th>\n",
       "      <td>0.015864</td>\n",
       "      <td>0.753042</td>\n",
       "      <td>0.096562</td>\n",
       "      <td>0.759534</td>\n",
       "    </tr>\n",
       "  </tbody>\n",
       "</table>\n",
       "</div>"
      ],
      "text/plain": [
       "                               pred_time  testing_score  train_time  \\\n",
       "RandomForestClassifier_info_2   0.015864       0.753042    0.096562   \n",
       "\n",
       "                               training_score  \n",
       "RandomForestClassifier_info_2        0.759534  "
      ]
     },
     "execution_count": 114,
     "metadata": {},
     "output_type": "execute_result"
    }
   ],
   "source": [
    "#find best model so far for info offer type\n",
    "best_model('info')"
   ]
  },
  {
   "cell_type": "markdown",
   "metadata": {},
   "source": [
    "Overall, there is not much improvement in model performance just by reducing one level of categorical features."
   ]
  },
  {
   "cell_type": "markdown",
   "metadata": {},
   "source": [
    "#### b. 4. Using polynomial features\n",
    "\n",
    "Since a low accuracy score for the info model is likely due to the model underfitting, we decided to attempt if transforming the features further might improve model performance."
   ]
  },
  {
   "cell_type": "code",
   "execution_count": 115,
   "metadata": {},
   "outputs": [],
   "source": [
    "# Define model pipeline\n",
    "def model_pipeline_poly(features,target,poly_feat=0):\n",
    "    '''\n",
    "    input:\n",
    "    - features and target dataframes\n",
    "    - poly_feat: number of degrees to transform model\n",
    "    \n",
    "    output:\n",
    "    - X_train, X_test, y_train, y_test dataframes\n",
    "    \n",
    "    '''\n",
    "    \n",
    "    # Split into training and test sets\n",
    "    X_train, X_test, y_train, y_test = train_test_split(features, target, test_size=0.20, random_state=42)\n",
    "    \n",
    "    # Fit and transform for training data\n",
    "    poly = PolynomialFeatures(poly_feat)\n",
    "    X_train_poly=poly.fit_transform(X_train)\n",
    "    \n",
    "    # Transform for testing data\n",
    "    X_test_poly=poly.transform(X_test)\n",
    "    \n",
    "    # Fit and transform scaling on training data\n",
    "    scaler=StandardScaler()\n",
    "    X_train=scaler.fit_transform(X_train_poly)\n",
    "\n",
    "    # Scale test data\n",
    "    X_test=scaler.transform(X_test_poly)\n",
    "    \n",
    "    return X_train,X_test,y_train, y_test"
   ]
  },
  {
   "cell_type": "code",
   "execution_count": 116,
   "metadata": {},
   "outputs": [
    {
     "name": "stdout",
     "output_type": "stream",
     "text": [
      "The DecisionTreeClassifier model is trained for 5585 samples.\n",
      "The Mean Squared Error Score by train dataset: 0.2448\n",
      "The Mean Squared Error Score by test datase: 0.2491\n",
      "The Accuracy Score by train dataset:0.7552\n",
      "The Accuracy Score by test dataset:0.7509\n",
      "             precision    recall  f1-score   support\n",
      "\n",
      "          0     0.5393    0.1352    0.2162       355\n",
      "          1     0.7653    0.9607    0.8519      1042\n",
      "\n",
      "avg / total     0.7079    0.7509    0.6904      1397\n",
      "\n",
      "The RandomForestClassifier model is trained for 5585 samples.\n",
      "The Mean Squared Error Score by train dataset: 0.2249\n",
      "The Mean Squared Error Score by test datase: 0.2534\n",
      "The Accuracy Score by train dataset:0.7751\n",
      "The Accuracy Score by test dataset:0.7466\n",
      "             precision    recall  f1-score   support\n",
      "\n",
      "          0     0.5054    0.1324    0.2098       355\n",
      "          1     0.7638    0.9559    0.8491      1042\n",
      "\n",
      "avg / total     0.6981    0.7466    0.6867      1397\n",
      "\n"
     ]
    }
   ],
   "source": [
    "# Keep amount_invalid in dataset\n",
    "drop_cols_prep=['person','offer_id','effective_offer','offer_type']\n",
    "features,target=data_prep(offers_info,drop_cols_prep)\n",
    "X_train, X_test, y_train, y_test=model_pipeline_poly(features,target,2)\n",
    "\n",
    "# Initialize the model\n",
    "info_5 = RandomForestClassifier(random_state=2,max_depth= 15, max_features= 'auto',min_samples_split= 2,n_estimators=20,min_samples_leaf=15)\n",
    "\n",
    "results=pd.concat([results[:],run_model(baseline,info_5,'info_5')],axis=1)"
   ]
  },
  {
   "cell_type": "code",
   "execution_count": 117,
   "metadata": {},
   "outputs": [
    {
     "data": {
      "text/html": [
       "<div>\n",
       "<style scoped>\n",
       "    .dataframe tbody tr th:only-of-type {\n",
       "        vertical-align: middle;\n",
       "    }\n",
       "\n",
       "    .dataframe tbody tr th {\n",
       "        vertical-align: top;\n",
       "    }\n",
       "\n",
       "    .dataframe thead th {\n",
       "        text-align: right;\n",
       "    }\n",
       "</style>\n",
       "<table border=\"1\" class=\"dataframe\">\n",
       "  <thead>\n",
       "    <tr style=\"text-align: right;\">\n",
       "      <th></th>\n",
       "      <th>RandomForestClassifier_info_2</th>\n",
       "      <th>RandomForestClassifier_info_5</th>\n",
       "    </tr>\n",
       "  </thead>\n",
       "  <tbody>\n",
       "    <tr>\n",
       "      <th>pred_time</th>\n",
       "      <td>0.015864</td>\n",
       "      <td>0.020193</td>\n",
       "    </tr>\n",
       "    <tr>\n",
       "      <th>testing_score</th>\n",
       "      <td>0.753042</td>\n",
       "      <td>0.746600</td>\n",
       "    </tr>\n",
       "    <tr>\n",
       "      <th>train_time</th>\n",
       "      <td>0.096562</td>\n",
       "      <td>0.220039</td>\n",
       "    </tr>\n",
       "    <tr>\n",
       "      <th>training_score</th>\n",
       "      <td>0.759534</td>\n",
       "      <td>0.775112</td>\n",
       "    </tr>\n",
       "  </tbody>\n",
       "</table>\n",
       "</div>"
      ],
      "text/plain": [
       "                RandomForestClassifier_info_2  RandomForestClassifier_info_5\n",
       "pred_time                            0.015864                       0.020193\n",
       "testing_score                        0.753042                       0.746600\n",
       "train_time                           0.096562                       0.220039\n",
       "training_score                       0.759534                       0.775112"
      ]
     },
     "execution_count": 117,
     "metadata": {},
     "output_type": "execute_result"
    }
   ],
   "source": [
    "results[['RandomForestClassifier_info_2','RandomForestClassifier_info_5']]"
   ]
  },
  {
   "cell_type": "code",
   "execution_count": 118,
   "metadata": {},
   "outputs": [
    {
     "name": "stdout",
     "output_type": "stream",
     "text": [
      "For info RF model:\n"
     ]
    },
    {
     "data": {
      "text/html": [
       "<div>\n",
       "<style scoped>\n",
       "    .dataframe tbody tr th:only-of-type {\n",
       "        vertical-align: middle;\n",
       "    }\n",
       "\n",
       "    .dataframe tbody tr th {\n",
       "        vertical-align: top;\n",
       "    }\n",
       "\n",
       "    .dataframe thead th {\n",
       "        text-align: right;\n",
       "    }\n",
       "</style>\n",
       "<table border=\"1\" class=\"dataframe\">\n",
       "  <thead>\n",
       "    <tr style=\"text-align: right;\">\n",
       "      <th></th>\n",
       "      <th>pred_time</th>\n",
       "      <th>testing_score</th>\n",
       "      <th>train_time</th>\n",
       "      <th>training_score</th>\n",
       "    </tr>\n",
       "  </thead>\n",
       "  <tbody>\n",
       "    <tr>\n",
       "      <th>RandomForestClassifier_info_2</th>\n",
       "      <td>0.015864</td>\n",
       "      <td>0.753042</td>\n",
       "      <td>0.096562</td>\n",
       "      <td>0.759534</td>\n",
       "    </tr>\n",
       "  </tbody>\n",
       "</table>\n",
       "</div>"
      ],
      "text/plain": [
       "                               pred_time  testing_score  train_time  \\\n",
       "RandomForestClassifier_info_2   0.015864       0.753042    0.096562   \n",
       "\n",
       "                               training_score  \n",
       "RandomForestClassifier_info_2        0.759534  "
      ]
     },
     "execution_count": 118,
     "metadata": {},
     "output_type": "execute_result"
    }
   ],
   "source": [
    "#find best model so far for info offer type\n",
    "best_model('info')"
   ]
  },
  {
   "cell_type": "markdown",
   "metadata": {},
   "source": [
    "That performance actually decreased slightly for the RF model. Hence it would perhaps be a better idea to just keep the model as is. After all, we already included some assumptions for the 'influence' of the offer based on the duration."
   ]
  },
  {
   "cell_type": "code",
   "execution_count": 119,
   "metadata": {},
   "outputs": [
    {
     "data": {
      "image/png": "[encoded data removed]",
      "text/plain": [
       "<matplotlib.figure.Figure at 0x7fdf9194fc50>"
      ]
     },
     "metadata": {
      "needs_background": "light"
     },
     "output_type": "display_data"
    }
   ],
   "source": [
    "results.loc[['training_score','testing_score'],['RandomForestClassifier_info_1','RandomForestClassifier_info_2','RandomForestClassifier_info_3','RandomForestClassifier_info_4','RandomForestClassifier_info_5']].transpose().plot.line()\n",
    "plt.title('Training and Testing score for RF info models')\n",
    "plt.show()"
   ]
  },
  {
   "cell_type": "markdown",
   "metadata": {},
   "source": [
    "We can above actually see the model is performing better in the training accuracy as we add more variables for each model via polynomial features and removing the amount_invalid feature. It is just that the testing accuracy was reducing, and we can see this is due to overfitting.\n",
    "\n",
    "**b.5. Discussion on best models and feature importances:**\n",
    "\n",
    "Now, we check the results for our best models for all 3 and check the feature importances to see the top drivers of effectiveness of offers."
   ]
  },
  {
   "cell_type": "code",
   "execution_count": 120,
   "metadata": {},
   "outputs": [
    {
     "name": "stdout",
     "output_type": "stream",
     "text": [
      "For bogo RF model:\n",
      "For discount RF model:\n",
      "For info RF model:\n"
     ]
    },
    {
     "data": {
      "text/html": [
       "<div>\n",
       "<style scoped>\n",
       "    .dataframe tbody tr th:only-of-type {\n",
       "        vertical-align: middle;\n",
       "    }\n",
       "\n",
       "    .dataframe tbody tr th {\n",
       "        vertical-align: top;\n",
       "    }\n",
       "\n",
       "    .dataframe thead th {\n",
       "        text-align: right;\n",
       "    }\n",
       "</style>\n",
       "<table border=\"1\" class=\"dataframe\">\n",
       "  <thead>\n",
       "    <tr style=\"text-align: right;\">\n",
       "      <th></th>\n",
       "      <th>RandomForestClassifier_bogo_3</th>\n",
       "      <th>RandomForestClassifier_discount_2</th>\n",
       "      <th>RandomForestClassifier_info_2</th>\n",
       "    </tr>\n",
       "  </thead>\n",
       "  <tbody>\n",
       "    <tr>\n",
       "      <th>pred_time</th>\n",
       "      <td>0.041833</td>\n",
       "      <td>0.039107</td>\n",
       "      <td>0.015864</td>\n",
       "    </tr>\n",
       "    <tr>\n",
       "      <th>testing_score</th>\n",
       "      <td>0.828316</td>\n",
       "      <td>0.874656</td>\n",
       "      <td>0.753042</td>\n",
       "    </tr>\n",
       "    <tr>\n",
       "      <th>train_time</th>\n",
       "      <td>0.263647</td>\n",
       "      <td>0.258940</td>\n",
       "      <td>0.096562</td>\n",
       "    </tr>\n",
       "    <tr>\n",
       "      <th>training_score</th>\n",
       "      <td>0.846882</td>\n",
       "      <td>0.867570</td>\n",
       "      <td>0.759534</td>\n",
       "    </tr>\n",
       "  </tbody>\n",
       "</table>\n",
       "</div>"
      ],
      "text/plain": [
       "                RandomForestClassifier_bogo_3  \\\n",
       "pred_time                            0.041833   \n",
       "testing_score                        0.828316   \n",
       "train_time                           0.263647   \n",
       "training_score                       0.846882   \n",
       "\n",
       "                RandomForestClassifier_discount_2  \\\n",
       "pred_time                                0.039107   \n",
       "testing_score                            0.874656   \n",
       "train_time                               0.258940   \n",
       "training_score                           0.867570   \n",
       "\n",
       "                RandomForestClassifier_info_2  \n",
       "pred_time                            0.015864  \n",
       "testing_score                        0.753042  \n",
       "train_time                           0.096562  \n",
       "training_score                       0.759534  "
      ]
     },
     "execution_count": 120,
     "metadata": {},
     "output_type": "execute_result"
    }
   ],
   "source": [
    "#get best model overall for bogo,discount and info offers\n",
    "best_model('bogo').append([best_model('discount'),best_model('info')]).transpose()"
   ]
  },
  {
   "cell_type": "markdown",
   "metadata": {},
   "source": [
    "Overall, we can see that the top performing models are the 3rd model  for predicting effectiveness of BOGO and discount offers.\n",
    "\n",
    "In order to find the most influential drivers of an effective offer, we can check the feature importances of our best models above."
   ]
  },
  {
   "cell_type": "markdown",
   "metadata": {},
   "source": [
    "##### Show feature importance for BOGO 3 model"
   ]
  },
  {
   "cell_type": "code",
   "execution_count": 121,
   "metadata": {},
   "outputs": [
    {
     "data": {
      "image/png": "[encoded data removed]",
      "text/plain": [
       "<matplotlib.figure.Figure at 0x7fdf918a11d0>"
      ]
     },
     "metadata": {
      "needs_background": "light"
     },
     "output_type": "display_data"
    },
    {
     "data": {
      "image/png": "[encoded data removed]",
      "text/plain": [
       "<matplotlib.figure.Figure at 0x7fdf91986588>"
      ]
     },
     "metadata": {
      "needs_background": "light"
     },
     "output_type": "display_data"
    }
   ],
   "source": [
    "# Prepare data same as BOGO 3 model\n",
    "drop_cols_prep=['person','offer_id','effective_offer','offer_type','amount_invalid']\n",
    "features,target=data_prep(offers_bogo,drop_cols_prep)\n",
    "\n",
    "# Best BOGO model\n",
    "feature_importances = pd.DataFrame(bogo_3.feature_importances_,\n",
    "                                   index = features.columns,\n",
    "                                    columns=['importance']).sort_values('importance',ascending=False)\n",
    "feature_importances.plot.bar()\n",
    "plt.title('Best BOGO model feature importance')\n",
    "plt.show()\n",
    "\n",
    "# Discount 3 model\n",
    "feature_importances = pd.DataFrame(discount_3.feature_importances_,\n",
    "                                   index = features.columns,\n",
    "                                    columns=['importance']).sort_values('importance',ascending=False)\n",
    "feature_importances.plot.bar()\n",
    "plt.title('Best discount model feature importance')\n",
    "plt.show()"
   ]
  },
  {
   "cell_type": "code",
   "execution_count": 122,
   "metadata": {},
   "outputs": [
    {
     "data": {
      "image/png": "[encoded data removed]",
      "text/plain": [
       "<matplotlib.figure.Figure at 0x7fdf91b91b00>"
      ]
     },
     "metadata": {
      "needs_background": "light"
     },
     "output_type": "display_data"
    }
   ],
   "source": [
    "\n",
    "# Prepare data similar to info_2 state\n",
    "drop_cols_prep=['person','offer_id','effective_offer','offer_type']\n",
    "features,target=data_prep(offers_discount,drop_cols_prep)\n",
    "\n",
    "# Show the feature importance\n",
    "feature_importances = pd.DataFrame(info_2.feature_importances_,\n",
    "                                   index = features.columns,\n",
    "                                    columns=['importance']).sort_values('importance',ascending=False)\n",
    "feature_importances.plot.bar()\n",
    "plt.title('Best info model feature importance')\n",
    "plt.show()"
   ]
  },
  {
   "cell_type": "markdown",
   "metadata": {},
   "source": [
    "Checking on the feature importance to analyse the main drivers of an effective offer, we can see that the most important driver of effective offers across all three are the tenure of membership. However, the 2nd most important feature is different for each of the three models.\n",
    "\n",
    "The feature importances for the informational offer models are more distributed compared to the BOGO and discount models, with income being the 2nd most important feature. Age is the third and mobile channel interestingly being the 4th."
   ]
  },
  {
   "cell_type": "markdown",
   "metadata": {},
   "source": [
    "### c. Exploration on users in Groups 3 and 4 \n",
    "\n",
    "We had earlier delineated those in groups 3 and 4 as people who would purchase regardless of viewing any offers. Now we can do some exploratory analyses to see what kind of demographic this group of users consist of.\n",
    "\n",
    "**c.1. Data Preparation:**\n",
    "\n",
    "I need to append the data from all groups from the three offer types together, then compare the characteristics of each group via visualizations."
   ]
  },
  {
   "cell_type": "code",
   "execution_count": 123,
   "metadata": {},
   "outputs": [],
   "source": [
    "# Perform appending datasets together\n",
    "# Grp 3+4\n",
    "grp3_4=grp3_bogo.append(grp3_discount,sort=False)\n",
    "grp3_4=grp3_4.append(grp3_info,sort=False)\n",
    "grp3_4=grp3_4.append(grp4_bogo,sort=False)\n",
    "grp3_4=grp3_4.append(grp4_discount,sort=False)\n",
    "grp3_4=grp3_4.append(grp4_info,sort=False)\n",
    "\n",
    "# Grp1\n",
    "grp1_all=grp1_bogo.append(grp1_discount,sort=False)\n",
    "grp1_all=grp1_all.append(grp1_info,sort=False)\n",
    "\n",
    "# Grp2\n",
    "grp2_all=grp2_bogo.append(grp2_discount,sort=False)\n",
    "grp2_all=grp2_all.append(grp2_info,sort=False)"
   ]
  },
  {
   "cell_type": "code",
   "execution_count": 124,
   "metadata": {},
   "outputs": [],
   "source": [
    "# Get unique\n",
    "grp3_4=grp3_4[['person','offer_id']].groupby(['person','offer_id']).count().reset_index()\n",
    "grp1_all=grp1_all[['person','offer_id']].groupby(['person','offer_id']).count().reset_index()\n",
    "grp2_all=grp2_all[['person','offer_id']].groupby(['person','offer_id']).count().reset_index()\n",
    "\n",
    "# Get membership tenure days\n",
    "grp3_4=member(grp3_4)\n",
    "grp1_all=member(grp1_all)\n",
    "grp2_all=member(grp2_all)"
   ]
  },
  {
   "cell_type": "code",
   "execution_count": 125,
   "metadata": {},
   "outputs": [],
   "source": [
    "# Merge with transcript to check transaction amount\n",
    "grp3_4=grp3_4.merge(transcript[['person','offer_id','amount']].groupby(['person','offer_id']).sum(),on=['person','offer_id'],how='left')\n",
    "grp1_all=grp1_all.merge(transcript[['person','offer_id','amount']].groupby(['person','offer_id']).sum(),on=['person','offer_id'],how='left')\n",
    "grp2_all=grp2_all.merge(transcript[['person','offer_id','amount']].groupby(['person','offer_id']).sum(),on=['person','offer_id'],how='left')"
   ]
  },
  {
   "cell_type": "markdown",
   "metadata": {},
   "source": [
    "We should also clean the dataset of null values, similar to the preparation of the datasets above for modeling."
   ]
  },
  {
   "cell_type": "code",
   "execution_count": 126,
   "metadata": {},
   "outputs": [
    {
     "name": "stdout",
     "output_type": "stream",
     "text": [
      "For grp 3 and 4:\n",
      "person                    0.000000\n",
      "offer_id                  0.000000\n",
      "age                       0.000000\n",
      "gender                    9.019155\n",
      "income                    9.019155\n",
      "membership_tenure_days    0.000000\n",
      "amount                    0.000000\n",
      "dtype: float64\n",
      "For grp 1:\n",
      "person                    0.000000\n",
      "offer_id                  0.000000\n",
      "age                       0.000000\n",
      "gender                    5.896762\n",
      "income                    5.896762\n",
      "membership_tenure_days    0.000000\n",
      "amount                    0.000000\n",
      "dtype: float64\n",
      "For grp 2:\n",
      "person                     0.000000\n",
      "offer_id                   0.000000\n",
      "age                        0.000000\n",
      "gender                    21.131608\n",
      "income                    21.131608\n",
      "membership_tenure_days     0.000000\n",
      "amount                     0.000000\n",
      "dtype: float64\n"
     ]
    }
   ],
   "source": [
    "# Check null values and then drop null\n",
    "print(\"For grp 3 and 4:\")\n",
    "print((grp3_4.isnull().sum()/len(grp3_4))*100)\n",
    "grp3_4=grp3_4.dropna()\n",
    "\n",
    "print(\"For grp 1:\")\n",
    "print((grp1_all.isnull().sum()/len(grp1_all))*100)\n",
    "grp1_all=grp1_all.dropna()\n",
    "\n",
    "print(\"For grp 2:\")\n",
    "print((grp2_all.isnull().sum()/len(grp2_all))*100)\n",
    "grp2_all=grp2_all.dropna()"
   ]
  },
  {
   "cell_type": "code",
   "execution_count": 127,
   "metadata": {},
   "outputs": [
    {
     "name": "stdout",
     "output_type": "stream",
     "text": [
      "Size of group 1: 26507\n",
      "Size of group 3+4: 18904\n",
      "Size of group 2: 5729\n"
     ]
    }
   ],
   "source": [
    "#check size of groups\n",
    "print(\"Size of group 1: \"+ str(len(grp1_all['person'])))\n",
    "print(\"Size of group 3+4: \"+ str(len(grp3_4['person'])))\n",
    "print(\"Size of group 2: \"+ str(len(grp2_all['person'])))"
   ]
  },
  {
   "cell_type": "markdown",
   "metadata": {},
   "source": [
    "That group 1 is the largest, while group 2 is the smallest, which is unsurprising as we had seen that the classes in our datasets were imbalanced in favour of positive classes (i.e. `effective_offers=1`). \n",
    "\n",
    "**c.2. Exploration of demographic characteristics:**\n",
    "\n",
    "I created a function to efficiently visualize the groups together."
   ]
  },
  {
   "cell_type": "code",
   "execution_count": 128,
   "metadata": {},
   "outputs": [],
   "source": [
    "# Define function for multiple histograms\n",
    "def plot_hist(variable,bins=None):\n",
    "    plt.hist(grp1_all[variable],alpha=0.5, label='group 1',bins=bins)\n",
    "    plt.hist(grp3_4[variable], alpha=0.5, label='group 3 and 4',bins=bins)\n",
    "    plt.hist(grp2_all[variable], alpha=0.5, label='group 2',bins=bins)\n",
    "    plt.legend(loc='upper right')\n",
    "    plt.title('The distribution of '+ variable + ' between groups')\n",
    "    plt.show()"
   ]
  },
  {
   "cell_type": "markdown",
   "metadata": {},
   "source": [
    "First, we explore the income distribution between the 3 groups."
   ]
  },
  {
   "cell_type": "code",
   "execution_count": 129,
   "metadata": {},
   "outputs": [
    {
     "data": {
      "image/png": "[encoded data removed]",
      "text/plain": [
       "<matplotlib.figure.Figure at 0x7fdf91915128>"
      ]
     },
     "metadata": {
      "needs_background": "light"
     },
     "output_type": "display_data"
    }
   ],
   "source": [
    "#plot distribution of income\n",
    "plot_hist('income')"
   ]
  },
  {
   "cell_type": "markdown",
   "metadata": {},
   "source": [
    "The income distribution between the 3 segments are relatively similar."
   ]
  },
  {
   "cell_type": "code",
   "execution_count": 130,
   "metadata": {},
   "outputs": [
    {
     "data": {
      "image/png": "[encoded data removed]",
      "text/plain": [
       "<matplotlib.figure.Figure at 0x7fdf918f5a58>"
      ]
     },
     "metadata": {
      "needs_background": "light"
     },
     "output_type": "display_data"
    }
   ],
   "source": [
    "#plot ditribution of age\n",
    "plot_hist('age')"
   ]
  },
  {
   "cell_type": "markdown",
   "metadata": {},
   "source": [
    "Age distribution looks relatively similar between the 3 groups as well, with most people between the age 40-80 years old."
   ]
  },
  {
   "cell_type": "code",
   "execution_count": 131,
   "metadata": {},
   "outputs": [
    {
     "data": {
      "image/png": "[encoded data removed]",
      "text/plain": [
       "<matplotlib.figure.Figure at 0x7fdf9189d908>"
      ]
     },
     "metadata": {
      "needs_background": "light"
     },
     "output_type": "display_data"
    }
   ],
   "source": [
    "#plot distribution of amount spent given an effective offer\n",
    "plot_hist('amount',bins=1)"
   ]
  },
  {
   "cell_type": "markdown",
   "metadata": {},
   "source": [
    "Group 2 are people who did not spend at all as the offers were ineffective on them, hence they are not in the graph. "
   ]
  },
  {
   "cell_type": "code",
   "execution_count": 132,
   "metadata": {},
   "outputs": [
    {
     "data": {
      "image/png": "[encoded data removed]",
      "text/plain": [
       "<matplotlib.figure.Figure at 0x7fdf9189d2b0>"
      ]
     },
     "metadata": {
      "needs_background": "light"
     },
     "output_type": "display_data"
    }
   ],
   "source": [
    "#plot tenure of membership\n",
    "plot_hist('membership_tenure_days')"
   ]
  },
  {
   "cell_type": "markdown",
   "metadata": {},
   "source": [
    "The distribution of membership tenure also looks similar between the 3 segments, with most people between 0-700 days of tenure."
   ]
  },
  {
   "cell_type": "markdown",
   "metadata": {},
   "source": [
    "### d. Potential all in one model\n",
    "\n",
    "We could predict the effectiveness of an offer if the offer type was included as a categorical feature."
   ]
  },
  {
   "cell_type": "code",
   "execution_count": 133,
   "metadata": {},
   "outputs": [],
   "source": [
    "#append datasets together\n",
    "offers_bogo['offer_type']='bogo'\n",
    "offers_info['offer_type']='informational'\n",
    "offers_discount['offer_type']='discount'\n",
    "offers=offers_discount.append(offers_bogo,sort=False)\n",
    "offers=offers.append(offers_info,sort=False)\n",
    "\n",
    "#create dummy variable for offer_type categorical variable\n",
    "offers=dummy(offers,'offer_type')"
   ]
  },
  {
   "cell_type": "code",
   "execution_count": 134,
   "metadata": {},
   "outputs": [
    {
     "data": {
      "text/plain": [
       "{'max_depth': 20,\n",
       " 'max_features': 'auto',\n",
       " 'min_samples_leaf': 15,\n",
       " 'min_samples_split': 2,\n",
       " 'n_estimators': 50}"
      ]
     },
     "execution_count": 134,
     "metadata": {},
     "output_type": "execute_result"
    }
   ],
   "source": [
    "# do grid search to find optimal parameters for RF model\n",
    "drop_cols_prep=['person','offer_id','effective_offer','amount_invalid']\n",
    "features,target=data_prep(offers,drop_cols_prep)\n",
    "X_train, X_test, y_train, y_test=model_pipeline(features,target)\n",
    "\n",
    "rand_forest_param_selection(X_train, y_train)"
   ]
  },
  {
   "cell_type": "code",
   "execution_count": 135,
   "metadata": {},
   "outputs": [
    {
     "name": "stdout",
     "output_type": "stream",
     "text": [
      "The DecisionTreeClassifier model is trained for 25594 samples.\n",
      "The Mean Squared Error Score by train dataset: 0.1761\n",
      "The Mean Squared Error Score by test datase: 0.1753\n",
      "The Accuracy Score by train dataset:0.8239\n",
      "The Accuracy Score by test dataset:0.8247\n",
      "             precision    recall  f1-score   support\n",
      "\n",
      "          0     0.5269    0.0778    0.1356      1131\n",
      "          1     0.8326    0.9850    0.9024      5268\n",
      "\n",
      "avg / total     0.7786    0.8247    0.7669      6399\n",
      "\n",
      "The RandomForestClassifier model is trained for 25594 samples.\n",
      "The Mean Squared Error Score by train dataset: 0.1638\n",
      "The Mean Squared Error Score by test datase: 0.1749\n",
      "The Accuracy Score by train dataset:0.8362\n",
      "The Accuracy Score by test dataset:0.8251\n",
      "             precision    recall  f1-score   support\n",
      "\n",
      "          0     0.5316    0.0893    0.1529      1131\n",
      "          1     0.8341    0.9831    0.9025      5268\n",
      "\n",
      "avg / total     0.7806    0.8251    0.7700      6399\n",
      "\n"
     ]
    }
   ],
   "source": [
    "# Config for test model\n",
    "drop_cols_prep=['person','offer_id','effective_offer','amount_invalid']\n",
    "features,target=data_prep(offers,drop_cols_prep)\n",
    "X_train, X_test, y_train, y_test=model_pipeline(features,target)\n",
    "\n",
    "#Initialize the model\n",
    "all_in_one = RandomForestClassifier(random_state=5,criterion='gini',max_depth= 20, max_features= 'auto',min_samples_split= 2,n_estimators=50,min_samples_leaf=15)\n",
    "\n",
    "results=pd.concat([results[:],run_model(baseline,all_in_one,'all_in_one')],axis=1)"
   ]
  },
  {
   "cell_type": "code",
   "execution_count": 136,
   "metadata": {},
   "outputs": [
    {
     "data": {
      "text/html": [
       "<div>\n",
       "<style scoped>\n",
       "    .dataframe tbody tr th:only-of-type {\n",
       "        vertical-align: middle;\n",
       "    }\n",
       "\n",
       "    .dataframe tbody tr th {\n",
       "        vertical-align: top;\n",
       "    }\n",
       "\n",
       "    .dataframe thead th {\n",
       "        text-align: right;\n",
       "    }\n",
       "</style>\n",
       "<table border=\"1\" class=\"dataframe\">\n",
       "  <thead>\n",
       "    <tr style=\"text-align: right;\">\n",
       "      <th></th>\n",
       "      <th>RandomForestClassifier_bogo_3</th>\n",
       "      <th>RandomForestClassifier_discount_3</th>\n",
       "      <th>RandomForestClassifier_info_2</th>\n",
       "      <th>DecisionTreeClassifier_all_in_one</th>\n",
       "      <th>RandomForestClassifier_all_in_one</th>\n",
       "    </tr>\n",
       "  </thead>\n",
       "  <tbody>\n",
       "    <tr>\n",
       "      <th>pred_time</th>\n",
       "      <td>0.041833</td>\n",
       "      <td>0.041500</td>\n",
       "      <td>0.015864</td>\n",
       "      <td>0.002386</td>\n",
       "      <td>0.191820</td>\n",
       "    </tr>\n",
       "    <tr>\n",
       "      <th>testing_score</th>\n",
       "      <td>0.828316</td>\n",
       "      <td>0.873477</td>\n",
       "      <td>0.753042</td>\n",
       "      <td>0.824660</td>\n",
       "      <td>0.825129</td>\n",
       "    </tr>\n",
       "    <tr>\n",
       "      <th>train_time</th>\n",
       "      <td>0.263647</td>\n",
       "      <td>0.256315</td>\n",
       "      <td>0.096562</td>\n",
       "      <td>0.055225</td>\n",
       "      <td>1.095602</td>\n",
       "    </tr>\n",
       "    <tr>\n",
       "      <th>training_score</th>\n",
       "      <td>0.846882</td>\n",
       "      <td>0.869044</td>\n",
       "      <td>0.759534</td>\n",
       "      <td>0.823904</td>\n",
       "      <td>0.836212</td>\n",
       "    </tr>\n",
       "  </tbody>\n",
       "</table>\n",
       "</div>"
      ],
      "text/plain": [
       "                RandomForestClassifier_bogo_3  \\\n",
       "pred_time                            0.041833   \n",
       "testing_score                        0.828316   \n",
       "train_time                           0.263647   \n",
       "training_score                       0.846882   \n",
       "\n",
       "                RandomForestClassifier_discount_3  \\\n",
       "pred_time                                0.041500   \n",
       "testing_score                            0.873477   \n",
       "train_time                               0.256315   \n",
       "training_score                           0.869044   \n",
       "\n",
       "                RandomForestClassifier_info_2  \\\n",
       "pred_time                            0.015864   \n",
       "testing_score                        0.753042   \n",
       "train_time                           0.096562   \n",
       "training_score                       0.759534   \n",
       "\n",
       "                DecisionTreeClassifier_all_in_one  \\\n",
       "pred_time                                0.002386   \n",
       "testing_score                            0.824660   \n",
       "train_time                               0.055225   \n",
       "training_score                           0.823904   \n",
       "\n",
       "                RandomForestClassifier_all_in_one  \n",
       "pred_time                                0.191820  \n",
       "testing_score                            0.825129  \n",
       "train_time                               1.095602  \n",
       "training_score                           0.836212  "
      ]
     },
     "execution_count": 136,
     "metadata": {},
     "output_type": "execute_result"
    }
   ],
   "source": [
    "#comparing best performance of all 3 models with all_in_one model\n",
    "results[['RandomForestClassifier_bogo_3','RandomForestClassifier_discount_3','RandomForestClassifier_info_2','DecisionTreeClassifier_all_in_one','RandomForestClassifier_all_in_one']]"
   ]
  },
  {
   "cell_type": "code",
   "execution_count": 137,
   "metadata": {},
   "outputs": [
    {
     "data": {
      "image/png": "[encoded data removed]",
      "text/plain": [
       "<matplotlib.figure.Figure at 0x7fdf91a53ba8>"
      ]
     },
     "metadata": {
      "needs_background": "light"
     },
     "output_type": "display_data"
    }
   ],
   "source": [
    "results.loc[['testing_score'],['RandomForestClassifier_bogo_3','RandomForestClassifier_discount_3','RandomForestClassifier_info_2','DecisionTreeClassifier_all_in_one','RandomForestClassifier_all_in_one']].plot.bar()\n",
    "plt.title('Comparing testing set accuracy score for the 3 models vs all-in-one model')\n",
    "plt.legend(loc=3)\n",
    "plt.show()"
   ]
  },
  {
   "cell_type": "markdown",
   "metadata": {},
   "source": [
    "Comparing the performance of the 3 best models for each offer type with the all_in_one model.\n",
    "\n",
    "We can se that having the all-in-one model is not as good as the RF bogo and discount models, and is about slightly better than the info model. This is probably due to the info model pulling down the performance, resulting in lower accuracy for the all in one model.\n",
    "\n",
    "So I would actually suggest that the 3 separate models are more useful."
   ]
  },
  {
   "cell_type": "markdown",
   "metadata": {},
   "source": [
    "### e. Given an effective offer\n",
    "\n",
    "In addition to the all in one model, since we already kept the datasets of effective transactions, I was curious to know if I could build a regression model to predict how much someone would spend, given an effective offer.\n",
    "\n",
    "So we have already assigned effective offers based on group 1 customers. From there, we just need to sum up their amount of spend driven by offers to see if we can predict how much someone would spend depending on the offer type."
   ]
  },
  {
   "cell_type": "code",
   "execution_count": 138,
   "metadata": {},
   "outputs": [],
   "source": [
    "#append all 3 datasets together\n",
    "grp1=grp1_bogo.append(grp1_discount,sort=False)\n",
    "grp1=grp1.append(grp1_info,sort=False)\n",
    "\n",
    "#drop unnecessary columns\n",
    "drop_cols('effective_offer',grp1,inplace=True)\n",
    "\n",
    "#get offer details\n",
    "grp1=grp1.merge(portfolio,how='left',on='offer_id')"
   ]
  },
  {
   "cell_type": "markdown",
   "metadata": {},
   "source": [
    "We only take into account transactions that are influenced by an offer (i.e. `valid_completed=1`)"
   ]
  },
  {
   "cell_type": "code",
   "execution_count": 139,
   "metadata": {
    "scrolled": true
   },
   "outputs": [],
   "source": [
    "#get sum of valid transactions per person based on unique person and offer_id pair\n",
    "grp1=grp1.merge(transcript[['person','offer_id','amount']][transcript['valid_completed']==1].groupby(['person','offer_id']).sum(),on=['person','offer_id'])"
   ]
  },
  {
   "cell_type": "code",
   "execution_count": 140,
   "metadata": {},
   "outputs": [],
   "source": [
    "#get demographic data and membership_tenure details\n",
    "grp1=member(grp1)\n",
    "\n",
    "#reset index for offers_info\n",
    "grp1=drop_cols('index',grp1.reset_index())\n",
    "\n",
    "#reuse offers_info channel_col function to expand channel column into categorical variables\n",
    "channel_col('web',grp1)\n",
    "channel_col('email',grp1)\n",
    "channel_col('mobile',grp1)\n",
    "channel_col('social',grp1);\n",
    "drop_cols('channels',grp1,inplace=True);\n",
    "\n",
    "grp1=prep_offers_df(grp1)\n",
    "\n",
    "# Encode offer type\n",
    "grp1=dummy(grp1,'offer_type')"
   ]
  },
  {
   "cell_type": "markdown",
   "metadata": {},
   "source": [
    "We need to prevent multicollinearity by reducing the level of the dummy variables by 1, dropping those columns."
   ]
  },
  {
   "cell_type": "code",
   "execution_count": 141,
   "metadata": {},
   "outputs": [],
   "source": [
    "#add one level of dummy variable to drop\n",
    "drop_cols_prep=['person', 'offer_id','amount','social','gender_O','offer_type_informational']\n",
    "target=grp1['amount']\n",
    "features=drop_cols(drop_cols_prep,grp1)"
   ]
  },
  {
   "cell_type": "markdown",
   "metadata": {},
   "source": [
    "We need to change the metrics such that it is not a classification model.\n",
    "\n",
    "I tweak my `train_predict` and `run_model` functions."
   ]
  },
  {
   "cell_type": "code",
   "execution_count": 142,
   "metadata": {},
   "outputs": [],
   "source": [
    "#tweak train_predict function -\n",
    "def train_predict_reg(learner, X_train, y_train, X_test, y_test): \n",
    "    '''\n",
    "    inputs:\n",
    "       - X_train: training set\n",
    "       - y_train: evaluate the scores rating for the training set\n",
    "       - X_test: testing set\n",
    "       - y_test:evaluate the scores rating for the testing set\n",
    "    \n",
    "    outputs: The result for the Mean Squared Error and Accuracy Scores\n",
    "    \n",
    "    '''\n",
    "    results = {}\n",
    "    \n",
    "    #Fit the learner to the training data and get training time\n",
    "    start = time() \n",
    "    learner = learner.fit(X_train, y_train)\n",
    "    end = time() \n",
    "    results['train_time'] = end-start\n",
    "    \n",
    "    # Get predictions on the test set(X_test), then get predictions on first 300 training samples\n",
    "    start = time() \n",
    "    predictions_test = learner.predict(X_test)\n",
    "    predictions_train = learner.predict(X_train)\n",
    "    end = time() \n",
    "    \n",
    "    # Calculate the total prediction time\n",
    "    results['pred_time'] = end-start\n",
    "    results['training_score']=learner.score(X_train,y_train)\n",
    "    results['testing_score']=learner.score(X_test,y_test)\n",
    "    \n",
    "    print(\"The {} model is trained for {} samples.\".format(learner.__class__.__name__, len(y_train)))\n",
    "    print(\"The Mean Squared Error Score by the training dataset: %.4f\" % mean_squared_error(y_train,predictions_train))\n",
    "    print(\"The Mean Squared Error Score by the testing datase: %.4f\" % mean_squared_error(y_test,predictions_test))\n",
    "    print(\"The Accuracy Score by the training dataset:%.4f\" % results['training_score'])\n",
    "    print(\"The Accuracy Score by the testing dataset:%.4f\" % results['testing_score'])\n",
    "    return results"
   ]
  },
  {
   "cell_type": "code",
   "execution_count": 143,
   "metadata": {},
   "outputs": [],
   "source": [
    "def run_model_reg(clf1,clf2,name):\n",
    "    '''\n",
    "    input: clf1: baseline regression model, clf2: 2nd regression model, name: name to keep track\n",
    "    \n",
    "    output:\n",
    "    - dataframe containing results of training and prediction of model\n",
    "    \n",
    "    '''\n",
    "    \n",
    "    # Collect results\n",
    "    results = {}\n",
    "    for clf in [clf1, clf2]:\n",
    "        clf_name = clf.__class__.__name__ + '_' +name\n",
    "        results[clf_name] = {}\n",
    "        results[clf_name]= train_predict_reg(clf, X_train, y_train, X_test, y_test)\n",
    "        \n",
    "    return pd.DataFrame(results)"
   ]
  },
  {
   "cell_type": "code",
   "execution_count": 144,
   "metadata": {},
   "outputs": [
    {
     "name": "stdout",
     "output_type": "stream",
     "text": [
      "The Ridge model is trained for 21011 samples.\n",
      "The Mean Squared Error Score by the training dataset: 5149.4918\n",
      "The Mean Squared Error Score by the testing datase: 5264.4857\n",
      "The Accuracy Score by the training dataset:0.0901\n",
      "The Accuracy Score by the testing dataset:0.0863\n",
      "The DecisionTreeRegressor model is trained for 21011 samples.\n",
      "The Mean Squared Error Score by the training dataset: 0.0410\n",
      "The Mean Squared Error Score by the testing datase: 11106.1821\n",
      "The Accuracy Score by the training dataset:1.0000\n",
      "The Accuracy Score by the testing dataset:-0.9277\n"
     ]
    }
   ],
   "source": [
    "X_train, X_test, y_train, y_test=model_pipeline_poly(features,target,2)\n",
    "\n",
    "#Initialize the model\n",
    "clf1 = Ridge(alpha=2,random_state=2)\n",
    "clf2 = DecisionTreeRegressor(random_state=2)\n",
    "\n",
    "results_reg=run_model_reg(clf1,clf2,'reg')"
   ]
  },
  {
   "cell_type": "code",
   "execution_count": 145,
   "metadata": {},
   "outputs": [
    {
     "data": {
      "text/html": [
       "<div>\n",
       "<style scoped>\n",
       "    .dataframe tbody tr th:only-of-type {\n",
       "        vertical-align: middle;\n",
       "    }\n",
       "\n",
       "    .dataframe tbody tr th {\n",
       "        vertical-align: top;\n",
       "    }\n",
       "\n",
       "    .dataframe thead th {\n",
       "        text-align: right;\n",
       "    }\n",
       "</style>\n",
       "<table border=\"1\" class=\"dataframe\">\n",
       "  <thead>\n",
       "    <tr style=\"text-align: right;\">\n",
       "      <th></th>\n",
       "      <th>Ridge_reg</th>\n",
       "      <th>DecisionTreeRegressor_reg</th>\n",
       "    </tr>\n",
       "  </thead>\n",
       "  <tbody>\n",
       "    <tr>\n",
       "      <th>pred_time</th>\n",
       "      <td>0.098494</td>\n",
       "      <td>0.011639</td>\n",
       "    </tr>\n",
       "    <tr>\n",
       "      <th>testing_score</th>\n",
       "      <td>0.086260</td>\n",
       "      <td>-0.927664</td>\n",
       "    </tr>\n",
       "    <tr>\n",
       "      <th>train_time</th>\n",
       "      <td>0.241394</td>\n",
       "      <td>1.599488</td>\n",
       "    </tr>\n",
       "    <tr>\n",
       "      <th>training_score</th>\n",
       "      <td>0.090122</td>\n",
       "      <td>0.999993</td>\n",
       "    </tr>\n",
       "  </tbody>\n",
       "</table>\n",
       "</div>"
      ],
      "text/plain": [
       "                Ridge_reg  DecisionTreeRegressor_reg\n",
       "pred_time        0.098494                   0.011639\n",
       "testing_score    0.086260                  -0.927664\n",
       "train_time       0.241394                   1.599488\n",
       "training_score   0.090122                   0.999993"
      ]
     },
     "execution_count": 145,
     "metadata": {},
     "output_type": "execute_result"
    }
   ],
   "source": [
    "# Show result final\n",
    "results_reg"
   ]
  },
  {
   "cell_type": "markdown",
   "metadata": {},
   "source": [
    "The regression models really underperformed in terms of predicting the amount spent. \n",
    "\n",
    "We can see the Decision Tree Regressor model really overfit the data, with a very high training score but sub par testing score.\n",
    "\n",
    "I may get better performance if I break the models up into 3 different models based on offer type again"
   ]
  },
  {
   "cell_type": "markdown",
   "metadata": {},
   "source": [
    "## Conclusion\n",
    "\n",
    "Overall, when analysing and building the machine learning models to answer the above questions, reflections on my main challenges and findings are as follows:\n",
    "\n",
    "#### Potential current solution discussion\n",
    "\n",
    "The feature importance given by all 3 models were that the tenure of a member is the biggest predictor of the effectiveness of an offer. Further study would be able to indicate what average tenure days would result in an effective BOGO offer. \n",
    "\n",
    "For all three models, the top 3 variables were the same - membership tenure, income and age.\n",
    "However, the income and age switched orders depending on offer type. \n",
    "\n",
    "For BOGO and discount offers, the distribution of feature importances were relatively equal. However, for informational offers, the distribution is slightly more balanced, with income the second most important variable.\n",
    "\n",
    "We decise using 3 separate models to predict the effectiveness of each offer type ended up with good accuracy for the BOGO and discount models (82.83% for BOGO and 87.35% for discount), while slightly less accurate performance for informational offers (75.3%).\n",
    "We would regard 75% as acceptable in a business setting, as for informational offers, there is no cost involved to inform users of a product.\n",
    "\n",
    "-> Meanwhile, for BOGO and discount models, \n",
    "We are quite happy with the 80% and above accuracy, as in a business setting that would be acceptable to show offers to people, even if the model misclassifies a few, the overall revenue increase might justify the few mistakes. \n",
    "\n",
    "\n",
    "So our our potential solution, when analysing and building the machine learning models to answer the above questions, reflections on my main challenges and findings are as the following:\n",
    "\n",
    "#### Attribution framework for assigning offer_ids for transactions:\n",
    "\n",
    "In order to answer Question 1, I had to first define what an 'effective offer' means using the transactional records. This proved to be the trickiest portion of the project. I had to define a funnel for what what an effective conversion would look like, as we had data on both effective and noneffective conversions.\n",
    "\n",
    "I ended up having to separate the users into 4 different pools, based on their actions in the transcript data:\n",
    "\n",
    "- Group 1: People who are influenced by offers and thus purchase/complete the offer(successful/effective conversion of offer)\n",
    "- Group 2: People who receive and an offer but is not influenced and thus no conversion event (ineffective conversion of offer)\n",
    "- Group 3: People who have conversion events but was not actually influenced by an offer\n",
    "- Group 4: People who receive offers but no views or action taken\n",
    "\n",
    "Even after separating the groups, it was challenging to assign the people in group 3 based on the transactional data. I had to \n",
    "\n",
    "After attributing the conversions to specific offers, the rest of the data preparation and cleaning was relatively straightforward. \n",
    "\n",
    "####  Feature engineering:\n",
    "\n",
    "I decided to do some basic feature engineering as I found the model had slightly underfit on my first attempt in this project, so I had added the feature engineering section later.\n",
    "\n",
    "Overall I found that I could not think of additional features using the time data, even though I had the hunch that the time of receiving the offer might be quite influential in determining whether it is effective or not. \n",
    "\n",
    "#### Model implementation decisions:\n",
    "\n",
    "For the info model, the accuracy was slightly worse as we had less records overall (half of the BOGO and discount models).\n",
    "\n",
    "I believe that if we had more data, I could have gotten the accuracy higher, as there was a clear diverging pattern occurring between the training and testing score as I made decisions to improve the model fit like adding polynomial features and removing 'noisy' features like the amount_invalid feature.\n",
    "\n",
    "An additional note on model selection - I selected tree-based models as I wanted to assess feature importance, but I could have extended this study further by testing a parametric/ regression model (e.g. logistic regression for classification tasks). The feature `membership_tenure_days` might not have been the highest weighted feature, in contrast to how it was in this study.\n",
    "\n",
    "#### Exploring demographics of different customer groups:\n",
    "\n",
    "I was curious to know what the characteristics were of groups 3 and 4, which are customers who are not influenced by an offer at all.\n",
    "\n",
    "I would have liked to have more data to perhaps understand why this group of customers tend to not be influenced by offer, in order to make useful suggestions on how to give a good customer experience to these customers, even if we do not serve them any offers.\n",
    "\n",
    "#### Model accuracy in predicting amount spent given an effective offer\n",
    "\n",
    "The regression model I built out of curiosity to see if we could predict the amount a user would spend, given that they are effectively influenced by an offer. \n",
    "\n",
    "The motivation was that if we can predict how much someone would spend given an offer, perhaps we can assess which offers bring in the most revenue. \n",
    "\n",
    "My model found virtually no correlation between the features provided (namely, offer characteristics and demographics of app users) with the amount spent per user. \n",
    "\n",
    "So I could have broken them up into 3 different models for the 3 offer types, the way I did with the binary classification models, in order to get a better result. However, given that this was just a curiosity and I wanted to explore if the offer type would be a statistically significant predictor feature. \n",
    "\n",
    "In addition, I built an all in one model for this instance. This would be worth exploring further, given more time and data."
   ]
  },
  {
   "cell_type": "code",
   "execution_count": null,
   "metadata": {},
   "outputs": [],
   "source": []
  }
 ],
 "metadata": {
  "kernelspec": {
   "display_name": "Python 3",
   "language": "python",
   "name": "python3"
  },
  "language_info": {
   "codemirror_mode": {
    "name": "ipython",
    "version": 3
   },
   "file_extension": ".py",
   "mimetype": "text/x-python",
   "name": "python",
   "nbconvert_exporter": "python",
   "pygments_lexer": "ipython3",
   "version": "3.6.3"
  }
 },
 "nbformat": 4,
 "nbformat_minor": 2
}
